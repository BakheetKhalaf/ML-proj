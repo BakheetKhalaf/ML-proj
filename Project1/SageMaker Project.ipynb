{
 "cells": [
  {
   "cell_type": "markdown",
   "metadata": {},
   "source": [
    "# Creating a Sentiment Analysis Web App\n",
    "## Using PyTorch and SageMaker\n",
    "\n",
    "_Deep Learning Nanodegree Program | Deployment_\n",
    "\n",
    "---\n",
    "\n",
    "Now that we have a basic understanding of how SageMaker works we will try to use it to construct a complete project from end to end. Our goal will be to have a simple web page which a user can use to enter a movie review. The web page will then send the review off to our deployed model which will predict the sentiment of the entered review.\n",
    "\n",
    "## Instructions\n",
    "\n",
    "Some template code has already been provided for you, and you will need to implement additional functionality to successfully complete this notebook. You will not need to modify the included code beyond what is requested. Sections that begin with '**TODO**' in the header indicate that you need to complete or implement some portion within them. Instructions will be provided for each section and the specifics of the implementation are marked in the code block with a `# TODO: ...` comment. Please be sure to read the instructions carefully!\n",
    "\n",
    "In addition to implementing code, there will be questions for you to answer which relate to the task and your implementation. Each section where you will answer a question is preceded by a '**Question:**' header. Carefully read each question and provide your answer below the '**Answer:**' header by editing the Markdown cell.\n",
    "\n",
    "> **Note**: Code and Markdown cells can be executed using the **Shift+Enter** keyboard shortcut. In addition, a cell can be edited by typically clicking it (double-click for Markdown cells) or by pressing **Enter** while it is highlighted.\n",
    "\n",
    "## General Outline\n",
    "\n",
    "Recall the general outline for SageMaker projects using a notebook instance.\n",
    "\n",
    "1. Download or otherwise retrieve the data.\n",
    "2. Process / Prepare the data.\n",
    "3. Upload the processed data to S3.\n",
    "4. Train a chosen model.\n",
    "5. Test the trained model (typically using a batch transform job).\n",
    "6. Deploy the trained model.\n",
    "7. Use the deployed model.\n",
    "\n",
    "For this project, you will be following the steps in the general outline with some modifications. \n",
    "\n",
    "First, you will not be testing the model in its own step. You will still be testing the model, however, you will do it by deploying your model and then using the deployed model by sending the test data to it. One of the reasons for doing this is so that you can make sure that your deployed model is working correctly before moving forward.\n",
    "\n",
    "In addition, you will deploy and use your trained model a second time. In the second iteration you will customize the way that your trained model is deployed by including some of your own code. In addition, your newly deployed model will be used in the sentiment analysis web app."
   ]
  },
  {
   "cell_type": "markdown",
   "metadata": {},
   "source": [
    "## Step 1: Downloading the data\n",
    "\n",
    "As in the XGBoost in SageMaker notebook, we will be using the [IMDb dataset](http://ai.stanford.edu/~amaas/data/sentiment/)\n",
    "\n",
    "> Maas, Andrew L., et al. [Learning Word Vectors for Sentiment Analysis](http://ai.stanford.edu/~amaas/data/sentiment/). In _Proceedings of the 49th Annual Meeting of the Association for Computational Linguistics: Human Language Technologies_. Association for Computational Linguistics, 2011."
   ]
  },
  {
   "cell_type": "code",
   "execution_count": 18,
   "metadata": {},
   "outputs": [
    {
     "name": "stdout",
     "output_type": "stream",
     "text": [
      "mkdir: cannot create directory ‘../data’: File exists\n",
      "--2019-11-28 19:45:21--  http://ai.stanford.edu/~amaas/data/sentiment/aclImdb_v1.tar.gz\n",
      "Resolving ai.stanford.edu (ai.stanford.edu)... 171.64.68.10\n",
      "Connecting to ai.stanford.edu (ai.stanford.edu)|171.64.68.10|:80... connected.\n",
      "HTTP request sent, awaiting response... 200 OK\n",
      "Length: 84125825 (80M) [application/x-gzip]\n",
      "Saving to: ‘../data/aclImdb_v1.tar.gz’\n",
      "\n",
      "../data/aclImdb_v1. 100%[===================>]  80.23M  22.8MB/s    in 3.7s    \n",
      "\n",
      "2019-11-28 19:45:25 (21.8 MB/s) - ‘../data/aclImdb_v1.tar.gz’ saved [84125825/84125825]\n",
      "\n"
     ]
    }
   ],
   "source": [
    "%mkdir ../data\n",
    "!wget -O ../data/aclImdb_v1.tar.gz http://ai.stanford.edu/~amaas/data/sentiment/aclImdb_v1.tar.gz\n",
    "!tar -zxf ../data/aclImdb_v1.tar.gz -C ../data"
   ]
  },
  {
   "cell_type": "code",
   "execution_count": 19,
   "metadata": {},
   "outputs": [
    {
     "name": "stdout",
     "output_type": "stream",
     "text": [
      "cuda\n"
     ]
    }
   ],
   "source": [
    "import torch\n",
    "device = torch.device(\"cuda\" if torch.cuda.is_available() else \"cpu\")\n",
    "print(device)"
   ]
  },
  {
   "cell_type": "markdown",
   "metadata": {},
   "source": [
    "## Step 2: Preparing and Processing the data\n",
    "\n",
    "Also, as in the XGBoost notebook, we will be doing some initial data processing. The first few steps are the same as in the XGBoost example. To begin with, we will read in each of the reviews and combine them into a single input structure. Then, we will split the dataset into a training set and a testing set."
   ]
  },
  {
   "cell_type": "code",
   "execution_count": 20,
   "metadata": {},
   "outputs": [],
   "source": [
    "import os\n",
    "import glob\n",
    "\n",
    "def read_imdb_data(data_dir='../data/aclImdb'):\n",
    "    data = {}\n",
    "    labels = {}\n",
    "    \n",
    "    for data_type in ['train', 'test']:\n",
    "        data[data_type] = {}\n",
    "        labels[data_type] = {}\n",
    "        \n",
    "        for sentiment in ['pos', 'neg']:\n",
    "            data[data_type][sentiment] = []\n",
    "            labels[data_type][sentiment] = []\n",
    "            \n",
    "            path = os.path.join(data_dir, data_type, sentiment, '*.txt')\n",
    "            files = glob.glob(path)\n",
    "            \n",
    "            for f in files:\n",
    "                with open(f) as review:\n",
    "                    data[data_type][sentiment].append(review.read())\n",
    "                    # Here we represent a positive review by '1' and a negative review by '0'\n",
    "                    labels[data_type][sentiment].append(1 if sentiment == 'pos' else 0)\n",
    "                    \n",
    "            assert len(data[data_type][sentiment]) == len(labels[data_type][sentiment]), \\\n",
    "                    \"{}/{} data size does not match labels size\".format(data_type, sentiment)\n",
    "                \n",
    "    return data, labels"
   ]
  },
  {
   "cell_type": "code",
   "execution_count": 21,
   "metadata": {},
   "outputs": [
    {
     "name": "stdout",
     "output_type": "stream",
     "text": [
      "IMDB reviews: train = 12500 pos / 12500 neg, test = 12500 pos / 12500 neg\n"
     ]
    }
   ],
   "source": [
    "data, labels = read_imdb_data()\n",
    "print(\"IMDB reviews: train = {} pos / {} neg, test = {} pos / {} neg\".format(\n",
    "            len(data['train']['pos']), len(data['train']['neg']),\n",
    "            len(data['test']['pos']), len(data['test']['neg'])))\n"
   ]
  },
  {
   "cell_type": "markdown",
   "metadata": {},
   "source": [
    "Now that we've read the raw training and testing data from the downloaded dataset, we will combine the positive and negative reviews and shuffle the resulting records."
   ]
  },
  {
   "cell_type": "code",
   "execution_count": 22,
   "metadata": {},
   "outputs": [],
   "source": [
    "from sklearn.utils import shuffle\n",
    "\n",
    "def prepare_imdb_data(data, labels):\n",
    "    \"\"\"Prepare training and test sets from IMDb movie reviews.\"\"\"\n",
    "    \n",
    "    #Combine positive and negative reviews and labels\n",
    "    data_train = data['train']['pos'] + data['train']['neg']\n",
    "    data_test = data['test']['pos'] + data['test']['neg']\n",
    "    labels_train = labels['train']['pos'] + labels['train']['neg']\n",
    "    labels_test = labels['test']['pos'] + labels['test']['neg']\n",
    "    \n",
    "    #Shuffle reviews and corresponding labels within training and test sets\n",
    "    data_train, labels_train = shuffle(data_train, labels_train)\n",
    "    data_test, labels_test = shuffle(data_test, labels_test)\n",
    "    \n",
    "    # Return a unified training data, test data, training labels, test labets\n",
    "    return data_train, data_test, labels_train, labels_test"
   ]
  },
  {
   "cell_type": "code",
   "execution_count": 23,
   "metadata": {},
   "outputs": [
    {
     "name": "stdout",
     "output_type": "stream",
     "text": [
      "IMDb reviews (combined): train = 25000, test = 25000\n"
     ]
    }
   ],
   "source": [
    "train_X, test_X, train_y, test_y = prepare_imdb_data(data, labels)\n",
    "print(\"IMDb reviews (combined): train = {}, test = {}\".format(len(train_X), len(test_X)))"
   ]
  },
  {
   "cell_type": "markdown",
   "metadata": {},
   "source": [
    "Now that we have our training and testing sets unified and prepared, we should do a quick check and see an example of the data our model will be trained on. This is generally a good idea as it allows you to see how each of the further processing steps affects the reviews and it also ensures that the data has been loaded correctly."
   ]
  },
  {
   "cell_type": "code",
   "execution_count": 24,
   "metadata": {},
   "outputs": [
    {
     "name": "stdout",
     "output_type": "stream",
     "text": [
      "Sergio Martino is a great director, who has contributed a lot to Italian genre cinema and, as far as I am considered, his Gialli from the 1970s are the undisputed highlights in his impressive repertoire. \"La Coda Dello Scorpione\" aka. \"The Case Of The Scorpion's Tale\" of 1971 is one of these impressive films Martino has contributed to Italian Horror's most original sub-genre, and another proof that the man is a master of atmosphere, style and suspense. My personal favorite of the Martino films I've seen so far is still the insanely brilliant \"Your Vice Is A Locked Room And Only I Have The Key\" of 1972, followed by \"Torso\" (1973) and \"The Strange Vice Of Mrs Wardh\" (1971), all of which I personally like even more than this one. That's purely a matter of personal taste, however, as \"La Coda Dello Scorpione\" is an equally excellent film that is essential for every fan of Italian Horror cinema and suspense in general.<br /><br />The film, which delivers tantalizing suspense from the very beginning has a complex and gripping plot that begins with the mysterious demise of a millionaire who has died in a plane crash. Insurance investigator Peter Lynch (George Hilton) is assigned to verify the circumstances the insurance company which is due to pay a large sum to the deceased man's wife. Soon after Lynch begins to investigate, a person is brutally killed, which is just the beginning of a series of murders...<br /><br />\"The Case of the Scorpion's Tail\" excellently delivers all the elements a great Giallo needs. The film is stunningly suspenseful from the beginning, the score by Bruno Nicolai is brilliant, the plot is wonderfully convoluted, and the killer's identity remains a mystery until the end. Regular Giallo leading-man George Hilton once again delivers an excellent performance in the lead. Sexy Anita Strindberg is absolutely ravishing in the female lead. The includes the great Luigi Pistilli, one of the most brilliant regulars of Italian genre-cinema of the 60s and 70s, and Alberto De Mendoza, another great actor who should be familiar to any lover of Italian cinema. Athens, where most of the film takes place, is actually a great setting for a Giallo. The atmosphere is constantly gripping, and the photography great, and Bruno Nicolai's ingenious score makes the suspense even more intense. Long story short: \"La Coda Dello Scorpione\" is another excellent Giallo from Sergio Martino and an absolute must-see for any lover of the sub-genre! Stylish, suspenseful, and great in all regards!\n",
      "1\n"
     ]
    }
   ],
   "source": [
    "print(train_X[100])\n",
    "print(train_y[100])"
   ]
  },
  {
   "cell_type": "markdown",
   "metadata": {},
   "source": [
    "The first step in processing the reviews is to make sure that any html tags that appear should be removed. In addition we wish to tokenize our input, that way words such as *entertained* and *entertaining* are considered the same with regard to sentiment analysis."
   ]
  },
  {
   "cell_type": "code",
   "execution_count": 25,
   "metadata": {},
   "outputs": [],
   "source": [
    "import nltk\n",
    "from nltk.corpus import stopwords\n",
    "from nltk.stem.porter import *\n",
    "\n",
    "import re\n",
    "from bs4 import BeautifulSoup\n",
    "\n",
    "def review_to_words(review):\n",
    "    nltk.download(\"stopwords\", quiet=True)\n",
    "    stemmer = PorterStemmer()\n",
    "    \n",
    "    text = BeautifulSoup(review, \"html.parser\").get_text() # Remove HTML tags\n",
    "    text = re.sub(r\"[^a-zA-Z0-9]\", \" \", text.lower()) # Convert to lower case\n",
    "    words = text.split() # Split string into words\n",
    "    words = [w for w in words if w not in stopwords.words(\"english\")] # Remove stopwords\n",
    "    words = [PorterStemmer().stem(w) for w in words] # stem\n",
    "    \n",
    "    return words"
   ]
  },
  {
   "cell_type": "markdown",
   "metadata": {},
   "source": [
    "The `review_to_words` method defined above uses `BeautifulSoup` to remove any html tags that appear and uses the `nltk` package to tokenize the reviews. As a check to ensure we know how everything is working, try applying `review_to_words` to one of the reviews in the training set."
   ]
  },
  {
   "cell_type": "code",
   "execution_count": 26,
   "metadata": {},
   "outputs": [
    {
     "name": "stdout",
     "output_type": "stream",
     "text": [
      "['sergio', 'martino', 'great', 'director', 'contribut', 'lot', 'italian', 'genr', 'cinema', 'far', 'consid', 'gialli', '1970', 'undisput', 'highlight', 'impress', 'repertoir', 'la', 'coda', 'dello', 'scorpion', 'aka', 'case', 'scorpion', 'tale', '1971', 'one', 'impress', 'film', 'martino', 'contribut', 'italian', 'horror', 'origin', 'sub', 'genr', 'anoth', 'proof', 'man', 'master', 'atmospher', 'style', 'suspens', 'person', 'favorit', 'martino', 'film', 'seen', 'far', 'still', 'insan', 'brilliant', 'vice', 'lock', 'room', 'key', '1972', 'follow', 'torso', '1973', 'strang', 'vice', 'mr', 'wardh', '1971', 'person', 'like', 'even', 'one', 'pure', 'matter', 'person', 'tast', 'howev', 'la', 'coda', 'dello', 'scorpion', 'equal', 'excel', 'film', 'essenti', 'everi', 'fan', 'italian', 'horror', 'cinema', 'suspens', 'gener', 'film', 'deliv', 'tantal', 'suspens', 'begin', 'complex', 'grip', 'plot', 'begin', 'mysteri', 'demis', 'millionair', 'die', 'plane', 'crash', 'insur', 'investig', 'peter', 'lynch', 'georg', 'hilton', 'assign', 'verifi', 'circumst', 'insur', 'compani', 'due', 'pay', 'larg', 'sum', 'deceas', 'man', 'wife', 'soon', 'lynch', 'begin', 'investig', 'person', 'brutal', 'kill', 'begin', 'seri', 'murder', 'case', 'scorpion', 'tail', 'excel', 'deliv', 'element', 'great', 'giallo', 'need', 'film', 'stunningli', 'suspens', 'begin', 'score', 'bruno', 'nicolai', 'brilliant', 'plot', 'wonder', 'convolut', 'killer', 'ident', 'remain', 'mysteri', 'end', 'regular', 'giallo', 'lead', 'man', 'georg', 'hilton', 'deliv', 'excel', 'perform', 'lead', 'sexi', 'anita', 'strindberg', 'absolut', 'ravish', 'femal', 'lead', 'includ', 'great', 'luigi', 'pistilli', 'one', 'brilliant', 'regular', 'italian', 'genr', 'cinema', '60', '70', 'alberto', 'de', 'mendoza', 'anoth', 'great', 'actor', 'familiar', 'lover', 'italian', 'cinema', 'athen', 'film', 'take', 'place', 'actual', 'great', 'set', 'giallo', 'atmospher', 'constantli', 'grip', 'photographi', 'great', 'bruno', 'nicolai', 'ingeni', 'score', 'make', 'suspens', 'even', 'intens', 'long', 'stori', 'short', 'la', 'coda', 'dello', 'scorpion', 'anoth', 'excel', 'giallo', 'sergio', 'martino', 'absolut', 'must', 'see', 'lover', 'sub', 'genr', 'stylish', 'suspens', 'great', 'regard']\n",
      "cuda\n"
     ]
    }
   ],
   "source": [
    "# TODO: Apply review_to_words to a review (train_X[100] or any other review)\n",
    "print(review_to_words(train_X[100]))\n",
    "\n",
    "device = torch.device(\"cuda\" if torch.cuda.is_available() else \"cpu\")\n",
    "print(device)"
   ]
  },
  {
   "cell_type": "markdown",
   "metadata": {},
   "source": [
    "**Question:** Above we mentioned that `review_to_words` method removes html formatting and allows us to tokenize the words found in a review, for example, converting *entertained* and *entertaining* into *entertain* so that they are treated as though they are the same word. What else, if anything, does this method do to the input?"
   ]
  },
  {
   "cell_type": "markdown",
   "metadata": {},
   "source": [
    "**Answer:**The two more functionalities are:\n",
    "\n",
    "#Changing upper-case characters inside word, to lower case\n",
    "\n",
    "#Removing html tags as they are not necessary"
   ]
  },
  {
   "cell_type": "markdown",
   "metadata": {},
   "source": [
    "The method below applies the `review_to_words` method to each of the reviews in the training and testing datasets. In addition it caches the results. This is because performing this processing step can take a long time. This way if you are unable to complete the notebook in the current session, you can come back without needing to process the data a second time."
   ]
  },
  {
   "cell_type": "code",
   "execution_count": 27,
   "metadata": {},
   "outputs": [],
   "source": [
    "import pickle\n",
    "\n",
    "cache_dir = os.path.join(\"../cache\", \"sentiment_analysis\")  # where to store cache files\n",
    "os.makedirs(cache_dir, exist_ok=True)  # ensure cache directory exists\n",
    "\n",
    "def preprocess_data(data_train, data_test, labels_train, labels_test,\n",
    "                    cache_dir=cache_dir, cache_file=\"preprocessed_data.pkl\"):\n",
    "    \"\"\"Convert each review to words; read from cache if available.\"\"\"\n",
    "\n",
    "    # If cache_file is not None, try to read from it first\n",
    "    cache_data = None\n",
    "    if cache_file is not None:\n",
    "        try:\n",
    "            with open(os.path.join(cache_dir, cache_file), \"rb\") as f:\n",
    "                cache_data = pickle.load(f)\n",
    "            print(\"Read preprocessed data from cache file:\", cache_file)\n",
    "        except:\n",
    "            pass  # unable to read from cache, but that's okay\n",
    "    \n",
    "    # If cache is missing, then do the heavy lifting\n",
    "    if cache_data is None:\n",
    "        # Preprocess training and test data to obtain words for each review\n",
    "        #words_train = list(map(review_to_words, data_train))\n",
    "        #words_test = list(map(review_to_words, data_test))\n",
    "        words_train = [review_to_words(review) for review in data_train]\n",
    "        words_test = [review_to_words(review) for review in data_test]\n",
    "        \n",
    "        # Write to cache file for future runs\n",
    "        if cache_file is not None:\n",
    "            cache_data = dict(words_train=words_train, words_test=words_test,\n",
    "                              labels_train=labels_train, labels_test=labels_test)\n",
    "            with open(os.path.join(cache_dir, cache_file), \"wb\") as f:\n",
    "                pickle.dump(cache_data, f)\n",
    "            print(\"Wrote preprocessed data to cache file:\", cache_file)\n",
    "    else:\n",
    "        # Unpack data loaded from cache file\n",
    "        words_train, words_test, labels_train, labels_test = (cache_data['words_train'],\n",
    "                cache_data['words_test'], cache_data['labels_train'], cache_data['labels_test'])\n",
    "    \n",
    "    return words_train, words_test, labels_train, labels_test"
   ]
  },
  {
   "cell_type": "code",
   "execution_count": 28,
   "metadata": {},
   "outputs": [
    {
     "name": "stdout",
     "output_type": "stream",
     "text": [
      "Read preprocessed data from cache file: preprocessed_data.pkl\n"
     ]
    }
   ],
   "source": [
    "# Preprocess data\n",
    "train_X, test_X, train_y, test_y = preprocess_data(train_X, test_X, train_y, test_y)"
   ]
  },
  {
   "cell_type": "markdown",
   "metadata": {},
   "source": [
    "## Transform the data\n",
    "\n",
    "In the XGBoost notebook we transformed the data from its word representation to a bag-of-words feature representation. For the model we are going to construct in this notebook we will construct a feature representation which is very similar. To start, we will represent each word as an integer. Of course, some of the words that appear in the reviews occur very infrequently and so likely don't contain much information for the purposes of sentiment analysis. The way we will deal with this problem is that we will fix the size of our working vocabulary and we will only include the words that appear most frequently. We will then combine all of the infrequent words into a single category and, in our case, we will label it as `1`.\n",
    "\n",
    "Since we will be using a recurrent neural network, it will be convenient if the length of each review is the same. To do this, we will fix a size for our reviews and then pad short reviews with the category 'no word' (which we will label `0`) and truncate long reviews."
   ]
  },
  {
   "cell_type": "markdown",
   "metadata": {},
   "source": [
    "### (TODO) Create a word dictionary\n",
    "\n",
    "To begin with, we need to construct a way to map words that appear in the reviews to integers. Here we fix the size of our vocabulary (including the 'no word' and 'infrequent' categories) to be `5000` but you may wish to change this to see how it affects the model.\n",
    "\n",
    "> **TODO:** Complete the implementation for the `build_dict()` method below. Note that even though the vocab_size is set to `5000`, we only want to construct a mapping for the most frequently appearing `4998` words. This is because we want to reserve the special labels `0` for 'no word' and `1` for 'infrequent word'."
   ]
  },
  {
   "cell_type": "code",
   "execution_count": 29,
   "metadata": {},
   "outputs": [],
   "source": [
    "import numpy as np\n",
    "\n",
    "def build_dict(data, vocab_size = 5000):\n",
    "    \"\"\"Construct and return a dictionary mapping each of the most frequently appearing words to a unique integer.\"\"\"\n",
    "    \n",
    "    # TODO: Determine how often each word appears in `data`. Note that `data` is a list of sentences and that a\n",
    "    #       sentence is a list of words.\n",
    "    \n",
    "    word_count = {} # A dict storing the words that appear in the reviews along with how often they occur\n",
    "    for words in data:\n",
    "        for word in words:\n",
    "            if word in word_count:\n",
    "                word_count[word] += 1\n",
    "            else:\n",
    "                word_count[word] = 1     \n",
    "    # TODO: Sort the words found in `data` so that sorted_words[0] is the most frequently appearing word and\n",
    "    #       sorted_words[-1] is the least frequently appearing word.\n",
    "    sorted_words = [item[0] for item in sorted(word_count.items(), key=lambda x: x[1], reverse=True)]    \n",
    "    \n",
    "    word_dict = {} # This is what we are building, a dictionary that translates words into integers\n",
    "    for idx, word in enumerate(sorted_words[:vocab_size - 2]): # The -2 is so that we save room for the 'no word'\n",
    "        word_dict[word] = idx + 2                              # 'infrequent' labels\n",
    "        \n",
    "    return word_dict"
   ]
  },
  {
   "cell_type": "code",
   "execution_count": 30,
   "metadata": {},
   "outputs": [
    {
     "name": "stdout",
     "output_type": "stream",
     "text": [
      "{'movi': 2, 'film': 3, 'one': 4, 'like': 5, 'time': 6, 'good': 7, 'make': 8, 'charact': 9, 'get': 10, 'see': 11, 'watch': 12, 'stori': 13, 'even': 14, 'would': 15, 'realli': 16, 'well': 17, 'scene': 18, 'look': 19, 'show': 20, 'much': 21, 'end': 22, 'peopl': 23, 'bad': 24, 'go': 25, 'great': 26, 'also': 27, 'first': 28, 'love': 29, 'think': 30, 'way': 31, 'act': 32, 'play': 33, 'made': 34, 'thing': 35, 'could': 36, 'know': 37, 'say': 38, 'seem': 39, 'work': 40, 'plot': 41, 'two': 42, 'actor': 43, 'year': 44, 'come': 45, 'mani': 46, 'seen': 47, 'take': 48, 'want': 49, 'life': 50, 'never': 51, 'littl': 52, 'best': 53, 'tri': 54, 'man': 55, 'ever': 56, 'give': 57, 'better': 58, 'still': 59, 'perform': 60, 'find': 61, 'feel': 62, 'part': 63, 'back': 64, 'use': 65, 'someth': 66, 'director': 67, 'actual': 68, 'interest': 69, 'lot': 70, 'real': 71, 'old': 72, 'cast': 73, 'though': 74, 'live': 75, 'star': 76, 'enjoy': 77, 'guy': 78, 'anoth': 79, 'new': 80, 'role': 81, 'noth': 82, '10': 83, 'funni': 84, 'music': 85, 'point': 86, 'start': 87, 'set': 88, 'girl': 89, 'origin': 90, 'day': 91, 'world': 92, 'everi': 93, 'believ': 94, 'turn': 95, 'quit': 96, 'direct': 97, 'us': 98, 'thought': 99, 'fact': 100, 'minut': 101, 'horror': 102, 'kill': 103, 'action': 104, 'comedi': 105, 'pretti': 106, 'young': 107, 'wonder': 108, 'happen': 109, 'around': 110, 'got': 111, 'effect': 112, 'right': 113, 'long': 114, 'howev': 115, 'big': 116, 'line': 117, 'famili': 118, 'enough': 119, 'seri': 120, 'may': 121, 'need': 122, 'fan': 123, 'bit': 124, 'script': 125, 'beauti': 126, 'person': 127, 'becom': 128, 'without': 129, 'must': 130, 'alway': 131, 'friend': 132, 'tell': 133, 'reason': 134, 'saw': 135, 'last': 136, 'final': 137, 'kid': 138, 'almost': 139, 'put': 140, 'least': 141, 'sure': 142, 'done': 143, 'whole': 144, 'place': 145, 'complet': 146, 'kind': 147, 'differ': 148, 'expect': 149, 'shot': 150, 'far': 151, 'mean': 152, 'anyth': 153, 'book': 154, 'laugh': 155, 'might': 156, 'name': 157, 'sinc': 158, 'begin': 159, '2': 160, 'probabl': 161, 'woman': 162, 'help': 163, 'entertain': 164, 'let': 165, 'screen': 166, 'call': 167, 'tv': 168, 'moment': 169, 'away': 170, 'read': 171, 'yet': 172, 'rather': 173, 'worst': 174, 'run': 175, 'fun': 176, 'lead': 177, 'hard': 178, 'audienc': 179, 'idea': 180, 'anyon': 181, 'episod': 182, 'american': 183, 'found': 184, 'appear': 185, 'bore': 186, 'especi': 187, 'although': 188, 'hope': 189, 'keep': 190, 'cours': 191, 'anim': 192, 'job': 193, 'goe': 194, 'move': 195, 'sens': 196, 'version': 197, 'dvd': 198, 'war': 199, 'money': 200, 'someon': 201, 'mind': 202, 'mayb': 203, 'problem': 204, 'true': 205, 'hous': 206, 'everyth': 207, 'nice': 208, 'second': 209, 'rate': 210, 'three': 211, 'night': 212, 'follow': 213, 'face': 214, 'recommend': 215, 'main': 216, 'product': 217, 'worth': 218, 'leav': 219, 'human': 220, 'special': 221, 'excel': 222, 'togeth': 223, 'wast': 224, 'everyon': 225, 'sound': 226, 'john': 227, 'hand': 228, '1': 229, 'father': 230, 'later': 231, 'eye': 232, 'said': 233, 'view': 234, 'instead': 235, 'review': 236, 'boy': 237, 'high': 238, 'hour': 239, 'miss': 240, 'talk': 241, 'classic': 242, 'wife': 243, 'understand': 244, 'left': 245, 'care': 246, 'black': 247, 'death': 248, 'open': 249, 'murder': 250, 'write': 251, 'half': 252, 'head': 253, 'rememb': 254, 'chang': 255, 'viewer': 256, 'fight': 257, 'gener': 258, 'surpris': 259, 'short': 260, 'includ': 261, 'die': 262, 'fall': 263, 'less': 264, 'els': 265, 'entir': 266, 'piec': 267, 'involv': 268, 'pictur': 269, 'simpli': 270, 'home': 271, 'top': 272, 'power': 273, 'total': 274, 'usual': 275, 'budget': 276, 'attempt': 277, 'suppos': 278, 'releas': 279, 'hollywood': 280, 'terribl': 281, 'song': 282, 'men': 283, 'possibl': 284, 'featur': 285, 'portray': 286, 'disappoint': 287, 'poor': 288, '3': 289, 'coupl': 290, 'camera': 291, 'stupid': 292, 'dead': 293, 'wrong': 294, 'produc': 295, 'low': 296, 'video': 297, 'either': 298, 'aw': 299, 'definit': 300, 'except': 301, 'rest': 302, 'given': 303, 'absolut': 304, 'women': 305, 'lack': 306, 'word': 307, 'writer': 308, 'titl': 309, 'talent': 310, 'decid': 311, 'full': 312, 'perfect': 313, 'along': 314, 'style': 315, 'close': 316, 'truli': 317, 'school': 318, 'save': 319, 'emot': 320, 'sex': 321, 'age': 322, 'next': 323, 'bring': 324, 'mr': 325, 'case': 326, 'killer': 327, 'heart': 328, 'comment': 329, 'sort': 330, 'creat': 331, 'perhap': 332, 'came': 333, 'brother': 334, 'sever': 335, 'joke': 336, 'art': 337, 'dialogu': 338, 'game': 339, 'small': 340, 'base': 341, 'flick': 342, 'written': 343, 'sequenc': 344, 'meet': 345, 'earli': 346, 'often': 347, 'other': 348, 'mother': 349, 'develop': 350, 'humor': 351, 'actress': 352, 'consid': 353, 'dark': 354, 'guess': 355, 'amaz': 356, 'unfortun': 357, 'lost': 358, 'light': 359, 'exampl': 360, 'cinema': 361, 'drama': 362, 'white': 363, 'ye': 364, 'experi': 365, 'imagin': 366, 'mention': 367, 'stop': 368, 'natur': 369, 'forc': 370, 'manag': 371, 'felt': 372, 'present': 373, 'cut': 374, 'children': 375, 'fail': 376, 'son': 377, 'car': 378, 'qualiti': 379, 'support': 380, 'ask': 381, 'hit': 382, 'side': 383, 'voic': 384, 'extrem': 385, 'impress': 386, 'evil': 387, 'wors': 388, 'went': 389, 'stand': 390, 'certainli': 391, 'basic': 392, 'oh': 393, 'overal': 394, 'favorit': 395, 'horribl': 396, 'mysteri': 397, 'number': 398, 'type': 399, 'danc': 400, 'wait': 401, 'hero': 402, '5': 403, 'alreadi': 404, 'learn': 405, 'matter': 406, '4': 407, 'michael': 408, 'genr': 409, 'fine': 410, 'despit': 411, 'throughout': 412, 'walk': 413, 'success': 414, 'histori': 415, 'question': 416, 'zombi': 417, 'town': 418, 'relationship': 419, 'realiz': 420, 'child': 421, 'past': 422, 'daughter': 423, 'late': 424, 'b': 425, 'wish': 426, 'credit': 427, 'hate': 428, 'event': 429, 'theme': 430, 'touch': 431, 'citi': 432, 'today': 433, 'sometim': 434, 'behind': 435, 'god': 436, 'twist': 437, 'sit': 438, 'deal': 439, 'annoy': 440, 'stay': 441, 'abl': 442, 'rent': 443, 'pleas': 444, 'edit': 445, 'blood': 446, 'deserv': 447, 'anyway': 448, 'comic': 449, 'appar': 450, 'soon': 451, 'gave': 452, 'etc': 453, 'level': 454, 'slow': 455, 'chanc': 456, 'score': 457, 'bodi': 458, 'brilliant': 459, 'incred': 460, 'figur': 461, 'situat': 462, 'self': 463, 'major': 464, 'stuff': 465, 'decent': 466, 'element': 467, 'dream': 468, 'return': 469, 'obvious': 470, 'continu': 471, 'order': 472, 'pace': 473, 'ridicul': 474, 'happi': 475, 'group': 476, 'add': 477, 'highli': 478, 'thank': 479, 'ladi': 480, 'novel': 481, 'pain': 482, 'speak': 483, 'career': 484, 'shoot': 485, 'strang': 486, 'heard': 487, 'sad': 488, 'polic': 489, 'husband': 490, 'import': 491, 'break': 492, 'took': 493, 'cannot': 494, 'strong': 495, 'robert': 496, 'predict': 497, 'violenc': 498, 'hilari': 499, 'recent': 500, 'countri': 501, 'known': 502, 'particularli': 503, 'pick': 504, 'documentari': 505, 'season': 506, 'critic': 507, 'jame': 508, 'compar': 509, 'obviou': 510, 'alon': 511, 'told': 512, 'state': 513, 'rock': 514, 'visual': 515, 'theater': 516, 'offer': 517, 'exist': 518, 'opinion': 519, 'gore': 520, 'hold': 521, 'crap': 522, 'result': 523, 'realiti': 524, 'room': 525, 'hear': 526, 'clich': 527, 'effort': 528, 'thriller': 529, 'caus': 530, 'serious': 531, 'sequel': 532, 'explain': 533, 'king': 534, 'local': 535, 'ago': 536, 'none': 537, 'hell': 538, 'note': 539, 'allow': 540, 'sister': 541, 'david': 542, 'simpl': 543, 'femal': 544, 'deliv': 545, 'ok': 546, 'class': 547, 'convinc': 548, 'check': 549, 'suspens': 550, 'win': 551, 'oscar': 552, 'buy': 553, 'huge': 554, 'valu': 555, 'sexual': 556, 'scari': 557, 'cool': 558, 'similar': 559, 'excit': 560, 'provid': 561, 'exactli': 562, 'apart': 563, 'shown': 564, 'avoid': 565, 'seriou': 566, 'english': 567, 'taken': 568, 'whose': 569, 'cinematographi': 570, 'shock': 571, 'polit': 572, 'spoiler': 573, 'offic': 574, 'across': 575, 'middl': 576, 'street': 577, 'pass': 578, 'messag': 579, 'somewhat': 580, 'charm': 581, 'silli': 582, 'modern': 583, 'filmmak': 584, 'confus': 585, 'form': 586, 'tale': 587, 'singl': 588, 'jack': 589, 'mostli': 590, 'carri': 591, 'william': 592, 'attent': 593, 'sing': 594, 'five': 595, 'subject': 596, 'richard': 597, 'prove': 598, 'stage': 599, 'team': 600, 'unlik': 601, 'cop': 602, 'georg': 603, 'televis': 604, 'monster': 605, 'earth': 606, 'cover': 607, 'villain': 608, 'pay': 609, 'marri': 610, 'toward': 611, 'build': 612, 'pull': 613, 'parent': 614, 'due': 615, 'respect': 616, 'fill': 617, 'four': 618, 'dialog': 619, 'remind': 620, 'futur': 621, 'weak': 622, 'typic': 623, '7': 624, 'cheap': 625, 'intellig': 626, 'british': 627, 'atmospher': 628, '80': 629, 'clearli': 630, 'paul': 631, 'dog': 632, 'non': 633, 'knew': 634, 'fast': 635, '8': 636, 'artist': 637, 'crime': 638, 'easili': 639, 'escap': 640, 'adult': 641, 'doubt': 642, 'detail': 643, 'date': 644, 'romant': 645, 'fire': 646, 'member': 647, 'gun': 648, 'drive': 649, 'straight': 650, 'beyond': 651, 'fit': 652, 'attack': 653, 'imag': 654, 'upon': 655, 'posit': 656, 'whether': 657, 'peter': 658, 'fantast': 659, 'captur': 660, 'aspect': 661, 'appreci': 662, 'ten': 663, 'plan': 664, 'discov': 665, 'remain': 666, 'period': 667, 'near': 668, 'air': 669, 'realist': 670, 'mark': 671, 'red': 672, 'dull': 673, 'adapt': 674, 'within': 675, 'spend': 676, 'lose': 677, 'materi': 678, 'color': 679, 'chase': 680, 'mari': 681, 'storylin': 682, 'forget': 683, 'bunch': 684, 'clear': 685, 'lee': 686, 'victim': 687, 'nearli': 688, 'box': 689, 'york': 690, 'match': 691, 'inspir': 692, 'mess': 693, 'finish': 694, 'standard': 695, 'easi': 696, 'truth': 697, 'suffer': 698, 'busi': 699, 'dramat': 700, 'bill': 701, 'space': 702, 'western': 703, 'e': 704, 'list': 705, 'battl': 706, 'notic': 707, 'de': 708, 'french': 709, 'ad': 710, '9': 711, 'tom': 712, 'larg': 713, 'among': 714, 'eventu': 715, 'train': 716, 'accept': 717, 'agre': 718, 'soundtrack': 719, 'spirit': 720, 'third': 721, 'teenag': 722, 'soldier': 723, 'adventur': 724, 'sorri': 725, 'famou': 726, 'drug': 727, 'suggest': 728, 'cri': 729, 'babi': 730, 'normal': 731, 'troubl': 732, 'ultim': 733, 'contain': 734, 'certain': 735, 'cultur': 736, 'romanc': 737, 'rare': 738, 'lame': 739, 'somehow': 740, 'mix': 741, 'disney': 742, 'gone': 743, 'cartoon': 744, 'student': 745, 'reveal': 746, 'fear': 747, 'kept': 748, 'suck': 749, 'attract': 750, 'appeal': 751, 'premis': 752, 'greatest': 753, 'secret': 754, 'design': 755, 'shame': 756, 'throw': 757, 'scare': 758, 'copi': 759, 'wit': 760, 'admit': 761, 'america': 762, 'particular': 763, 'brought': 764, 'relat': 765, 'screenplay': 766, 'whatev': 767, 'pure': 768, '70': 769, 'harri': 770, 'averag': 771, 'master': 772, 'describ': 773, 'treat': 774, 'male': 775, '20': 776, 'issu': 777, 'fantasi': 778, 'warn': 779, 'inde': 780, 'forward': 781, 'background': 782, 'project': 783, 'free': 784, 'memor': 785, 'japanes': 786, 'poorli': 787, 'award': 788, 'locat': 789, 'amus': 790, 'potenti': 791, 'struggl': 792, 'magic': 793, 'weird': 794, 'societi': 795, 'okay': 796, 'imdb': 797, 'doctor': 798, 'accent': 799, 'hot': 800, 'water': 801, 'express': 802, '30': 803, 'alien': 804, 'dr': 805, 'odd': 806, 'choic': 807, 'crazi': 808, 'studio': 809, 'fiction': 810, 'control': 811, 'becam': 812, 'masterpiec': 813, 'fli': 814, 'difficult': 815, 'joe': 816, 'scream': 817, 'costum': 818, 'lover': 819, 'uniqu': 820, 'refer': 821, 'remak': 822, 'girlfriend': 823, 'vampir': 824, 'prison': 825, 'execut': 826, 'wear': 827, 'jump': 828, 'wood': 829, 'unless': 830, 'creepi': 831, 'cheesi': 832, 'superb': 833, 'otherwis': 834, 'parti': 835, 'roll': 836, 'ghost': 837, 'public': 838, 'mad': 839, 'depict': 840, 'week': 841, 'badli': 842, 'earlier': 843, 'moral': 844, 'jane': 845, 'dumb': 846, 'fi': 847, 'grow': 848, 'flaw': 849, 'deep': 850, 'sci': 851, 'cat': 852, 'maker': 853, 'footag': 854, 'older': 855, 'connect': 856, 'bother': 857, 'plenti': 858, 'outsid': 859, 'stick': 860, 'gay': 861, 'catch': 862, 'plu': 863, 'co': 864, 'popular': 865, 'equal': 866, 'social': 867, 'disturb': 868, 'quickli': 869, 'perfectli': 870, 'dress': 871, 'era': 872, '90': 873, 'mistak': 874, 'lie': 875, 'ride': 876, 'previou': 877, 'combin': 878, 'band': 879, 'concept': 880, 'rich': 881, 'answer': 882, 'surviv': 883, 'front': 884, 'christma': 885, 'sweet': 886, 'insid': 887, 'concern': 888, 'bare': 889, 'eat': 890, 'beat': 891, 'listen': 892, 'ben': 893, 'c': 894, 'serv': 895, 'term': 896, 'la': 897, 'meant': 898, 'german': 899, 'stereotyp': 900, 'hardli': 901, 'innoc': 902, 'law': 903, 'desper': 904, 'memori': 905, 'promis': 906, 'cute': 907, 'intent': 908, 'inform': 909, 'steal': 910, 'variou': 911, 'brain': 912, 'post': 913, 'tone': 914, 'island': 915, 'amount': 916, 'compani': 917, 'track': 918, 'nuditi': 919, 'store': 920, 'claim': 921, '50': 922, 'hair': 923, 'flat': 924, 'land': 925, 'univers': 926, 'kick': 927, 'fairli': 928, 'scott': 929, 'danger': 930, 'player': 931, 'step': 932, 'crew': 933, 'plain': 934, 'toni': 935, 'share': 936, 'tast': 937, 'centuri': 938, 'engag': 939, 'achiev': 940, 'cold': 941, 'travel': 942, 'record': 943, 'rip': 944, 'suit': 945, 'manner': 946, 'sadli': 947, 'tension': 948, 'wrote': 949, 'spot': 950, 'intens': 951, 'fascin': 952, 'familiar': 953, 'burn': 954, 'depth': 955, 'remark': 956, 'destroy': 957, 'histor': 958, 'sleep': 959, 'purpos': 960, 'languag': 961, 'ruin': 962, 'ignor': 963, 'delight': 964, 'italian': 965, 'unbeliev': 966, 'abil': 967, 'collect': 968, 'soul': 969, 'clever': 970, 'detect': 971, 'violent': 972, 'rape': 973, 'reach': 974, 'door': 975, 'liter': 976, 'trash': 977, 'scienc': 978, 'caught': 979, 'reveng': 980, 'commun': 981, 'creatur': 982, 'approach': 983, 'trip': 984, 'fashion': 985, 'intrigu': 986, 'introduc': 987, 'skill': 988, 'paint': 989, 'channel': 990, 'complex': 991, 'camp': 992, 'christian': 993, 'hole': 994, 'extra': 995, 'mental': 996, 'immedi': 997, 'limit': 998, 'ann': 999, '6': 1000, 'million': 1001, 'mere': 1002, 'comput': 1003, 'slightli': 1004, 'conclus': 1005, 'slasher': 1006, 'suddenli': 1007, 'imposs': 1008, 'crimin': 1009, 'teen': 1010, 'neither': 1011, 'nation': 1012, 'spent': 1013, 'physic': 1014, 'respons': 1015, 'planet': 1016, 'receiv': 1017, 'fake': 1018, 'sick': 1019, 'blue': 1020, 'bizarr': 1021, 'embarrass': 1022, 'indian': 1023, 'ring': 1024, '15': 1025, 'drop': 1026, 'pop': 1027, 'drag': 1028, 'haunt': 1029, 'pointless': 1030, 'suspect': 1031, 'edg': 1032, 'search': 1033, 'handl': 1034, 'biggest': 1035, 'common': 1036, 'arriv': 1037, 'faith': 1038, 'hurt': 1039, 'technic': 1040, 'angel': 1041, 'dad': 1042, 'genuin': 1043, 'solid': 1044, 'f': 1045, 'awesom': 1046, 'former': 1047, 'colleg': 1048, 'van': 1049, 'focu': 1050, 'count': 1051, 'heavi': 1052, 'tear': 1053, 'wall': 1054, 'rais': 1055, 'visit': 1056, 'younger': 1057, 'laughabl': 1058, 'sign': 1059, 'excus': 1060, 'fair': 1061, 'cult': 1062, 'motion': 1063, 'tough': 1064, 'key': 1065, 'super': 1066, 'desir': 1067, 'addit': 1068, 'stun': 1069, 'cloth': 1070, 'exploit': 1071, 'smith': 1072, 'tortur': 1073, 'race': 1074, 'davi': 1075, 'author': 1076, 'cross': 1077, 'jim': 1078, 'focus': 1079, 'minor': 1080, 'consist': 1081, 'compel': 1082, 'chemistri': 1083, 'commit': 1084, 'pathet': 1085, 'park': 1086, 'frank': 1087, 'tradit': 1088, 'obsess': 1089, 'grade': 1090, '60': 1091, 'asid': 1092, 'brutal': 1093, 'somewher': 1094, 'steve': 1095, 'opportun': 1096, 'rule': 1097, 'u': 1098, 'grant': 1099, 'depress': 1100, 'explor': 1101, 'besid': 1102, 'honest': 1103, 'anti': 1104, 'dub': 1105, 'intend': 1106, 'trailer': 1107, 'bar': 1108, 'longer': 1109, 'regard': 1110, 'scientist': 1111, 'west': 1112, 'judg': 1113, 'decad': 1114, 'silent': 1115, 'armi': 1116, 'creativ': 1117, 'wild': 1118, 'south': 1119, 'stewart': 1120, 'g': 1121, 'draw': 1122, 'road': 1123, 'govern': 1124, 'boss': 1125, 'ex': 1126, 'practic': 1127, 'surprisingli': 1128, 'gang': 1129, 'motiv': 1130, 'club': 1131, 'festiv': 1132, 'page': 1133, 'redeem': 1134, 'london': 1135, 'green': 1136, 'display': 1137, 'aliv': 1138, 'idiot': 1139, 'machin': 1140, 'militari': 1141, 'repeat': 1142, 'thrill': 1143, 'nobodi': 1144, '100': 1145, 'folk': 1146, 'yeah': 1147, '40': 1148, 'journey': 1149, 'garbag': 1150, 'smile': 1151, 'ground': 1152, 'tire': 1153, 'mood': 1154, 'bought': 1155, 'cost': 1156, 'stone': 1157, 'sam': 1158, 'noir': 1159, 'mouth': 1160, 'agent': 1161, 'terrif': 1162, 'requir': 1163, 'utterli': 1164, 'honestli': 1165, 'area': 1166, 'sexi': 1167, 'report': 1168, 'geniu': 1169, 'enter': 1170, 'humour': 1171, 'glad': 1172, 'investig': 1173, 'serial': 1174, 'passion': 1175, 'occasion': 1176, 'narr': 1177, 'climax': 1178, 'marriag': 1179, 'studi': 1180, 'industri': 1181, 'demon': 1182, 'center': 1183, 'charli': 1184, 'nowher': 1185, 'ship': 1186, 'hors': 1187, 'bear': 1188, 'loos': 1189, 'hang': 1190, 'wow': 1191, 'graphic': 1192, 'giant': 1193, 'admir': 1194, 'send': 1195, 'damn': 1196, 'loud': 1197, 'subtl': 1198, 'rel': 1199, 'nake': 1200, 'profession': 1201, 'blow': 1202, 'bottom': 1203, 'batman': 1204, 'insult': 1205, 'r': 1206, 'boyfriend': 1207, 'doubl': 1208, 'kelli': 1209, 'initi': 1210, 'frame': 1211, 'gem': 1212, 'opera': 1213, 'cinemat': 1214, 'challeng': 1215, 'affect': 1216, 'church': 1217, 'drawn': 1218, 'j': 1219, 'evid': 1220, 'l': 1221, 'seek': 1222, 'fulli': 1223, 'nightmar': 1224, 'conflict': 1225, 'arm': 1226, 'essenti': 1227, 'wind': 1228, 'henri': 1229, 'christoph': 1230, 'grace': 1231, 'assum': 1232, 'witch': 1233, 'narrat': 1234, 'hunt': 1235, 'push': 1236, 'wise': 1237, 'chri': 1238, 'month': 1239, 'nomin': 1240, 'repres': 1241, 'sceneri': 1242, 'hide': 1243, 'affair': 1244, 'avail': 1245, 'smart': 1246, 'bond': 1247, 'thu': 1248, 'justic': 1249, 'interview': 1250, 'outstand': 1251, 'flashback': 1252, 'constantli': 1253, 'satisfi': 1254, 'presenc': 1255, 'central': 1256, 'bed': 1257, 'content': 1258, 'sell': 1259, 'iron': 1260, 'everybodi': 1261, 'gag': 1262, 'slowli': 1263, 'hotel': 1264, 'hire': 1265, 'system': 1266, 'individu': 1267, 'adam': 1268, 'hey': 1269, 'charl': 1270, 'thrown': 1271, 'jone': 1272, 'mediocr': 1273, 'allen': 1274, 'lesson': 1275, 'ray': 1276, 'billi': 1277, 'cameo': 1278, 'photographi': 1279, 'pari': 1280, 'fellow': 1281, 'strike': 1282, 'independ': 1283, 'rise': 1284, 'brief': 1285, 'absurd': 1286, 'neg': 1287, 'phone': 1288, 'impact': 1289, 'model': 1290, 'ill': 1291, 'born': 1292, 'spoil': 1293, 'fresh': 1294, 'angl': 1295, 'abus': 1296, 'likabl': 1297, 'hill': 1298, 'discuss': 1299, 'sight': 1300, 'ahead': 1301, 'photograph': 1302, 'sent': 1303, 'logic': 1304, 'occur': 1305, 'blame': 1306, 'shine': 1307, 'mainli': 1308, 'bruce': 1309, 'forev': 1310, 'skip': 1311, 'commerci': 1312, 'surround': 1313, 'held': 1314, 'teacher': 1315, 'segment': 1316, 'zero': 1317, 'blond': 1318, 'summer': 1319, 'resembl': 1320, 'trap': 1321, 'satir': 1322, 'six': 1323, 'fool': 1324, 'queen': 1325, 'ball': 1326, 'twice': 1327, 'tragedi': 1328, 'sub': 1329, 'pack': 1330, 'reaction': 1331, 'bomb': 1332, 'will': 1333, 'hospit': 1334, 'protagonist': 1335, 'sport': 1336, 'mile': 1337, 'drink': 1338, 'trust': 1339, 'mom': 1340, 'vote': 1341, 'jerri': 1342, 'encount': 1343, 'plane': 1344, 'program': 1345, 'current': 1346, 'station': 1347, 'al': 1348, 'celebr': 1349, 'choos': 1350, 'martin': 1351, 'join': 1352, 'lord': 1353, 'round': 1354, 'field': 1355, 'favourit': 1356, 'tragic': 1357, 'robot': 1358, 'jean': 1359, 'vision': 1360, 'tie': 1361, 'arthur': 1362, 'fortun': 1363, 'random': 1364, 'roger': 1365, 'intern': 1366, 'psycholog': 1367, 'dread': 1368, 'improv': 1369, 'nonsens': 1370, 'prefer': 1371, 'epic': 1372, 'legend': 1373, 'pleasur': 1374, 'highlight': 1375, 'formula': 1376, 'tape': 1377, 'dollar': 1378, '11': 1379, 'gorgeou': 1380, 'thin': 1381, 'object': 1382, 'porn': 1383, 'fox': 1384, 'wide': 1385, 'influenc': 1386, 'ugli': 1387, 'buddi': 1388, 'prepar': 1389, 'ii': 1390, 'nasti': 1391, 'supposedli': 1392, 'reflect': 1393, 'progress': 1394, 'warm': 1395, 'youth': 1396, 'worthi': 1397, 'length': 1398, 'latter': 1399, 'unusu': 1400, 'crash': 1401, 'shop': 1402, 'superior': 1403, 'childhood': 1404, 'seven': 1405, 'remot': 1406, 'theatr': 1407, 'disgust': 1408, 'funniest': 1409, 'paid': 1410, 'pilot': 1411, 'fell': 1412, 'trick': 1413, 'castl': 1414, 'convers': 1415, 'disast': 1416, 'gangster': 1417, 'rob': 1418, 'establish': 1419, 'mine': 1420, 'heaven': 1421, 'suicid': 1422, 'ident': 1423, 'disappear': 1424, 'singer': 1425, 'mask': 1426, 'heroin': 1427, 'tend': 1428, 'decis': 1429, 'forgotten': 1430, 'brian': 1431, 'partner': 1432, 'desert': 1433, 'recogn': 1434, 'alan': 1435, 'p': 1436, 'thoroughli': 1437, 'ms': 1438, 'stuck': 1439, 'sky': 1440, 'accur': 1441, 'replac': 1442, 'market': 1443, 'seemingli': 1444, 'eddi': 1445, 'clue': 1446, 'andi': 1447, 'danni': 1448, 'commentari': 1449, 'uncl': 1450, 'devil': 1451, 'jackson': 1452, 'refus': 1453, 'pair': 1454, 'therefor': 1455, 'that': 1456, 'accid': 1457, 'fate': 1458, 'river': 1459, 'unit': 1460, 'fault': 1461, 'ed': 1462, 'tune': 1463, 'afraid': 1464, 'stephen': 1465, 'clean': 1466, 'hidden': 1467, 'russian': 1468, 'readi': 1469, 'irrit': 1470, 'quick': 1471, 'instanc': 1472, 'convey': 1473, 'test': 1474, 'captain': 1475, 'european': 1476, 'daniel': 1477, 'frustrat': 1478, 'insan': 1479, '1950': 1480, 'wed': 1481, 'food': 1482, 'chines': 1483, 'rescu': 1484, 'dirti': 1485, 'angri': 1486, 'lock': 1487, 'joy': 1488, 'price': 1489, 'steven': 1490, 'cage': 1491, 'bland': 1492, 'rang': 1493, 'anymor': 1494, 'wooden': 1495, 'n': 1496, 'rush': 1497, 'news': 1498, 'jason': 1499, 'twenti': 1500, '12': 1501, 'led': 1502, 'worri': 1503, 'board': 1504, 'martial': 1505, 'transform': 1506, 'hunter': 1507, 'cgi': 1508, 'symbol': 1509, 'onto': 1510, 'johnni': 1511, 'piti': 1512, 'sentiment': 1513, 'invent': 1514, 'x': 1515, 'attitud': 1516, 'process': 1517, 'explan': 1518, 'awar': 1519, 'owner': 1520, 'aim': 1521, 'energi': 1522, 'target': 1523, 'floor': 1524, 'necessari': 1525, 'favor': 1526, 'religi': 1527, 'opposit': 1528, 'window': 1529, 'chick': 1530, 'blind': 1531, 'insight': 1532, 'movement': 1533, 'mountain': 1534, 'deepli': 1535, 'research': 1536, 'possess': 1537, 'comparison': 1538, 'grand': 1539, 'rain': 1540, 'whatsoev': 1541, 'comed': 1542, 'mid': 1543, 'bank': 1544, 'began': 1545, 'shadow': 1546, 'parodi': 1547, 'princ': 1548, 'credibl': 1549, 'weapon': 1550, 'friendship': 1551, 'taylor': 1552, 'pre': 1553, 'teach': 1554, 'flesh': 1555, 'dougla': 1556, 'protect': 1557, 'bloodi': 1558, 'hint': 1559, 'terror': 1560, 'marvel': 1561, 'watchabl': 1562, 'accord': 1563, 'drunk': 1564, 'leader': 1565, 'anybodi': 1566, 'load': 1567, 'superman': 1568, 'freddi': 1569, 'brown': 1570, 'appropri': 1571, 'seat': 1572, 'tim': 1573, 'jeff': 1574, 'hitler': 1575, 'villag': 1576, 'charg': 1577, 'unknown': 1578, 'keaton': 1579, 'knock': 1580, 'empti': 1581, 'enemi': 1582, 'unnecessari': 1583, 'media': 1584, 'england': 1585, 'wave': 1586, 'perspect': 1587, 'dare': 1588, 'utter': 1589, 'buck': 1590, 'craft': 1591, 'strength': 1592, 'nativ': 1593, 'ford': 1594, 'contrast': 1595, 'kiss': 1596, 'correct': 1597, 'anywher': 1598, 'magnific': 1599, 'knowledg': 1600, 'soap': 1601, 'nazi': 1602, 'distract': 1603, 'speed': 1604, 'chill': 1605, '1980': 1606, 'breath': 1607, 'fred': 1608, 'ice': 1609, 'mission': 1610, 'moon': 1611, 'crowd': 1612, 'jr': 1613, 'joan': 1614, 'kate': 1615, '000': 1616, 'frighten': 1617, 'soft': 1618, 'hundr': 1619, 'nick': 1620, 'dick': 1621, 'dan': 1622, 'somebodi': 1623, 'radio': 1624, 'dozen': 1625, 'simon': 1626, 'shakespear': 1627, 'academi': 1628, 'loss': 1629, 'thousand': 1630, 'andrew': 1631, 'root': 1632, 'vehicl': 1633, 'account': 1634, 'sum': 1635, 'quot': 1636, '1970': 1637, 'behavior': 1638, 'leg': 1639, 'convent': 1640, 'gold': 1641, 'regular': 1642, 'demand': 1643, 'pretenti': 1644, 'compet': 1645, 'worker': 1646, 'stretch': 1647, 'interpret': 1648, 'notabl': 1649, 'explos': 1650, 'lynch': 1651, 'candi': 1652, 'privat': 1653, 'japan': 1654, 'constant': 1655, 'debut': 1656, 'tarzan': 1657, 'prais': 1658, 'revolv': 1659, 'translat': 1660, 'sea': 1661, 'spi': 1662, 'ass': 1663, 'jesu': 1664, 'failur': 1665, 'franc': 1666, 'technolog': 1667, 'quiet': 1668, 'sat': 1669, 'threaten': 1670, 'higher': 1671, 'punch': 1672, 'met': 1673, 'aid': 1674, 'toy': 1675, 'kevin': 1676, 'interact': 1677, 'vh': 1678, 'abandon': 1679, 'mike': 1680, 'bet': 1681, 'confront': 1682, 'command': 1683, 'separ': 1684, 'belong': 1685, 'stunt': 1686, 'site': 1687, 'recal': 1688, 'servic': 1689, 'gotten': 1690, 'techniqu': 1691, 'bug': 1692, 'freak': 1693, 'foot': 1694, 'cabl': 1695, 'jimmi': 1696, 'bright': 1697, 'fu': 1698, 'capabl': 1699, 'african': 1700, 'succeed': 1701, 'boat': 1702, 'fat': 1703, 'presid': 1704, 'clark': 1705, 'stock': 1706, 'gene': 1707, 'structur': 1708, 'spanish': 1709, 'paper': 1710, 'kidnap': 1711, 'whilst': 1712, 'belief': 1713, 'factor': 1714, 'realis': 1715, 'educ': 1716, 'complic': 1717, 'attend': 1718, 'realism': 1719, 'witti': 1720, 'tree': 1721, 'bob': 1722, 'finest': 1723, 'assist': 1724, 'santa': 1725, 'broken': 1726, 'determin': 1727, 'v': 1728, 'observ': 1729, 'up': 1730, 'depart': 1731, 'smoke': 1732, 'domin': 1733, 'routin': 1734, 'lewi': 1735, 'hat': 1736, 'rubbish': 1737, 'oper': 1738, 'fame': 1739, 'lone': 1740, 'kinda': 1741, 'foreign': 1742, 'hook': 1743, 'morgan': 1744, 'safe': 1745, 'advanc': 1746, 'rank': 1747, 'numer': 1748, 'shape': 1749, 'vs': 1750, 'civil': 1751, 'shallow': 1752, 'rose': 1753, 'washington': 1754, 'werewolf': 1755, 'morn': 1756, 'gari': 1757, 'winner': 1758, 'accomplish': 1759, 'ordinari': 1760, 'kong': 1761, 'virtual': 1762, 'peac': 1763, 'whenev': 1764, 'grab': 1765, 'h': 1766, 'luck': 1767, 'offens': 1768, 'welcom': 1769, 'contriv': 1770, 'activ': 1771, 'bigger': 1772, 'complain': 1773, 'unfunni': 1774, 'patient': 1775, 'con': 1776, 'trek': 1777, 'dimension': 1778, 'pretend': 1779, 'cain': 1780, 'flash': 1781, 'eric': 1782, 'code': 1783, 'dri': 1784, 'wake': 1785, 'lesbian': 1786, 'guard': 1787, 'manipul': 1788, 'dancer': 1789, 'albert': 1790, 'statu': 1791, 'corrupt': 1792, 'context': 1793, 'speech': 1794, 'signific': 1795, 'awkward': 1796, 'gain': 1797, 'sourc': 1798, 'corni': 1799, 'psycho': 1800, 'sean': 1801, 'anthoni': 1802, 'clip': 1803, '13': 1804, 'priest': 1805, 'reli': 1806, 'religion': 1807, 'theatric': 1808, 'advic': 1809, 'w': 1810, 'curiou': 1811, 'addict': 1812, 'flow': 1813, 'secur': 1814, 'skin': 1815, 'jennif': 1816, 'asian': 1817, 'howard': 1818, 'specif': 1819, 'comfort': 1820, 'golden': 1821, 'core': 1822, 'organ': 1823, 'promot': 1824, 'luke': 1825, 'cash': 1826, 'lucki': 1827, 'cheat': 1828, 'dislik': 1829, 'lower': 1830, 'associ': 1831, 'frequent': 1832, 'devic': 1833, 'wing': 1834, 'regret': 1835, 'frankli': 1836, 'spell': 1837, 'degre': 1838, 'contribut': 1839, 'balanc': 1840, 'lake': 1841, 'sake': 1842, 'forgiv': 1843, 'print': 1844, 'betti': 1845, 'thoma': 1846, 'mass': 1847, 'crack': 1848, 'gordon': 1849, 'unexpect': 1850, 'depend': 1851, 'unfold': 1852, 'invit': 1853, 'grown': 1854, 'amateur': 1855, 'categori': 1856, 'construct': 1857, 'grew': 1858, 'matur': 1859, 'intellectu': 1860, 'walter': 1861, 'anna': 1862, 'condit': 1863, 'honor': 1864, 'sudden': 1865, 'mirror': 1866, 'sole': 1867, 'veteran': 1868, 'spectacular': 1869, 'experienc': 1870, 'overli': 1871, 'freedom': 1872, 'gift': 1873, 'grip': 1874, 'liner': 1875, 'robin': 1876, 'meanwhil': 1877, 'card': 1878, 'demonstr': 1879, 'circumst': 1880, 'section': 1881, 'subtitl': 1882, 'theori': 1883, 'drew': 1884, 'oliv': 1885, 'brilliantli': 1886, 'unabl': 1887, 'colour': 1888, 'crappi': 1889, 'sheriff': 1890, 'path': 1891, 'pile': 1892, 'altern': 1893, 'laughter': 1894, 'sheer': 1895, 'matt': 1896, 'parker': 1897, 'cook': 1898, 'sinatra': 1899, 'defin': 1900, 'lawyer': 1901, 'relief': 1902, 'treatment': 1903, 'accident': 1904, 'hall': 1905, 'wander': 1906, 'hank': 1907, 'captiv': 1908, 'dragon': 1909, 'halloween': 1910, 'moor': 1911, 'gratuit': 1912, 'barbara': 1913, 'jacki': 1914, 'kung': 1915, 'wound': 1916, 'k': 1917, 'wayn': 1918, 'broadway': 1919, 'unintent': 1920, 'cowboy': 1921, 'canadian': 1922, 'statement': 1923, 'surreal': 1924, 'winter': 1925, 'spoof': 1926, 'cheer': 1927, 'fare': 1928, 'fish': 1929, 'compos': 1930, 'gonna': 1931, 'treasur': 1932, 'victor': 1933, 'emerg': 1934, 'sensit': 1935, 'woodi': 1936, 'unrealist': 1937, 'neighbor': 1938, 'driven': 1939, 'ran': 1940, 'sympathet': 1941, 'glass': 1942, 'overlook': 1943, 'expos': 1944, 'authent': 1945, 'menac': 1946, 'topic': 1947, 'chief': 1948, 'gross': 1949, 'ancient': 1950, 'michel': 1951, 'handsom': 1952, 'contemporari': 1953, 'comedian': 1954, 'stranger': 1955, 'built': 1956, 'feet': 1957, 'network': 1958, 'cinderella': 1959, 'pleasant': 1960, 'russel': 1961, 'nevertheless': 1962, 'endless': 1963, 'underr': 1964, 'earn': 1965, 'consider': 1966, 'miser': 1967, 'blockbust': 1968, 'gori': 1969, 'letter': 1970, 'brook': 1971, 'switch': 1972, 'solv': 1973, 'convict': 1974, 'virgin': 1975, 'joseph': 1976, 'edward': 1977, 'bullet': 1978, 'victoria': 1979, 'cynic': 1980, 'chosen': 1981, 'scale': 1982, '0': 1983, 'alex': 1984, 'scenario': 1985, 'sword': 1986, 'curs': 1987, 'com': 1988, 'outrag': 1989, 'gut': 1990, 'wrap': 1991, 'monkey': 1992, 'driver': 1993, 'substanc': 1994, 'screenwrit': 1995, 'proper': 1996, 'uk': 1997, 'juli': 1998, 'court': 1999, 'par': 2000, 'indic': 2001, 'bird': 2002, 'remov': 2003, 'loser': 2004, 'grave': 2005, 'advertis': 2006, 'naiv': 2007, 'rental': 2008, 'roy': 2009, 'nanci': 2010, 'consequ': 2011, 'inevit': 2012, 'invis': 2013, 'le': 2014, 'fatal': 2015, 'germani': 2016, 'brave': 2017, 'slap': 2018, 'bridg': 2019, 'loui': 2020, 'ador': 2021, 'provok': 2022, 'anger': 2023, 'footbal': 2024, 'alcohol': 2025, 'chan': 2026, 'anderson': 2027, 'ryan': 2028, 'stumbl': 2029, 'professor': 2030, 'willi': 2031, 'bat': 2032, 'sharp': 2033, '1930': 2034, 'patrick': 2035, 'assassin': 2036, 'australian': 2037, 'heck': 2038, 'ape': 2039, 'liber': 2040, 'deni': 2041, 'lousi': 2042, 'cell': 2043, 'amateurish': 2044, 'saturday': 2045, 'refresh': 2046, 'strongli': 2047, 'trilog': 2048, 'eight': 2049, 'sin': 2050, 'vagu': 2051, 'san': 2052, 'resid': 2053, 'justifi': 2054, 'sympathi': 2055, 'terrifi': 2056, 'creator': 2057, 'reput': 2058, 'indi': 2059, 'defeat': 2060, 'mini': 2061, 'tabl': 2062, 'expert': 2063, 'task': 2064, 'tediou': 2065, 'prevent': 2066, 'endur': 2067, 'employ': 2068, 'basebal': 2069, 'trial': 2070, 'imit': 2071, 'rival': 2072, 'offend': 2073, 'che': 2074, 'complaint': 2075, 'pitch': 2076, 'max': 2077, 'europ': 2078, 'fairi': 2079, 'beach': 2080, 'weekend': 2081, 'dig': 2082, 'murphi': 2083, 'risk': 2084, 'purchas': 2085, 'format': 2086, 'glimps': 2087, 'harsh': 2088, 'powel': 2089, 'bite': 2090, 'reminisc': 2091, 'titan': 2092, 'nois': 2093, 'hype': 2094, 'tini': 2095, 'till': 2096, 'strip': 2097, 'fals': 2098, 'asleep': 2099, 'north': 2100, '14': 2101, 'prime': 2102, 'destruct': 2103, 'descript': 2104, 'texa': 2105, 'revel': 2106, 'africa': 2107, 'surfac': 2108, 'uninterest': 2109, 'semi': 2110, 'inner': 2111, 'spin': 2112, 'excess': 2113, 'sitcom': 2114, 'arrest': 2115, 'makeup': 2116, 'maintain': 2117, 'massiv': 2118, 'controversi': 2119, 'hitchcock': 2120, 'dinosaur': 2121, 'argu': 2122, 'twin': 2123, 'ludicr': 2124, 'ideal': 2125, 'insist': 2126, 'reject': 2127, 'expens': 2128, 'melodrama': 2129, 'stare': 2130, 'kim': 2131, 'subplot': 2132, 'nail': 2133, 'supernatur': 2134, 'erot': 2135, 'ala': 2136, 'atroci': 2137, 'press': 2138, 'forest': 2139, 'host': 2140, 'ga': 2141, 'columbo': 2142, 'cant': 2143, 'presum': 2144, 'notch': 2145, 'dude': 2146, 'identifi': 2147, 'crude': 2148, 'character': 2149, 'plagu': 2150, 'forgett': 2151, 'closer': 2152, 'guest': 2153, 'method': 2154, 'border': 2155, 'foster': 2156, 'lion': 2157, 'princess': 2158, 'landscap': 2159, 'ear': 2160, 'beast': 2161, 'aunt': 2162, 'bound': 2163, 'accus': 2164, 'pacino': 2165, 'urban': 2166, 'previous': 2167, 'storytel': 2168, 'jungl': 2169, 'damag': 2170, 'birth': 2171, 'chose': 2172, 'nude': 2173, 'emma': 2174, 'doll': 2175, 'jess': 2176, 'thirti': 2177, 'guid': 2178, 'propaganda': 2179, 'pet': 2180, '25': 2181, 'mainstream': 2182, 'whoever': 2183, 'warrior': 2184, 'mate': 2185, 'upset': 2186, 'merit': 2187, 'gritti': 2188, 'poster': 2189, 'friday': 2190, 'size': 2191, 'cooper': 2192, 'exact': 2193, 'latest': 2194, 'deadli': 2195, 'ton': 2196, 'popul': 2197, 'sun': 2198, 'warner': 2199, 'settl': 2200, 'contact': 2201, 'citizen': 2202, 'blend': 2203, 'wilson': 2204, 'buff': 2205, 'rough': 2206, '1990': 2207, 'corps': 2208, 'contest': 2209, 'environ': 2210, 'widow': 2211, 'alic': 2212, 'metal': 2213, 'select': 2214, 'mgm': 2215, 'rat': 2216, 'overcom': 2217, 'pitt': 2218, 'bu': 2219, 'ted': 2220, 'particip': 2221, 'revolut': 2222, 'link': 2223, 'guilti': 2224, 'lift': 2225, 'afternoon': 2226, 'corner': 2227, 'corpor': 2228, '1960': 2229, 'matrix': 2230, 'johnson': 2231, 'prostitut': 2232, 'accompani': 2233, 'moron': 2234, 'exagger': 2235, 'sincer': 2236, 'friendli': 2237, 'instal': 2238, 'holm': 2239, 'multipl': 2240, 'leagu': 2241, 'clair': 2242, 'hood': 2243, 'doom': 2244, 'hip': 2245, 'sunday': 2246, 'junk': 2247, 'grim': 2248, 'campi': 2249, 'examin': 2250, 'advis': 2251, 'blah': 2252, 'defend': 2253, 'aka': 2254, 'irish': 2255, 'string': 2256, 'lugosi': 2257, 'shake': 2258, 'shut': 2259, 'varieti': 2260, 'icon': 2261, 'rachel': 2262, 'confid': 2263, 'pro': 2264, 'tight': 2265, 'denni': 2266, 'goal': 2267, 'jaw': 2268, 'attach': 2269, 'sullivan': 2270, 'medic': 2271, 'directli': 2272, 'mexican': 2273, 'prior': 2274, 'sentenc': 2275, 'legendari': 2276, 'truck': 2277, 'breast': 2278, 'dean': 2279, 'vietnam': 2280, 'terrorist': 2281, 'duke': 2282, 'courag': 2283, 'sarah': 2284, 'bourn': 2285, 'un': 2286, 'nose': 2287, 'entri': 2288, 'donald': 2289, 'proceed': 2290, 'split': 2291, 'behav': 2292, 'hong': 2293, 'yell': 2294, 'everywher': 2295, 'stolen': 2296, 'jerk': 2297, 'borrow': 2298, 'unconvinc': 2299, 'swim': 2300, 'confess': 2301, 'concentr': 2302, 'buri': 2303, 'lifetim': 2304, 'gather': 2305, 'forth': 2306, 'crush': 2307, 'pan': 2308, 'lip': 2309, 'turkey': 2310, 'julia': 2311, 'spite': 2312, 'california': 2313, 'deliveri': 2314, 'china': 2315, 'downright': 2316, 'flight': 2317, 'offici': 2318, 'reward': 2319, 'freeman': 2320, 'quest': 2321, 'proud': 2322, 'hoffman': 2323, 'inept': 2324, 'notori': 2325, 'sir': 2326, 'encourag': 2327, 'fade': 2328, 'jail': 2329, 'jon': 2330, 'sink': 2331, 'fabul': 2332, 'worthwhil': 2333, 'lazi': 2334, 'betray': 2335, 'branagh': 2336, 'cousin': 2337, 'susan': 2338, 'teeth': 2339, 'retard': 2340, 'bag': 2341, 'storm': 2342, 'bell': 2343, 'shower': 2344, 'imageri': 2345, 'relev': 2346, 'lisa': 2347, 'survivor': 2348, 'bride': 2349, 'facial': 2350, 'finger': 2351, 'tremend': 2352, 'quirki': 2353, 'alright': 2354, 'hugh': 2355, 'toler': 2356, 'summari': 2357, 'mexico': 2358, 'trade': 2359, 'stab': 2360, 'shark': 2361, 'ha': 2362, 'bitter': 2363, 'blown': 2364, 'pose': 2365, 'hyster': 2366, 'von': 2367, 'larri': 2368, 'ned': 2369, 'ron': 2370, 'address': 2371, 'cruel': 2372, 'bone': 2373, 'afterward': 2374, 'christ': 2375, 'scheme': 2376, 'feed': 2377, 'screw': 2378, 'traci': 2379, 'thumb': 2380, 'beg': 2381, 'swear': 2382, 'distinct': 2383, 'tour': 2384, 'pursu': 2385, 'snake': 2386, 'chair': 2387, 'occas': 2388, 'mechan': 2389, 'photo': 2390, 'raw': 2391, 'obscur': 2392, 'stomach': 2393, 'gruesom': 2394, 'southern': 2395, 'holiday': 2396, 'heavili': 2397, 'chain': 2398, 'resist': 2399, 'cabin': 2400, 'render': 2401, 'argument': 2402, 'hardi': 2403, 'necessarili': 2404, 'sidney': 2405, 'indulg': 2406, 'racist': 2407, 'india': 2408, 'understood': 2409, 'satan': 2410, 'philip': 2411, 'fourth': 2412, 'tongu': 2413, 'belov': 2414, 'outfit': 2415, 'lay': 2416, 'obnoxi': 2417, 'forgot': 2418, 'pregnant': 2419, 'stalk': 2420, 'midnight': 2421, 'integr': 2422, 'slapstick': 2423, 'magazin': 2424, 'garden': 2425, 'inhabit': 2426, 'restor': 2427, '17': 2428, 'ticket': 2429, 'carol': 2430, 'deeper': 2431, 'lincoln': 2432, 'shoe': 2433, 'devot': 2434, 'brad': 2435, 'incid': 2436, 'underground': 2437, 'anticip': 2438, 'benefit': 2439, 'lili': 2440, 'elizabeth': 2441, 'guarante': 2442, 'sandler': 2443, 'divorc': 2444, 'maria': 2445, 'disbelief': 2446, 'bbc': 2447, 'slave': 2448, 'cring': 2449, 'creation': 2450, 'mildli': 2451, 'greater': 2452, 'explod': 2453, 'princip': 2454, 'amazingli': 2455, 'capit': 2456, 'halfway': 2457, 'extraordinari': 2458, 'funnier': 2459, 'introduct': 2460, 'lesli': 2461, 'text': 2462, 'wreck': 2463, 'tap': 2464, 'enhanc': 2465, 'extent': 2466, 'punish': 2467, 'transfer': 2468, 'overwhelm': 2469, 'advantag': 2470, 'deliber': 2471, 'east': 2472, 'preview': 2473, 'jessica': 2474, 'horrif': 2475, 'plant': 2476, 'error': 2477, 'dynam': 2478, 'lo': 2479, 'lane': 2480, 'vincent': 2481, 'miller': 2482, 'appli': 2483, '2000': 2484, 'homosexu': 2485, 'miscast': 2486, 'basi': 2487, 'sophist': 2488, 'vacat': 2489, 'ensu': 2490, 'spoken': 2491, 'uncomfort': 2492, 'sleazi': 2493, 'mansion': 2494, 'steel': 2495, 'via': 2496, 'measur': 2497, 'bollywood': 2498, 'extend': 2499, 'elev': 2500, 'reed': 2501, 'savag': 2502, 'blair': 2503, 'fix': 2504, 'breathtak': 2505, 'stanley': 2506, 'cathol': 2507, 'hippi': 2508, 'overact': 2509, 'alter': 2510, 'mous': 2511, 'conceiv': 2512, 'daili': 2513, 'assign': 2514, 'beer': 2515, 'melt': 2516, 'dentist': 2517, 'goofi': 2518, 'subsequ': 2519, 'nowaday': 2520, 'inspector': 2521, 'properli': 2522, 'succe': 2523, 'oppos': 2524, 'sacrific': 2525, 'carpent': 2526, 'everyday': 2527, 'burt': 2528, 'neck': 2529, 'massacr': 2530, 'laura': 2531, 'block': 2532, 'circl': 2533, 'concert': 2534, 'mob': 2535, 'grey': 2536, 'lesser': 2537, 'portrait': 2538, 'access': 2539, 'seagal': 2540, 'fay': 2541, 'fallen': 2542, 'pool': 2543, 'christi': 2544, 'react': 2545, 'sinist': 2546, 'isol': 2547, 'relax': 2548, 'chees': 2549, 'competit': 2550, 'jewish': 2551, 'usa': 2552, 'jake': 2553, 'appal': 2554, 'nonetheless': 2555, '2006': 2556, 'immens': 2557, 'creep': 2558, 'suitabl': 2559, 'stink': 2560, 'spiritu': 2561, 'nine': 2562, 'lyric': 2563, 'chop': 2564, 'ironi': 2565, 'showcas': 2566, 'spring': 2567, 'reduc': 2568, 'needless': 2569, 'adopt': 2570, 'navi': 2571, 'luci': 2572, 'sold': 2573, 'retir': 2574, 'rage': 2575, 'user': 2576, 'franchis': 2577, 'shirt': 2578, 'nut': 2579, 'uninspir': 2580, 'digit': 2581, 'nurs': 2582, 'zone': 2583, 'bulli': 2584, 'per': 2585, 'bath': 2586, 'asham': 2587, 'jay': 2588, 'stanwyck': 2589, 'upper': 2590, 'broadcast': 2591, 'laid': 2592, 'oddli': 2593, 'amongst': 2594, 'sutherland': 2595, '1940': 2596, 'illustr': 2597, '2001': 2598, 'disguis': 2599, 'aspir': 2600, 'brando': 2601, 'stylish': 2602, 'throat': 2603, 'baker': 2604, 'fulfil': 2605, 'nobl': 2606, 'pound': 2607, 'endear': 2608, '18': 2609, 'impli': 2610, 'wanna': 2611, 'em': 2612, 'pride': 2613, 'thief': 2614, 'neighborhood': 2615, 'wwii': 2616, 'shift': 2617, 'diseas': 2618, 'shoulder': 2619, 'cinematograph': 2620, 'tens': 2621, 'dawn': 2622, '16': 2623, 'distribut': 2624, 'prop': 2625, 'bett': 2626, 'albeit': 2627, 'coher': 2628, 'rochest': 2629, 'dinner': 2630, 'bo': 2631, 'shout': 2632, 'contract': 2633, 'wash': 2634, 'function': 2635, 'silenc': 2636, 'snow': 2637, 'rebel': 2638, 'poignant': 2639, 'matthau': 2640, 'forti': 2641, 'knife': 2642, 'surf': 2643, 'height': 2644, 'widmark': 2645, 'eeri': 2646, 'cannib': 2647, 'silver': 2648, 'heat': 2649, 'instinct': 2650, 'elvira': 2651, 'duti': 2652, 'cancel': 2653, 'proof': 2654, 'horrend': 2655, 'derek': 2656, 'chuck': 2657, 'internet': 2658, 'reunion': 2659, 'henc': 2660, 'mindless': 2661, 'neat': 2662, 'absorb': 2663, 'incoher': 2664, 'premier': 2665, 'etern': 2666, 'greatli': 2667, 'musician': 2668, 'spielberg': 2669, 'torn': 2670, 'repetit': 2671, 'glori': 2672, 'innov': 2673, 'alik': 2674, 'mill': 2675, 'pie': 2676, 'elvi': 2677, 'precis': 2678, 'burton': 2679, 'blank': 2680, 'racism': 2681, 'redempt': 2682, 'announc': 2683, 'lovabl': 2684, 'wealthi': 2685, 'britain': 2686, 'nelson': 2687, 'diamond': 2688, 'bang': 2689, 'crisi': 2690, 'homag': 2691, 'horrifi': 2692, 'trite': 2693, 'infam': 2694, 'itali': 2695, 'fbi': 2696, 'hammer': 2697, 'ensembl': 2698, 'wilder': 2699, 'happili': 2700, 'resolut': 2701, 'chaplin': 2702, 'pat': 2703, 'dedic': 2704, 'flop': 2705, 'helen': 2706, 'parallel': 2707, 'streisand': 2708, 'cube': 2709, 'conclud': 2710, 'broke': 2711, 'factori': 2712, 'disagre': 2713, 'mar': 2714, 'triumph': 2715, 'oil': 2716, 'carter': 2717, 'plastic': 2718, 'st': 2719, 'weight': 2720, 'bush': 2721, 'climb': 2722, 'own': 2723, 'march': 2724, 'fighter': 2725, 'chuckl': 2726, 'vega': 2727, 'rocket': 2728, 'row': 2729, 'sensibl': 2730, 'dane': 2731, 'unforgett': 2732, 'boot': 2733, 'wherea': 2734, 'dump': 2735, 'thug': 2736, 'luca': 2737, 'enorm': 2738, 'mst3k': 2739, 'kurt': 2740, 'meaning': 2741, 'lust': 2742, 'spare': 2743, 'brand': 2744, 'arnold': 2745, 'butt': 2746, 'fifti': 2747, 'difficulti': 2748, 'threat': 2749, 'bobbi': 2750, 'rap': 2751, 'adequ': 2752, 'caricatur': 2753, 'dear': 2754, 'engin': 2755, 'karloff': 2756, 'stress': 2757, 'hamlet': 2758, 'ego': 2759, 'homeless': 2760, 'flynn': 2761, 'secretari': 2762, 'fest': 2763, 'arrog': 2764, 'polish': 2765, 'barri': 2766, 'elabor': 2767, 'swing': 2768, 'ralph': 2769, 'journalist': 2770, 'unbear': 2771, 'puppet': 2772, 'arrang': 2773, 'fanci': 2774, 'grate': 2775, 'induc': 2776, 'simpson': 2777, 'float': 2778, 'spike': 2779, 'resort': 2780, 'conspiraci': 2781, 'tool': 2782, 'boll': 2783, 'guilt': 2784, 'cruis': 2785, 'phillip': 2786, 'muppet': 2787, 'choreograph': 2788, 'pig': 2789, 'exercis': 2790, 'tribut': 2791, 'basement': 2792, 'tower': 2793, 'puzzl': 2794, 'medium': 2795, 'toilet': 2796, 'fianc': 2797, 'item': 2798, 'editor': 2799, 'document': 2800, 'slip': 2801, 'babe': 2802, 'file': 2803, 'ham': 2804, 'scarecrow': 2805, '24': 2806, 'stan': 2807, 'korean': 2808, 'layer': 2809, 'ward': 2810, 'inexplic': 2811, 'territori': 2812, 'catherin': 2813, 'glover': 2814, 'librari': 2815, 'spark': 2816, 'philosoph': 2817, 'orient': 2818, 'persona': 2819, 'denzel': 2820, 'minim': 2821, 'superfici': 2822, 'assur': 2823, 'larger': 2824, 'slaughter': 2825, 'transit': 2826, 'portion': 2827, 'doc': 2828, 'sneak': 2829, 'financi': 2830, 'pg': 2831, 'curti': 2832, 'shi': 2833, 'wolf': 2834, 'dorothi': 2835, 'boredom': 2836, 'jeremi': 2837, 'walken': 2838, 'jet': 2839, 'ban': 2840, 'owe': 2841, 'ambigu': 2842, 'multi': 2843, 'profound': 2844, 'metaphor': 2845, 'eleph': 2846, 'backdrop': 2847, 'cusack': 2848, 'hudson': 2849, 'whale': 2850, '2005': 2851, 'implaus': 2852, 'birthday': 2853, 'notion': 2854, 'elsewher': 2855, 'union': 2856, 'gadget': 2857, 'viru': 2858, 'rave': 2859, 'stiff': 2860, 'ultra': 2861, 'hack': 2862, 'slight': 2863, 'canada': 2864, 'deriv': 2865, '1st': 2866, 'reader': 2867, 'urg': 2868, 'distanc': 2869, 'pad': 2870, 'lloyd': 2871, 'superhero': 2872, 'eva': 2873, 'bibl': 2874, 'disc': 2875, 'afford': 2876, 'squar': 2877, 'eastwood': 2878, 'poison': 2879, 'newspap': 2880, 'hawk': 2881, 'sadist': 2882, 'essenc': 2883, 'restaur': 2884, 'charisma': 2885, 'skit': 2886, 'huh': 2887, 'drown': 2888, 'heston': 2889, 'montag': 2890, 'spread': 2891, 'health': 2892, 'button': 2893, 'cure': 2894, 'companion': 2895, 'muslim': 2896, 'fetch': 2897, 'gradual': 2898, 'invest': 2899, 'scoobi': 2900, 'estat': 2901, 'dealt': 2902, 'peak': 2903, 'lab': 2904, 'godfath': 2905, 'maniac': 2906, 'subtleti': 2907, 'servant': 2908, 'cup': 2909, 'ritter': 2910, 'gothic': 2911, 'alli': 2912, 'tea': 2913, 'kane': 2914, 'countless': 2915, 'miik': 2916, 'heroic': 2917, 'briefli': 2918, 'salli': 2919, 'iii': 2920, 'electr': 2921, 'elect': 2922, 'charismat': 2923, 'toss': 2924, 'wannab': 2925, 'admittedli': 2926, 'tender': 2927, 'ingredi': 2928, 'cole': 2929, 'reel': 2930, 'neil': 2931, 'resourc': 2932, 'nuanc': 2933, 'grandmoth': 2934, 'bud': 2935, 'label': 2936, 'pauli': 2937, 'stronger': 2938, 'carrey': 2939, 'poverti': 2940, 'kubrick': 2941, 'reev': 2942, 'mild': 2943, 'mafia': 2944, 'stood': 2945, 'shall': 2946, 'punk': 2947, 'pit': 2948, 'gate': 2949, 'dawson': 2950, 'smash': 2951, 'updat': 2952, 'fond': 2953, 'easier': 2954, 'assault': 2955, 'terri': 2956, 'ian': 2957, 'smooth': 2958, 'cardboard': 2959, 'burst': 2960, 'useless': 2961, 'cox': 2962, 'bakshi': 2963, 'tag': 2964, 'outcom': 2965, 'astair': 2966, 'qualifi': 2967, '2002': 2968, 'vulner': 2969, 'coincid': 2970, 'vari': 2971, 'rex': 2972, 'divers': 2973, 'melodramat': 2974, 'resolv': 2975, 'increasingli': 2976, 'exchang': 2977, 'sketch': 2978, 'samurai': 2979, 'fist': 2980, 'scratch': 2981, 'tame': 2982, 'luckili': 2983, 'be': 2984, 'blast': 2985, 'insert': 2986, 'conveni': 2987, 'reynold': 2988, 'templ': 2989, 'suspend': 2990, 'brillianc': 2991, 'fisher': 2992, 'pin': 2993, 'walker': 2994, 'coach': 2995, 'jami': 2996, 'nuclear': 2997, 'ambiti': 2998, 'soprano': 2999, 'seventi': 3000, 'matthew': 3001, 'hamilton': 3002, 'strictli': 3003, 'meat': 3004, 'farm': 3005, 'gotta': 3006, 'joey': 3007, 'grasp': 3008, 'brosnan': 3009, 'spooki': 3010, 'kudo': 3011, 'empir': 3012, 'timeless': 3013, 'eccentr': 3014, 'revers': 3015, 'recreat': 3016, 'butcher': 3017, 'clock': 3018, 'struck': 3019, 'cave': 3020, 'worthless': 3021, 'convolut': 3022, 'discoveri': 3023, 'instantli': 3024, 'monk': 3025, 'ninja': 3026, 'closet': 3027, 'fifteen': 3028, 'clown': 3029, 'miracl': 3030, 'partli': 3031, 'mitchel': 3032, 'seller': 3033, 'norman': 3034, 'cliff': 3035, 'bleak': 3036, 'sloppi': 3037, 'sidekick': 3038, 'gray': 3039, 'inconsist': 3040, 'eighti': 3041, 'importantli': 3042, 'wipe': 3043, 'communist': 3044, 'declar': 3045, 'selfish': 3046, 'evok': 3047, 'pal': 3048, 'farc': 3049, '45': 3050, 'ho': 3051, 'superbl': 3052, 'cheek': 3053, 'seed': 3054, 'flawless': 3055, 'lifestyl': 3056, 'enthusiast': 3057, 'destin': 3058, 'aforement': 3059, 'websit': 3060, 'debat': 3061, 'australia': 3062, 'chew': 3063, 'piano': 3064, 'stoog': 3065, 'psychiatrist': 3066, 'anni': 3067, 'regardless': 3068, 'pressur': 3069, 'slice': 3070, 'dash': 3071, 'kitchen': 3072, 'abc': 3073, 'akshay': 3074, 'incompet': 3075, 'drivel': 3076, 'dire': 3077, 'directori': 3078, 'wrestl': 3079, 'splatter': 3080, 'bash': 3081, 'soviet': 3082, 'emili': 3083, 'wick': 3084, 'cagney': 3085, 'judi': 3086, 'flower': 3087, 'boil': 3088, 'duo': 3089, 'suppli': 3090, 'chapter': 3091, 'prize': 3092, 'mann': 3093, 'seduc': 3094, 'cameron': 3095, 'distant': 3096, 'cia': 3097, 'recov': 3098, 'doo': 3099, 'jar': 3100, 'artifici': 3101, 'helicopt': 3102, 'blob': 3103, 'increas': 3104, 'glow': 3105, 'beaten': 3106, 'dave': 3107, 'pleasantli': 3108, 'lou': 3109, 'ken': 3110, 'curios': 3111, 'francisco': 3112, 'turner': 3113, 'goldberg': 3114, 'ellen': 3115, 'ranger': 3116, 'craig': 3117, 'psychot': 3118, 'drunken': 3119, 'favour': 3120, 'web': 3121, 'combat': 3122, 'hop': 3123, 'panic': 3124, 'laurel': 3125, 'splendid': 3126, 'eleg': 3127, 'glenn': 3128, 'perri': 3129, 'craven': 3130, 'min': 3131, 'slightest': 3132, 'fx': 3133, 'philosophi': 3134, 'hatr': 3135, 'ruth': 3136, 'gentl': 3137, 'flip': 3138, 'alexand': 3139, 'graduat': 3140, '20th': 3141, 'shortli': 3142, 'plausibl': 3143, 'rid': 3144, 'greek': 3145, 'wizard': 3146, 'falk': 3147, 'gandhi': 3148, 'modesti': 3149, 'holi': 3150, 'knight': 3151, 'jealou': 3152, 'unpleas': 3153, 'fund': 3154, 'futurist': 3155, 'tall': 3156, 'harm': 3157, 'preciou': 3158, 'dracula': 3159, 'felix': 3160, 'manhattan': 3161, 'lend': 3162, 'ocean': 3163, 'we': 3164, 'legal': 3165, 'childish': 3166, 'reviv': 3167, 'bless': 3168, 'mock': 3169, 'tank': 3170, 'giallo': 3171, 'forbidden': 3172, 'explicit': 3173, 'overdon': 3174, 'nod': 3175, 'ami': 3176, 'scientif': 3177, 'thread': 3178, 'digniti': 3179, 'broad': 3180, 'repeatedli': 3181, 'margaret': 3182, 'elderli': 3183, '2004': 3184, 'awaken': 3185, 'pirat': 3186, '99': 3187, 'eve': 3188, 'nerv': 3189, 'awe': 3190, 'verhoeven': 3191, 'torment': 3192, 'yesterday': 3193, 'thick': 3194, 'unwatch': 3195, 'mel': 3196, 'fever': 3197, 'lean': 3198, 'rivet': 3199, 'custom': 3200, 'automat': 3201, 'ambit': 3202, 'eas': 3203, 'politician': 3204, 'acclaim': 3205, 'roman': 3206, 'timothi': 3207, 'launch': 3208, 'absenc': 3209, 'bin': 3210, 'uniform': 3211, 'ah': 3212, 'griffith': 3213, 'royal': 3214, 'stiller': 3215, 'kay': 3216, 'publish': 3217, 'romero': 3218, 'warren': 3219, 'phrase': 3220, 'transport': 3221, 'pulp': 3222, 'tomato': 3223, 'purpl': 3224, 'crook': 3225, 'termin': 3226, 'wallac': 3227, 'darker': 3228, 'foul': 3229, 'homicid': 3230, 'stinker': 3231, 'sunshin': 3232, 'bathroom': 3233, 'pierc': 3234, 'gabriel': 3235, 'antic': 3236, 'kenneth': 3237, 'ought': 3238, 'album': 3239, 'marin': 3240, 'revolutionari': 3241, 'pray': 3242, 'viciou': 3243, 'awak': 3244, 'coloni': 3245, 'evolv': 3246, 'brazil': 3247, 'q': 3248, 'karen': 3249, 'horrid': 3250, 'packag': 3251, '2003': 3252, 'sixti': 3253, 'rambo': 3254, 'juvenil': 3255, 'saint': 3256, 'prom': 3257, 'donna': 3258, 'eyr': 3259, 'choreographi': 3260, 'hollow': 3261, 'contrari': 3262, 'li': 3263, 'ramon': 3264, 'defi': 3265, 'mummi': 3266, 'kapoor': 3267, 'overr': 3268, 'blade': 3269, 'conserv': 3270, 'stole': 3271, 'ireland': 3272, 'dose': 3273, 'twelv': 3274, 'candid': 3275, 'nerd': 3276, 'mildr': 3277, 'boast': 3278, 'beatti': 3279, 'option': 3280, 'natali': 3281, 'trio': 3282, 'protest': 3283, 'confirm': 3284, 'collabor': 3285, 'global': 3286, 'kirk': 3287, 'astonish': 3288, 'funer': 3289, 'altman': 3290, 'jazz': 3291, 'flame': 3292, 'detract': 3293, 'fulci': 3294, 'bull': 3295, 'tommi': 3296, 'enterpris': 3297, 'delici': 3298, 'nicholson': 3299, 'shade': 3300, 'bottl': 3301, 'yellow': 3302, 'audio': 3303, 'leap': 3304, 'mystic': 3305, 'spit': 3306, 'whip': 3307, 'racial': 3308, 'blake': 3309, 'destini': 3310, 'fonda': 3311, 'todd': 3312, 'neo': 3313, 'harder': 3314, 'altogeth': 3315, 'meaningless': 3316, 'inherit': 3317, 'merci': 3318, 'bedroom': 3319, 'threw': 3320, 'reunit': 3321, 'popcorn': 3322, 'adolesc': 3323, 'visibl': 3324, 'vivid': 3325, 'pseudo': 3326, 'staff': 3327, 'swedish': 3328, 'enchant': 3329, 'synopsi': 3330, 'edi': 3331, 'ruthless': 3332, 'exhibit': 3333, 'roommat': 3334, 'bust': 3335, 'fanat': 3336, 'atlanti': 3337, 'madonna': 3338, 'befriend': 3339, 'uneven': 3340, 'lemmon': 3341, 'suspici': 3342, 'kennedi': 3343, 'decor': 3344, 'leonard': 3345, 'await': 3346, 'lawrenc': 3347, 'reserv': 3348, 'moodi': 3349, 'tip': 3350, 'jew': 3351, 'respond': 3352, 'voight': 3353, 'crocodil': 3354, 'wire': 3355, 'rural': 3356, 'clumsi': 3357, 'bargain': 3358, 'centr': 3359, 'bold': 3360, 'carl': 3361, 'garner': 3362, 'dimens': 3363, 'bradi': 3364, '2007': 3365, 'chao': 3366, 'abysm': 3367, 'audit': 3368, 'incident': 3369, 'voyag': 3370, 'clint': 3371, 'ventur': 3372, 'holli': 3373, 'palma': 3374, 'unsettl': 3375, 'cd': 3376, 'ant': 3377, 'neglect': 3378, 'humili': 3379, 'wealth': 3380, 'elimin': 3381, 'lit': 3382, 'trail': 3383, 'acknowledg': 3384, 'cuba': 3385, 'cari': 3386, 'timon': 3387, 'echo': 3388, 'versu': 3389, 'mall': 3390, 'daddi': 3391, 'characterist': 3392, 'hart': 3393, '2nd': 3394, 'poetic': 3395, 'nearbi': 3396, 'tiger': 3397, 'imperson': 3398, 'immigr': 3399, 'troop': 3400, 'celluloid': 3401, 'collaps': 3402, 'domest': 3403, 'pun': 3404, 'solo': 3405, 'mickey': 3406, 'paus': 3407, 'mistaken': 3408, 'homer': 3409, 'marshal': 3410, 'infect': 3411, 'prejudic': 3412, 'saga': 3413, 'jeffrey': 3414, 'repuls': 3415, 'olivi': 3416, 'gear': 3417, 'sore': 3418, 'coat': 3419, 'inan': 3420, 'inappropri': 3421, 'interrupt': 3422, 'promin': 3423, 'assembl': 3424, '1996': 3425, 'coffe': 3426, 'hbo': 3427, 'pant': 3428, 'milk': 3429, 'undoubtedli': 3430, 'cake': 3431, 'harvey': 3432, 'leon': 3433, 'tribe': 3434, 'chest': 3435, 'apolog': 3436, 'ginger': 3437, 'equip': 3438, 'vulgar': 3439, 'embrac': 3440, 'colleagu': 3441, 'consum': 3442, 'pot': 3443, 'institut': 3444, 'maggi': 3445, 'jenni': 3446, 'devast': 3447, 'colonel': 3448, 'exot': 3449, 'pen': 3450, 'solut': 3451, 'florida': 3452, 'brooklyn': 3453, 'furthermor': 3454, 'highest': 3455, 'polanski': 3456, 'primari': 3457, 'retain': 3458, 'airplan': 3459, 'trace': 3460, 'aveng': 3461, 'instant': 3462, 'humbl': 3463, 'rick': 3464, '3rd': 3465, 'descend': 3466, 'bowl': 3467, 'godzilla': 3468, 'principl': 3469, 'gender': 3470, 'outer': 3471, 'wive': 3472, 'strain': 3473, '1999': 3474, 'illog': 3475, 'linda': 3476, 'disabl': 3477, 'smaller': 3478, 'ya': 3479, 'poke': 3480, 'seduct': 3481, 'dian': 3482, 'cope': 3483, 'dutch': 3484, 'sale': 3485, 'lol': 3486, 'devoid': 3487, 'beneath': 3488, 'primarili': 3489, 'cue': 3490, 'scope': 3491, 'rabbit': 3492, 'hal': 3493, 'gloriou': 3494, 'blatant': 3495, 'mixtur': 3496, 'bubbl': 3497, 'glamor': 3498, 'predecessor': 3499, 'secondli': 3500, 'inferior': 3501, 'vast': 3502, 'gundam': 3503, 'yard': 3504, 'dud': 3505, 'dive': 3506, 'countrysid': 3507, 'alert': 3508, 'talki': 3509, 'alfr': 3510, 'museum': 3511, 'casual': 3512, 'arab': 3513, 'pearl': 3514, 'simplist': 3515, 'trademark': 3516, 'senseless': 3517, 'invas': 3518, 'breed': 3519, 'disjoint': 3520, 'shirley': 3521, 'april': 3522, 'streep': 3523, 'grinch': 3524, 'myer': 3525, 'shelf': 3526, 'et': 3527, 'aggress': 3528, 'z': 3529, 'hideou': 3530, 'garbo': 3531, 'domino': 3532, 'uwe': 3533, 'robberi': 3534, 'rendit': 3535, 'khan': 3536, 'boom': 3537, 'hardcor': 3538, 'mail': 3539, 'robinson': 3540, 'disgrac': 3541, 'stir': 3542, 'hopeless': 3543, 'applaud': 3544, 'loyal': 3545, 'experiment': 3546, 'slide': 3547, 'defens': 3548, 'acid': 3549, 'obtain': 3550, 'oz': 3551, 'stack': 3552, 'vanish': 3553, 'unhappi': 3554, 'stellar': 3555, 'sh': 3556, 'mayor': 3557, 'illeg': 3558, 'maci': 3559, 'declin': 3560, 'craze': 3561, 'diana': 3562, 'fri': 3563, 'tempt': 3564, 'amanda': 3565, 'span': 3566, 'berlin': 3567, 'wont': 3568, 'psychic': 3569, 'blew': 3570, 'emphasi': 3571, 'spider': 3572, 'grandfath': 3573, 'hartley': 3574, 'topless': 3575, 'rifl': 3576, 'dismiss': 3577, 'counter': 3578, 'soccer': 3579, 'tenant': 3580, 'incomprehens': 3581, 'recruit': 3582, 'scroog': 3583, 'dicken': 3584, 'intim': 3585, 'shed': 3586, 'ethnic': 3587, 'faster': 3588, 'ration': 3589, 'bitch': 3590, 'goer': 3591, 'justin': 3592, 'wet': 3593, 'shaw': 3594, 'trashi': 3595, 'sibl': 3596, 'parad': 3597, 'riot': 3598, 'woo': 3599, 'niro': 3600, 'revolt': 3601, 'sympath': 3602, 'resurrect': 3603, 'porno': 3604, 'lumet': 3605, 'hopper': 3606, 'feminist': 3607, 'immort': 3608, 'honesti': 3609, 'commend': 3610, 'gap': 3611, 'andr': 3612, 'dealer': 3613, 'eager': 3614, 'steam': 3615, 'partial': 3616, 'choru': 3617, 'ensur': 3618, 'wheel': 3619, 'unreal': 3620, 'mario': 3621, 'slick': 3622, 'biographi': 3623, '00': 3624, 'weakest': 3625, 'nephew': 3626, 'jonathan': 3627, 'patriot': 3628, 'rider': 3629, 'hesit': 3630, 'farmer': 3631, 'ballet': 3632, 'wendi': 3633, 'enlighten': 3634, 'worm': 3635, 'region': 3636, 'lena': 3637, 'properti': 3638, 'charlott': 3639, 'morri': 3640, 'psychopath': 3641, 'wore': 3642, 'vice': 3643, 'repress': 3644, 'kingdom': 3645, 'leo': 3646, 'sandra': 3647, 'safeti': 3648, 'prequel': 3649, 'owen': 3650, 'sappi': 3651, 'confin': 3652, 'victori': 3653, 'hung': 3654, 'macarthur': 3655, 'nostalg': 3656, 'skull': 3657, 'mutant': 3658, 'composit': 3659, 'franco': 3660, 'snap': 3661, 'similarli': 3662, 'blunt': 3663, 'util': 3664, 'acquir': 3665, 'emperor': 3666, 'drain': 3667, 'rope': 3668, 'deed': 3669, 'hyde': 3670, 'pattern': 3671, 'despair': 3672, 'valuabl': 3673, 'snl': 3674, 'exit': 3675, 'miseri': 3676, 'bow': 3677, 'whoopi': 3678, 'farrel': 3679, 'rocki': 3680, 'montana': 3681, 'dalton': 3682, 'latin': 3683, 'tad': 3684, 'nervou': 3685, 'del': 3686, 'cg': 3687, '1972': 3688, 'heartbreak': 3689, 'thru': 3690, 'tail': 3691, 'rambl': 3692, 'dust': 3693, 'drum': 3694, 'strand': 3695, 'campbel': 3696, 'kyle': 3697, 'repli': 3698, 'bumbl': 3699, 'compens': 3700, 'bergman': 3701, 'speci': 3702, 'compass': 3703, 'recycl': 3704, 'bonu': 3705, 'oppress': 3706, 'orson': 3707, 'rapist': 3708, 'mistress': 3709, 'tonight': 3710, 'rotten': 3711, 'downhil': 3712, 'airport': 3713, 'chess': 3714, 'gimmick': 3715, 'wacki': 3716, 'pour': 3717, 'radic': 3718, 'gal': 3719, 'percept': 3720, 'contempl': 3721, 'martian': 3722, '35': 3723, 'da': 3724, 'carradin': 3725, 'bleed': 3726, 'romp': 3727, 'slug': 3728, 'olli': 3729, 'roth': 3730, 'heal': 3731, 'banal': 3732, 'arc': 3733, 'champion': 3734, 'mislead': 3735, 'preach': 3736, 'pervers': 3737, 'pursuit': 3738, 'pervert': 3739, 'dazzl': 3740, '1983': 3741, 'attorney': 3742, 'stilt': 3743, 'belt': 3744, 'shelley': 3745, 'melodi': 3746, 'paltrow': 3747, 'programm': 3748, 'slash': 3749, 'edgar': 3750, 'unpredict': 3751, 'arguabl': 3752, 'tooth': 3753, 'taught': 3754, 'tackl': 3755, 'closest': 3756, 'virginia': 3757, 'vocal': 3758, 'tiresom': 3759, 'conneri': 3760, 'raymond': 3761, 'poem': 3762, 'chicken': 3763, 'employe': 3764, 'rubi': 3765, 'mesmer': 3766, 'orang': 3767, 'maid': 3768, 'gambl': 3769, 'marti': 3770, 'plight': 3771, 'cleverli': 3772, 'graham': 3773, 'duval': 3774, 'bela': 3775, 'dixon': 3776, 'sensat': 3777, 'uplift': 3778, 'vengeanc': 3779, 'passeng': 3780, 'franki': 3781, 'quarter': 3782, 'iran': 3783, 'volum': 3784, 'whine': 3785, '1968': 3786, 'outing': 3787, 'profan': 3788, 'bay': 3789, 'engross': 3790, 'convincingli': 3791, 'extens': 3792, 'secretli': 3793, 'abraham': 3794, 'climact': 3795, 'amitabh': 3796, 'clone': 3797, 'paranoia': 3798, 'tube': 3799, 'inject': 3800, 'swallow': 3801, 'monologu': 3802, 'scottish': 3803, 'mute': 3804, 'habit': 3805, 'numb': 3806, 'giggl': 3807, 'crystal': 3808, 'calm': 3809, 'suffic': 3810, 'sirk': 3811, 'pokemon': 3812, 'yawn': 3813, 'gerard': 3814, 'lundgren': 3815, 'lowest': 3816, 'frankenstein': 3817, 'meander': 3818, 'chicago': 3819, 'junior': 3820, 'nichola': 3821, 'taxi': 3822, 'im': 3823, 'surpass': 3824, 'franci': 3825, 'trend': 3826, 'spock': 3827, 'backward': 3828, 'richardson': 3829, 'profess': 3830, 'dispos': 3831, 'expand': 3832, 'septemb': 3833, 'abort': 3834, 'underst': 3835, 'plod': 3836, 'fed': 3837, 'bend': 3838, 'poetri': 3839, 'earl': 3840, 'linger': 3841, 'grotesqu': 3842, 'ethan': 3843, 'austen': 3844, 'tourist': 3845, 'simplic': 3846, 'muddl': 3847, 'hum': 3848, 'compliment': 3849, 'instrument': 3850, 'household': 3851, 'der': 3852, 'sue': 3853, 'catchi': 3854, 'greedi': 3855, 'waitress': 3856, 'mundan': 3857, 'lure': 3858, 'literatur': 3859, 'dysfunct': 3860, 'cannon': 3861, 'stallon': 3862, 'nostalgia': 3863, 'eugen': 3864, 'spoke': 3865, 'econom': 3866, 'myth': 3867, 'rubber': 3868, 'descent': 3869, 'rant': 3870, 'hello': 3871, 'deaf': 3872, 'damon': 3873, 'phantom': 3874, 'irrelev': 3875, 'sissi': 3876, 'carel': 3877, 'lang': 3878, 'recognis': 3879, 'mortal': 3880, 'alongsid': 3881, 'stale': 3882, 'randi': 3883, 'dictat': 3884, 'map': 3885, 'mankind': 3886, 'june': 3887, 'crucial': 3888, 'louis': 3889, 'cent': 3890, 'recognit': 3891, 'duck': 3892, 'equival': 3893, 'coast': 3894, 'molli': 3895, 'furi': 3896, 'dement': 3897, 'bacal': 3898, 'firstli': 3899, 'occupi': 3900, 'eaten': 3901, 'flee': 3902, 'phoni': 3903, 'omen': 3904, 'insur': 3905, 'antwon': 3906, 'cyborg': 3907, 'rooney': 3908, 'blackmail': 3909, 'freez': 3910, 'bike': 3911, 'onlin': 3912, 'rude': 3913, 'heel': 3914, 'twilight': 3915, 'labor': 3916, 'damm': 3917, 'wisdom': 3918, 'ashley': 3919, 'daisi': 3920, 'loyalti': 3921, 'bump': 3922, 'dreari': 3923, '1973': 3924, 'reign': 3925, 'grayson': 3926, 'likewis': 3927, 'drake': 3928, 'distinguish': 3929, 'lengthi': 3930, 'newli': 3931, 'buffalo': 3932, 'biko': 3933, 'baddi': 3934, 'emphas': 3935, 'analysi': 3936, 'proce': 3937, 'startl': 3938, 'butler': 3939, 'worn': 3940, 'attribut': 3941, 'unorigin': 3942, 'ridden': 3943, 'keith': 3944, 'interior': 3945, 'nineti': 3946, 'exposur': 3947, 'inher': 3948, 'incorpor': 3949, 'sailor': 3950, 'chronicl': 3951, 'vein': 3952, 'basketbal': 3953, 'pink': 3954, 'approv': 3955, 'boxer': 3956, 'prey': 3957, 'tunnel': 3958, 'provoc': 3959, 'barrymor': 3960, 'carla': 3961, 'walsh': 3962, 'indiffer': 3963, 'hypnot': 3964, 'predat': 3965, 'degrad': 3966, 'simmon': 3967, 'underli': 3968, 'meyer': 3969, 'robbin': 3970, 'barrel': 3971, 'nicol': 3972, 'mighti': 3973, 'elm': 3974, 'drift': 3975, 'meg': 3976, 'mormon': 3977, 'undeni': 3978, 'substitut': 3979, 'er': 3980, 'belushi': 3981, 'othello': 3982, 'julian': 3983, 'bunni': 3984, 'unrel': 3985, 'stalker': 3986, 'condemn': 3987, 'improvis': 3988, 'millionair': 3989, 'fleet': 3990, 'palac': 3991, 'edgi': 3992, 'priceless': 3993, 'unawar': 3994, 'firm': 3995, 'roof': 3996, 'alison': 3997, 'alarm': 3998, 'lampoon': 3999, 'agenda': 4000, 'greed': 4001, 'hay': 4002, 'shove': 4003, 'mtv': 4004, 'vital': 4005, '3d': 4006, 'reid': 4007, 'marion': 4008, 'watson': 4009, 'dolph': 4010, 'rukh': 4011, 'exquisit': 4012, 'errol': 4013, 'warmth': 4014, 'disord': 4015, 'nyc': 4016, 'enthusiasm': 4017, 'novak': 4018, 'what': 4019, 'profit': 4020, 'championship': 4021, 'ponder': 4022, 'pamela': 4023, 'showdown': 4024, 'testament': 4025, 'peril': 4026, 'valentin': 4027, 'eastern': 4028, 'petti': 4029, 'angela': 4030, 'cassidi': 4031, 'campaign': 4032, 'gestur': 4033, 'glanc': 4034, '1933': 4035, 'minimum': 4036, 'crown': 4037, 'randomli': 4038, 'sergeant': 4039, 'orlean': 4040, 'preserv': 4041, 'peck': 4042, 'beatl': 4043, 'simultan': 4044, 'spain': 4045, 'zizek': 4046, '13th': 4047, 'coup': 4048, 'israel': 4049, 'thompson': 4050, 'session': 4051, 'iraq': 4052, 'unleash': 4053, 'distort': 4054, 'drip': 4055, 'nun': 4056, 'exposit': 4057, 'reson': 4058, 'perpetu': 4059, 'restrain': 4060, 'bro': 4061, 'empathi': 4062, 'han': 4063, 'calib': 4064, 'valley': 4065, 'contradict': 4066, 'shootout': 4067, 'crow': 4068, 'jan': 4069, 'din': 4070, 'buster': 4071, 'stake': 4072, 'quinn': 4073, 'cooki': 4074, 'mon': 4075, 'brenda': 4076, 'regist': 4077, 'wig': 4078, 'scotland': 4079, 'kurosawa': 4080, 'miyazaki': 4081, 'stroke': 4082, 'realm': 4083, 'travesti': 4084, 'unimagin': 4085, '1984': 4086, 'crawl': 4087, 'gentleman': 4088, 'fido': 4089, 'climat': 4090, 'represent': 4091, 'cream': 4092, 'rout': 4093, 'sabrina': 4094, 'compromis': 4095, 'fuller': 4096, 'unsatisfi': 4097, '1987': 4098, 'pretens': 4099, 'cloud': 4100, 'stargat': 4101, 'unseen': 4102, '1997': 4103, 'ross': 4104, 'mclaglen': 4105, 'sucker': 4106, 'dana': 4107, 'demis': 4108, 'derang': 4109, 'femm': 4110, 'wax': 4111, 'absent': 4112, 'shoddi': 4113, 'pole': 4114, 'greg': 4115, 'baldwin': 4116, 'abomin': 4117, 'josh': 4118, 'ustinov': 4119, 'crawford': 4120, 'meryl': 4121, 'delic': 4122, 'geek': 4123, 'passabl': 4124, 'shaki': 4125, 'sammi': 4126, 'monoton': 4127, 'warrant': 4128, 'tacki': 4129, 'traumat': 4130, 'perceiv': 4131, 'businessman': 4132, 'soderbergh': 4133, 'spacey': 4134, 'distress': 4135, 'darren': 4136, 'painter': 4137, 'censor': 4138, 'dee': 4139, 'deceas': 4140, 'reluct': 4141, 'exclus': 4142, 'furiou': 4143, 'click': 4144, 'kumar': 4145, 'wholli': 4146, 'polici': 4147, 'tarantino': 4148, 'anchor': 4149, 'tech': 4150, 'uncov': 4151, 'verbal': 4152, 'seal': 4153, 'jewel': 4154, 'fog': 4155, 'norm': 4156, 'accuraci': 4157, 'fenc': 4158, 'unravel': 4159, 'deniro': 4160, 'valid': 4161, 'judgment': 4162, 'austin': 4163, 'clash': 4164, 'correctli': 4165, 'nathan': 4166, 'primit': 4167, 'sid': 4168, 'antonioni': 4169, 'expedit': 4170, '1993': 4171, 'debt': 4172, 'fart': 4173, 'alec': 4174, '2008': 4175, 'temper': 4176, 'vanc': 4177, 'darn': 4178, 'hallucin': 4179, 'nicola': 4180, 'trait': 4181, 'sheet': 4182, 'tax': 4183, '3000': 4184, 'sand': 4185, 'murray': 4186, 'crippl': 4187, '1995': 4188, 'dreck': 4189, 'mode': 4190, 'slam': 4191, 'wretch': 4192, '1971': 4193, 'logan': 4194, 'conduct': 4195, 'sunni': 4196, 'clerk': 4197, 'sustain': 4198, 'enforc': 4199, 'seldom': 4200, 'behold': 4201, 'fabric': 4202, 'malon': 4203, 'pocket': 4204, 'roller': 4205, 'unfair': 4206, 'wang': 4207, 'fought': 4208, 'patienc': 4209, 'joel': 4210, 'bake': 4211, 'ritual': 4212, 'shanghai': 4213, 'bias': 4214, 'isabel': 4215, 'robber': 4216, 'helpless': 4217, 'penni': 4218, 'tactic': 4219, 'stark': 4220, 'runner': 4221, 'canyon': 4222, 'conscious': 4223, 'phil': 4224, 'technicolor': 4225, 'sweep': 4226, 'squad': 4227, 'pete': 4228, 'guitar': 4229, 'despis': 4230, 'rita': 4231, 'soup': 4232, 'fundament': 4233, 'scriptwrit': 4234, 'divid': 4235, 'clau': 4236, 'shell': 4237, 'critiqu': 4238, 'exhaust': 4239, 'schedul': 4240, 'outlin': 4241, 'legaci': 4242, 'grief': 4243, 'preston': 4244, 'stuart': 4245, 'preposter': 4246, 'bridget': 4247, 'jacket': 4248, 'boyl': 4249, 'russia': 4250, 'propos': 4251, 'consciou': 4252, 'liberti': 4253, 'invad': 4254, 'inabl': 4255, 'newman': 4256, 'alley': 4257, 'downey': 4258, 'passag': 4259, 'culmin': 4260, 'delv': 4261, 'restrict': 4262, 'cigarett': 4263, 'rehash': 4264, 'rear': 4265, 'jodi': 4266, 'unexpectedli': 4267, 'vomit': 4268, 'flair': 4269, 'gregori': 4270, 'implic': 4271, 'bloom': 4272, 'lacklust': 4273, 'drove': 4274, 'connor': 4275, 'kansa': 4276, 'sentinel': 4277, 'agenc': 4278, 'marc': 4279, 'palanc': 4280, 'alicia': 4281, 'sugar': 4282, 'sniper': 4283, 'improb': 4284, '22': 4285, 'rod': 4286, 'aesthet': 4287, 'arrow': 4288, 'ladder': 4289, 'vet': 4290, 'behaviour': 4291, 'rehears': 4292, 'mccoy': 4293, 'cap': 4294, 'bacon': 4295, 'rampag': 4296, 'feat': 4297, 'awhil': 4298, 'tripe': 4299, 'wrench': 4300, 'delet': 4301, '1936': 4302, 'chainsaw': 4303, 'tendenc': 4304, 'karl': 4305, 'lush': 4306, 'foxx': 4307, 'asylum': 4308, 'pale': 4309, 'horn': 4310, 'kolchak': 4311, 'sharon': 4312, 'yeti': 4313, 'hungri': 4314, 'tasteless': 4315, 'shortcom': 4316, 'aristocrat': 4317, 'minu': 4318, 'globe': 4319, 'lurk': 4320, '1988': 4321, '19th': 4322, 'paramount': 4323, 'hackney': 4324, 'paradis': 4325, 'stream': 4326, 'spice': 4327, 'suspicion': 4328, 'el': 4329, '1920': 4330, 'elit': 4331, 'fright': 4332, 'newcom': 4333, 'amazon': 4334, 'basing': 4335, 'prank': 4336, 'visitor': 4337, 'conscienc': 4338, 'sung': 4339, 'rumor': 4340, 'wildli': 4341, 'weav': 4342, 'scoop': 4343, 'wagner': 4344, 'coaster': 4345, 'filler': 4346, 'rhythm': 4347, 'thunderbird': 4348, 'tomorrow': 4349, 'hulk': 4350, 'loneli': 4351, '1978': 4352, 'suffici': 4353, 'underneath': 4354, 'financ': 4355, 'penn': 4356, 'smell': 4357, 'iv': 4358, 'recogniz': 4359, 'impos': 4360, 'counterpart': 4361, 'ingeni': 4362, 'atroc': 4363, 'secondari': 4364, 'chamberlain': 4365, 'rub': 4366, 'quietli': 4367, '1939': 4368, '1989': 4369, 'cancer': 4370, 'naughti': 4371, 'posey': 4372, 'brit': 4373, 'immers': 4374, 'heist': 4375, 'standout': 4376, 'paxton': 4377, 'couch': 4378, 'leigh': 4379, 'minist': 4380, 'bread': 4381, 'abrupt': 4382, 'springer': 4383, 'inmat': 4384, 'ram': 4385, 'grudg': 4386, 'en': 4387, 'curli': 4388, 'dirt': 4389, 'beverli': 4390, 'lectur': 4391, 'entranc': 4392, 'tierney': 4393, 'choppi': 4394, '75': 4395, 'straightforward': 4396, 'worship': 4397, 'teas': 4398, 'literari': 4399, 'chavez': 4400, 'hopkin': 4401, 'wwe': 4402, 'misguid': 4403, 'transcend': 4404, 'convert': 4405, 'esther': 4406, 'quaid': 4407, 'entitl': 4408, 'injuri': 4409, 'missil': 4410, 'nemesi': 4411, 'ace': 4412, 'lindsay': 4413, 'cattl': 4414, 'attenborough': 4415, 'yearn': 4416, 'duel': 4417, 'geni': 4418, 'laurenc': 4419, 'morbid': 4420, 'net': 4421, 'nolan': 4422, 'variat': 4423, 'watcher': 4424, 'policeman': 4425, 'heartfelt': 4426, 'moreov': 4427, '1986': 4428, 'bernard': 4429, 'ratso': 4430, 'sassi': 4431, 'enthral': 4432, 'skeptic': 4433, 'sublim': 4434, 'clan': 4435, 'uncut': 4436, 'grin': 4437, '1979': 4438, 'rosemari': 4439, 'artsi': 4440, 'steadi': 4441, 'bean': 4442, 'moder': 4443, 'hopelessli': 4444, 'kitti': 4445, 'vader': 4446, 'carlito': 4447, 'characteris': 4448, 'facil': 4449, 'puppi': 4450, 'graini': 4451, 'tyler': 4452, 'egg': 4453, 'kidman': 4454, 'dont': 4455, 'youngest': 4456, 'reliabl': 4457, 'unexplain': 4458, 'bye': 4459, 'out': 4460, 'setup': 4461, 'poe': 4462, 'mytholog': 4463, 'diari': 4464, 'spiral': 4465, 'hk': 4466, 'brood': 4467, 'buzz': 4468, 'obstacl': 4469, 'enabl': 4470, 'cruelti': 4471, 'acquaint': 4472, 'heap': 4473, 'hain': 4474, 'hammi': 4475, 'niec': 4476, 'baffl': 4477, 'weather': 4478, 'patricia': 4479, 'spontan': 4480, 'preming': 4481, 'effici': 4482, 'exterior': 4483, 'bounc': 4484, 'underworld': 4485, 'narrow': 4486, 'bewar': 4487, 'brendan': 4488, 'kline': 4489, 'decept': 4490, 'athlet': 4491, 'oblig': 4492, 'bronson': 4493, 'christin': 4494, 'fuel': 4495, 'clueless': 4496, 'sweat': 4497, 'despic': 4498, 'martha': 4499, 'gina': 4500, 'disastr': 4501, 'gillian': 4502, '1969': 4503, 'dandi': 4504, 'harmless': 4505, 'renaiss': 4506, 'sleepwalk': 4507, 'mayhem': 4508, 'biker': 4509, 'circu': 4510, 'shatter': 4511, 'tick': 4512, 'injur': 4513, 'fontain': 4514, 'enlist': 4515, 'goof': 4516, 'uh': 4517, 'taboo': 4518, 'preachi': 4519, '19': 4520, 'suprem': 4521, 'loi': 4522, 'dilemma': 4523, 'analyz': 4524, 'insipid': 4525, 'housewif': 4526, 'viewpoint': 4527, 'sooner': 4528, 'headach': 4529, 'angst': 4530, 'loath': 4531, 'virtu': 4532, 'scar': 4533, 'trigger': 4534, 'mermaid': 4535, 'lester': 4536, 'astound': 4537, 'candl': 4538, 'hepburn': 4539, '73': 4540, 'outlaw': 4541, 'rome': 4542, 'slimi': 4543, 'steer': 4544, 'boston': 4545, 'redund': 4546, 'cassavet': 4547, 'camcord': 4548, 'idol': 4549, 'bent': 4550, 'immatur': 4551, 'hooker': 4552, 'fluff': 4553, 'stimul': 4554, 'claustrophob': 4555, 'macho': 4556, 'filth': 4557, 'hostag': 4558, 'stair': 4559, 'scorses': 4560, 'foolish': 4561, 'intric': 4562, 'whore': 4563, 'glorifi': 4564, 'sox': 4565, 'phenomenon': 4566, 'dismal': 4567, 'oldest': 4568, 'spade': 4569, 'hokey': 4570, 'surgeri': 4571, 'ariel': 4572, 'amor': 4573, 'contempt': 4574, 'gere': 4575, 'salt': 4576, 'dish': 4577, 'overlong': 4578, 'ebert': 4579, 'corbett': 4580, 'guin': 4581, 'zoom': 4582, 'tripl': 4583, '1981': 4584, 'margin': 4585, 'harold': 4586, 'mutual': 4587, 'shred': 4588, 'transplant': 4589, 'spinal': 4590, 'down': 4591, 'assert': 4592, 'beard': 4593, 'spree': 4594, 'shield': 4595, 'cow': 4596, 'alvin': 4597, 'antagonist': 4598, 'muscl': 4599, 'nolt': 4600, 'perman': 4601, 'gasp': 4602, 'joker': 4603, 'conquer': 4604, 'widescreen': 4605, 'trivia': 4606, 'preced': 4607, 'frantic': 4608, 'remad': 4609, 'obligatori': 4610, 'dwarf': 4611, 'flirt': 4612, '1976': 4613, 'messi': 4614, 'faint': 4615, 'schlock': 4616, 'cohen': 4617, 'gabl': 4618, 'fascist': 4619, 'flag': 4620, 'keen': 4621, 'astronaut': 4622, 'flashi': 4623, 'strongest': 4624, 'proport': 4625, 'radiat': 4626, 'corman': 4627, 'mount': 4628, 'rhyme': 4629, 'cush': 4630, 'zane': 4631, 'naschi': 4632, 'sensual': 4633, 'deer': 4634, 'departur': 4635, '28': 4636, 'strive': 4637, 'boob': 4638, 'ritchi': 4639, 'instruct': 4640, 'archiv': 4641, 'raj': 4642, 'www': 4643, '95': 4644, 'bachelor': 4645, 'scandal': 4646, 'brush': 4647, 'off': 4648, 'fishburn': 4649, 'claud': 4650, 'danish': 4651, 'triangl': 4652, 'neurot': 4653, 'info': 4654, 'interestingli': 4655, 'inflict': 4656, 'mobil': 4657, 'someday': 4658, 'divin': 4659, 'repris': 4660, 'aborigin': 4661, 'wield': 4662, 'vaniti': 4663, '1945': 4664, 'flock': 4665, 'barn': 4666, 'carey': 4667, 'resum': 4668, 'discern': 4669, 'persuad': 4670, 'hara': 4671, 'mol': 4672, 'bitten': 4673, 'rot': 4674, 'pickford': 4675, 'frontier': 4676, 'wendigo': 4677, 'mobster': 4678, 'pacif': 4679, 'banter': 4680, 'hilar': 4681, 'undermin': 4682, 'senior': 4683, 'cher': 4684, 'jade': 4685, 'recit': 4686, 'submit': 4687, 'miracul': 4688, 'carlo': 4689, 'proclaim': 4690, 'pixar': 4691, 'bate': 4692, 'casino': 4693, 'parson': 4694, 'biblic': 4695, 'ish': 4696, 'artwork': 4697, 'melissa': 4698, 'clad': 4699, 'kathryn': 4700, 'hapless': 4701, 'earnest': 4702, 'harrison': 4703, 'dim': 4704, 'luka': 4705, 'colin': 4706, 'cycl': 4707, 'axe': 4708, 'neill': 4709, 'helm': 4710, 'dame': 4711, 'hug': 4712, 'vibrant': 4713, 'heartwarm': 4714, 'prophet': 4715, 'fragil': 4716, 'europa': 4717, 'loretta': 4718, 'cliffhang': 4719, 'dylan': 4720, 'timberlak': 4721, 'anton': 4722, 'cb': 4723, 'traffic': 4724, 'bondag': 4725, 'electron': 4726, 'legitim': 4727, 'misfortun': 4728, 'milo': 4729, 'toronto': 4730, 'bikini': 4731, 'sicken': 4732, 'feast': 4733, 'token': 4734, 'http': 4735, 'venom': 4736, 'marlon': 4737, 'lui': 4738, 'jo': 4739, 'vile': 4740, 'blatantli': 4741, 'redneck': 4742, 'pc': 4743, 'static': 4744, 'antholog': 4745, 'orphan': 4746, 'foil': 4747, 'breakfast': 4748, 'holocaust': 4749, 'vanessa': 4750, 'cerebr': 4751, 'northern': 4752, 'jordan': 4753, 'articl': 4754, 'illus': 4755, 'eli': 4756, 'wardrob': 4757, 'seedi': 4758, 'shepherd': 4759, 'aris': 4760, 'lucil': 4761, 'mathieu': 4762, 'estrang': 4763, 'choke': 4764, 'trier': 4765, 'akin': 4766, 'rooki': 4767, 'mason': 4768, 'razor': 4769, 'isra': 4770, 'uma': 4771, 'nope': 4772, 'flavor': 4773, 'alexandr': 4774, 'winchest': 4775, 'linear': 4776, 'ideolog': 4777, 'leather': 4778, 'clinic': 4779, 'ceremoni': 4780, 'tack': 4781, 'oppon': 4782, 'howl': 4783, 'comprehend': 4784, 'deem': 4785, 'retriev': 4786, 'highway': 4787, 'gunga': 4788, 'frog': 4789, 'disregard': 4790, 'psych': 4791, 'dudley': 4792, 'wrestler': 4793, 'styliz': 4794, 'charlton': 4795, 'audrey': 4796, 'affleck': 4797, 'fifth': 4798, 'knightley': 4799, 'feminin': 4800, 'huston': 4801, 'peer': 4802, 'magician': 4803, 'outdat': 4804, 'glare': 4805, 'boyer': 4806, 'swept': 4807, 'gilbert': 4808, 'smack': 4809, 'cartoonish': 4810, 'abund': 4811, 'shorter': 4812, 'turd': 4813, 'nightclub': 4814, 'collector': 4815, 'compris': 4816, 'btw': 4817, 'moe': 4818, 'deliver': 4819, 'bastard': 4820, 'plate': 4821, 'evolut': 4822, 'client': 4823, 'einstein': 4824, 'senat': 4825, 'breakdown': 4826, 'sleaz': 4827, '1991': 4828, 'corn': 4829, 'cuban': 4830, 'cemeteri': 4831, 'lifeless': 4832, '4th': 4833, '1994': 4834, 'salman': 4835, 'conrad': 4836, 'boo': 4837, 'newer': 4838, 'summar': 4839, 'spine': 4840, 'phenomen': 4841, 'monument': 4842, 'chip': 4843, 'lighter': 4844, 'spawn': 4845, 'greet': 4846, 'tara': 4847, 'energet': 4848, 'goldsworthi': 4849, 'mitch': 4850, 'uniformli': 4851, 'snatch': 4852, 'bogu': 4853, 'potter': 4854, 'toe': 4855, 'lavish': 4856, 'whack': 4857, 'durat': 4858, 'braveheart': 4859, 'clara': 4860, 'firmli': 4861, 'historian': 4862, '1974': 4863, 'kent': 4864, '1977': 4865, 'neatli': 4866, 'eleven': 4867, 'healthi': 4868, 'spectacl': 4869, 'occup': 4870, 'pronounc': 4871, 'ol': 4872, 'jam': 4873, 'jare': 4874, 'evelyn': 4875, 'liu': 4876, 'trauma': 4877, 'luxuri': 4878, 'embark': 4879, 'wtf': 4880, 'judd': 4881, 'undead': 4882, 'mcqueen': 4883, 'belli': 4884, 'jule': 4885, 'replay': 4886, 'fluid': 4887, 'bulk': 4888, 'bori': 4889, 'undertak': 4890, 'sorrow': 4891, 'outright': 4892, 'randolph': 4893, 'ie': 4894, 'armstrong': 4895, 'cecil': 4896, 'appl': 4897, 'kazan': 4898, 'signal': 4899, 'lex': 4900, 'creek': 4901, 'gilliam': 4902, 'constitut': 4903, 'nina': 4904, 'alleg': 4905, 'capot': 4906, 'inaccuraci': 4907, 'jedi': 4908, 'unattract': 4909, 'miami': 4910, '1985': 4911, 'kiddi': 4912, 'truman': 4913, 'relentless': 4914, 'propheci': 4915, 'vignett': 4916, 'miniseri': 4917, 'walt': 4918, 'mum': 4919, 'poker': 4920, 'congratul': 4921, 'vain': 4922, 'inaccur': 4923, 'pepper': 4924, 'carmen': 4925, 'comb': 4926, 'groan': 4927, 'curtain': 4928, 'pioneer': 4929, 'ash': 4930, 'palm': 4931, 'id': 4932, 'antonio': 4933, 'cape': 4934, 'paula': 4935, 'meal': 4936, 'forgiven': 4937, 'sacrif': 4938, 'lanc': 4939, 'genet': 4940, 'unsuspect': 4941, 'subtli': 4942, 'tokyo': 4943, 'lauren': 4944, 'bait': 4945, 'sidewalk': 4946, 'galaxi': 4947, 'basket': 4948, 'inclus': 4949, 'goldblum': 4950, 'fruit': 4951, 'spray': 4952, 'abound': 4953, 'aussi': 4954, 'porter': 4955, 'knee': 4956, 'decapit': 4957, 'blur': 4958, 'rosario': 4959, 'roar': 4960, 'comprehens': 4961, 'bsg': 4962, 'conan': 4963, 'monti': 4964, 'omin': 4965, 'weari': 4966, 'reincarn': 4967, 'hackman': 4968, 'motorcycl': 4969, 'asset': 4970, '21st': 4971, 'substanti': 4972, 'profil': 4973, 'verg': 4974, 'sparkl': 4975, 'mice': 4976, 'scariest': 4977, 'spill': 4978, 'playboy': 4979, 'bach': 4980, 'cypher': 4981, 'orchestr': 4982, 'assort': 4983, 'growth': 4984, 'detach': 4985, 'evan': 4986, 'masterson': 4987, 'vastli': 4988, 'turtl': 4989, 'victorian': 4990, 'frontal': 4991, 'scarfac': 4992, 'dubiou': 4993, 'sophi': 4994, 'rapidli': 4995, 'drone': 4996, 'ghetto': 4997, 'incorrect': 4998, 'optimist': 4999}\n"
     ]
    }
   ],
   "source": [
    "word_dict = build_dict(train_X)\n",
    "print(word_dict)"
   ]
  },
  {
   "cell_type": "markdown",
   "metadata": {},
   "source": [
    "**Question:** What are the five most frequently appearing (tokenized) words in the training set? Does it makes sense that these words appear frequently in the training set?"
   ]
  },
  {
   "cell_type": "markdown",
   "metadata": {},
   "source": [
    "**Answer:**the five most frequently appearing words are 'movi', 'film', 'one', 'like', 'time'"
   ]
  },
  {
   "cell_type": "code",
   "execution_count": 31,
   "metadata": {},
   "outputs": [
    {
     "data": {
      "text/plain": [
       "['movi', 'film', 'one', 'like', 'time']"
      ]
     },
     "execution_count": 31,
     "metadata": {},
     "output_type": "execute_result"
    }
   ],
   "source": [
    "# TODO: Use this space to determine the five most frequently appearing words in the training set.\n",
    "list(word_dict.keys())[0:5]"
   ]
  },
  {
   "cell_type": "markdown",
   "metadata": {},
   "source": [
    "### Save `word_dict`\n",
    "\n",
    "Later on when we construct an endpoint which processes a submitted review we will need to make use of the `word_dict` which we have created. As such, we will save it to a file now for future use."
   ]
  },
  {
   "cell_type": "code",
   "execution_count": 32,
   "metadata": {},
   "outputs": [],
   "source": [
    "data_dir = '../data/pytorch' # The folder we will use for storing data\n",
    "if not os.path.exists(data_dir): # Make sure that the folder exists\n",
    "    os.makedirs(data_dir)"
   ]
  },
  {
   "cell_type": "code",
   "execution_count": 33,
   "metadata": {},
   "outputs": [],
   "source": [
    "with open(os.path.join(data_dir, 'word_dict.pkl'), \"wb\") as f:\n",
    "    pickle.dump(word_dict, f)"
   ]
  },
  {
   "cell_type": "markdown",
   "metadata": {},
   "source": [
    "### Transform the reviews\n",
    "\n",
    "Now that we have our word dictionary which allows us to transform the words appearing in the reviews into integers, it is time to make use of it and convert our reviews to their integer sequence representation, making sure to pad or truncate to a fixed length, which in our case is `500`."
   ]
  },
  {
   "cell_type": "code",
   "execution_count": 34,
   "metadata": {},
   "outputs": [],
   "source": [
    "def convert_and_pad(word_dict, sentence, pad=500):\n",
    "    NOWORD = 0 # We will use 0 to represent the 'no word' category\n",
    "    INFREQ = 1 # and we use 1 to represent the infrequent words, i.e., words not appearing in word_dict\n",
    "    \n",
    "    working_sentence = [NOWORD] * pad\n",
    "    \n",
    "    for word_index, word in enumerate(sentence[:pad]):\n",
    "        if word in word_dict:\n",
    "            working_sentence[word_index] = word_dict[word]\n",
    "        else:\n",
    "            working_sentence[word_index] = INFREQ\n",
    "            \n",
    "    return working_sentence, min(len(sentence), pad)\n",
    "\n",
    "def convert_and_pad_data(word_dict, data, pad=500):\n",
    "    result = []\n",
    "    lengths = []\n",
    "    \n",
    "    for sentence in data:\n",
    "        converted, leng = convert_and_pad(word_dict, sentence, pad)\n",
    "        result.append(converted)\n",
    "        lengths.append(leng)\n",
    "        \n",
    "    return np.array(result), np.array(lengths)"
   ]
  },
  {
   "cell_type": "code",
   "execution_count": 35,
   "metadata": {},
   "outputs": [],
   "source": [
    "train_X, train_X_len = convert_and_pad_data(word_dict, train_X)\n",
    "test_X, test_X_len = convert_and_pad_data(word_dict, test_X)"
   ]
  },
  {
   "cell_type": "markdown",
   "metadata": {},
   "source": [
    "As a quick check to make sure that things are working as intended, check to see what one of the reviews in the training set looks like after having been processeed. Does this look reasonable? What is the length of a review in the training set?"
   ]
  },
  {
   "cell_type": "code",
   "execution_count": 36,
   "metadata": {},
   "outputs": [
    {
     "data": {
      "text/plain": [
       "array([ 119,  488,   13,  305, 3706, 1527,  572,    1,  152,    1,    3,\n",
       "         13,    1,    1,    1,  113,   17,    1,    1, 4585,  795,  157,\n",
       "          1,  436,  474,    1,  434,  163,   48,   79,  983, 3586,  359,\n",
       "        596,   88, 2556,  691, 3783,    1, 2967,   92, 2909, 1175,  238,\n",
       "        335,  305,   54, 2599,  283,   10,  691,  305,  979,   33,    1,\n",
       "          1,    1,    1,    1,    1,    1,    1,    1,    1,    1,    1,\n",
       "          1,  561,   84,    1, 2087, 3200,  501,    5, 2896,  501, 1677,\n",
       "          1,  723, 1787, 3221,  432, 1576,  230,   19,  423,  561,  499,\n",
       "        169,   99,    1, 1097, 1308,    1,  795,   62,  319,  305, 2148,\n",
       "       1638,  283,  173, 1716,  775, 2197, 2041,    1,  113,  305,   11,\n",
       "        255,  723, 1015, 1393,    1,  795,    1,  259,    3,   10,   33,\n",
       "       3783,    1,    1, 1758,  228,  442,   11,    0,    0,    0,    0,\n",
       "          0,    0,    0,    0,    0,    0,    0,    0,    0,    0,    0,\n",
       "          0,    0,    0,    0,    0,    0,    0,    0,    0,    0,    0,\n",
       "          0,    0,    0,    0,    0,    0,    0,    0,    0,    0,    0,\n",
       "          0,    0,    0,    0,    0,    0,    0,    0,    0,    0,    0,\n",
       "          0,    0,    0,    0,    0,    0,    0,    0,    0,    0,    0,\n",
       "          0,    0,    0,    0,    0,    0,    0,    0,    0,    0,    0,\n",
       "          0,    0,    0,    0,    0,    0,    0,    0,    0,    0,    0,\n",
       "          0,    0,    0,    0,    0,    0,    0,    0,    0,    0,    0,\n",
       "          0,    0,    0,    0,    0,    0,    0,    0,    0,    0,    0,\n",
       "          0,    0,    0,    0,    0,    0,    0,    0,    0,    0,    0,\n",
       "          0,    0,    0,    0,    0,    0,    0,    0,    0,    0,    0,\n",
       "          0,    0,    0,    0,    0,    0,    0,    0,    0,    0,    0,\n",
       "          0,    0,    0,    0,    0,    0,    0,    0,    0,    0,    0,\n",
       "          0,    0,    0,    0,    0,    0,    0,    0,    0,    0,    0,\n",
       "          0,    0,    0,    0,    0,    0,    0,    0,    0,    0,    0,\n",
       "          0,    0,    0,    0,    0,    0,    0,    0,    0,    0,    0,\n",
       "          0,    0,    0,    0,    0,    0,    0,    0,    0,    0,    0,\n",
       "          0,    0,    0,    0,    0,    0,    0,    0,    0,    0,    0,\n",
       "          0,    0,    0,    0,    0,    0,    0,    0,    0,    0,    0,\n",
       "          0,    0,    0,    0,    0,    0,    0,    0,    0,    0,    0,\n",
       "          0,    0,    0,    0,    0,    0,    0,    0,    0,    0,    0,\n",
       "          0,    0,    0,    0,    0,    0,    0,    0,    0,    0,    0,\n",
       "          0,    0,    0,    0,    0,    0,    0,    0,    0,    0,    0,\n",
       "          0,    0,    0,    0,    0,    0,    0,    0,    0,    0,    0,\n",
       "          0,    0,    0,    0,    0,    0,    0,    0,    0,    0,    0,\n",
       "          0,    0,    0,    0,    0,    0,    0,    0,    0,    0,    0,\n",
       "          0,    0,    0,    0,    0,    0,    0,    0,    0,    0,    0,\n",
       "          0,    0,    0,    0,    0,    0,    0,    0,    0,    0,    0,\n",
       "          0,    0,    0,    0,    0,    0,    0,    0,    0,    0,    0,\n",
       "          0,    0,    0,    0,    0,    0,    0,    0,    0,    0,    0,\n",
       "          0,    0,    0,    0,    0,    0,    0,    0,    0,    0,    0,\n",
       "          0,    0,    0,    0,    0,    0,    0,    0,    0,    0,    0,\n",
       "          0,    0,    0,    0,    0,    0,    0,    0,    0,    0,    0,\n",
       "          0,    0,    0,    0,    0])"
      ]
     },
     "execution_count": 36,
     "metadata": {},
     "output_type": "execute_result"
    }
   ],
   "source": [
    "# Use this cell to examine one of the processed reviews to make sure everything is working as intended.\n",
    "train_X[19]"
   ]
  },
  {
   "cell_type": "markdown",
   "metadata": {},
   "source": [
    "**Question:** In the cells above we use the `preprocess_data` and `convert_and_pad_data` methods to process both the training and testing set. Why or why not might this be a problem?"
   ]
  },
  {
   "cell_type": "markdown",
   "metadata": {},
   "source": [
    "**Answer:**preprocess_data perform that each review is applied to review_to_words method, all of its output is saved as file. And it is to load quickly, when we run this notebook in second time. We experience that running review_to_words method take long time, so saving file is to avoid to perform it.\n",
    "\n",
    "convert_and_pad method is used to pass uniformed number of words to neural network. As review is written by human being, its length can't be same"
   ]
  },
  {
   "cell_type": "markdown",
   "metadata": {},
   "source": [
    "## Step 3: Upload the data to S3\n",
    "\n",
    "As in the XGBoost notebook, we will need to upload the training dataset to S3 in order for our training code to access it. For now we will save it locally and we will upload to S3 later on.\n",
    "\n",
    "### Save the processed training dataset locally\n",
    "\n",
    "It is important to note the format of the data that we are saving as we will need to know it when we write the training code. In our case, each row of the dataset has the form `label`, `length`, `review[500]` where `review[500]` is a sequence of `500` integers representing the words in the review."
   ]
  },
  {
   "cell_type": "code",
   "execution_count": 37,
   "metadata": {},
   "outputs": [],
   "source": [
    "import pandas as pd\n",
    "    \n",
    "pd.concat([pd.DataFrame(train_y), pd.DataFrame(train_X_len), pd.DataFrame(train_X)], axis=1) \\\n",
    "        .to_csv(os.path.join(data_dir, 'train.csv'), header=False, index=False)"
   ]
  },
  {
   "cell_type": "markdown",
   "metadata": {},
   "source": [
    "### Uploading the training data\n",
    "\n",
    "\n",
    "Next, we need to upload the training data to the SageMaker default S3 bucket so that we can provide access to it while training our model."
   ]
  },
  {
   "cell_type": "code",
   "execution_count": 38,
   "metadata": {},
   "outputs": [],
   "source": [
    "import sagemaker\n",
    "\n",
    "sagemaker_session = sagemaker.Session()\n",
    "\n",
    "bucket = sagemaker_session.default_bucket()\n",
    "prefix = 'sagemaker/sentiment_rnn'\n",
    "\n",
    "role = sagemaker.get_execution_role()"
   ]
  },
  {
   "cell_type": "code",
   "execution_count": 39,
   "metadata": {},
   "outputs": [],
   "source": [
    "input_data = sagemaker_session.upload_data(path=data_dir, bucket=bucket, key_prefix=prefix)"
   ]
  },
  {
   "cell_type": "markdown",
   "metadata": {},
   "source": [
    "**NOTE:** The cell above uploads the entire contents of our data directory. This includes the `word_dict.pkl` file. This is fortunate as we will need this later on when we create an endpoint that accepts an arbitrary review. For now, we will just take note of the fact that it resides in the data directory (and so also in the S3 training bucket) and that we will need to make sure it gets saved in the model directory."
   ]
  },
  {
   "cell_type": "markdown",
   "metadata": {},
   "source": [
    "## Step 4: Build and Train the PyTorch Model\n",
    "\n",
    "In the XGBoost notebook we discussed what a model is in the SageMaker framework. In particular, a model comprises three objects\n",
    "\n",
    " - Model Artifacts,\n",
    " - Training Code, and\n",
    " - Inference Code,\n",
    " \n",
    "each of which interact with one another. In the XGBoost example we used training and inference code that was provided by Amazon. Here we will still be using containers provided by Amazon with the added benefit of being able to include our own custom code.\n",
    "\n",
    "We will start by implementing our own neural network in PyTorch along with a training script. For the purposes of this project we have provided the necessary model object in the `model.py` file, inside of the `train` folder. You can see the provided implementation by running the cell below."
   ]
  },
  {
   "cell_type": "code",
   "execution_count": 40,
   "metadata": {},
   "outputs": [
    {
     "name": "stdout",
     "output_type": "stream",
     "text": [
      "\u001b[34mimport\u001b[39;49;00m \u001b[04m\u001b[36mtorch.nn\u001b[39;49;00m \u001b[34mas\u001b[39;49;00m \u001b[04m\u001b[36mnn\u001b[39;49;00m\r\n",
      "\r\n",
      "\u001b[34mclass\u001b[39;49;00m \u001b[04m\u001b[32mLSTMClassifier\u001b[39;49;00m(nn.Module):\r\n",
      "    \u001b[33m\"\"\"\u001b[39;49;00m\r\n",
      "\u001b[33m    This is the simple RNN model we will be using to perform Sentiment Analysis.\u001b[39;49;00m\r\n",
      "\u001b[33m    \"\"\"\u001b[39;49;00m\r\n",
      "\r\n",
      "    \u001b[34mdef\u001b[39;49;00m \u001b[32m__init__\u001b[39;49;00m(\u001b[36mself\u001b[39;49;00m, embedding_dim, hidden_dim, vocab_size):\r\n",
      "        \u001b[33m\"\"\"\u001b[39;49;00m\r\n",
      "\u001b[33m        Initialize the model by settingg up the various layers.\u001b[39;49;00m\r\n",
      "\u001b[33m        \"\"\"\u001b[39;49;00m\r\n",
      "        \u001b[36msuper\u001b[39;49;00m(LSTMClassifier, \u001b[36mself\u001b[39;49;00m).\u001b[32m__init__\u001b[39;49;00m()\r\n",
      "\r\n",
      "        \u001b[36mself\u001b[39;49;00m.embedding = nn.Embedding(vocab_size, embedding_dim, padding_idx=\u001b[34m0\u001b[39;49;00m)\r\n",
      "        \u001b[36mself\u001b[39;49;00m.lstm = nn.LSTM(embedding_dim, hidden_dim)\r\n",
      "        \u001b[36mself\u001b[39;49;00m.dense = nn.Linear(in_features=hidden_dim, out_features=\u001b[34m1\u001b[39;49;00m)\r\n",
      "        \u001b[36mself\u001b[39;49;00m.sig = nn.Sigmoid()\r\n",
      "        \r\n",
      "        \u001b[36mself\u001b[39;49;00m.word_dict = \u001b[36mNone\u001b[39;49;00m\r\n",
      "\r\n",
      "    \u001b[34mdef\u001b[39;49;00m \u001b[32mforward\u001b[39;49;00m(\u001b[36mself\u001b[39;49;00m, x):\r\n",
      "        \u001b[33m\"\"\"\u001b[39;49;00m\r\n",
      "\u001b[33m        Perform a forward pass of our model on some input.\u001b[39;49;00m\r\n",
      "\u001b[33m        \"\"\"\u001b[39;49;00m\r\n",
      "        x = x.t()\r\n",
      "        lengths = x[\u001b[34m0\u001b[39;49;00m,:]\r\n",
      "        reviews = x[\u001b[34m1\u001b[39;49;00m:,:]\r\n",
      "        embeds = \u001b[36mself\u001b[39;49;00m.embedding(reviews)\r\n",
      "        lstm_out, _ = \u001b[36mself\u001b[39;49;00m.lstm(embeds)\r\n",
      "        out = \u001b[36mself\u001b[39;49;00m.dense(lstm_out)\r\n",
      "        out = out[lengths - \u001b[34m1\u001b[39;49;00m, \u001b[36mrange\u001b[39;49;00m(\u001b[36mlen\u001b[39;49;00m(lengths))]\r\n",
      "        \u001b[34mreturn\u001b[39;49;00m \u001b[36mself\u001b[39;49;00m.sig(out.squeeze())\r\n"
     ]
    }
   ],
   "source": [
    "!pygmentize train/model.py"
   ]
  },
  {
   "cell_type": "markdown",
   "metadata": {},
   "source": [
    "The important takeaway from the implementation provided is that there are three parameters that we may wish to tweak to improve the performance of our model. These are the embedding dimension, the hidden dimension and the size of the vocabulary. We will likely want to make these parameters configurable in the training script so that if we wish to modify them we do not need to modify the script itself. We will see how to do this later on. To start we will write some of the training code in the notebook so that we can more easily diagnose any issues that arise.\n",
    "\n",
    "First we will load a small portion of the training data set to use as a sample. It would be very time consuming to try and train the model completely in the notebook as we do not have access to a gpu and the compute instance that we are using is not particularly powerful. However, we can work on a small bit of the data to get a feel for how our training script is behaving."
   ]
  },
  {
   "cell_type": "code",
   "execution_count": 42,
   "metadata": {},
   "outputs": [],
   "source": [
    "import torch\n",
    "import torch.utils.data\n",
    "\n",
    "# Read in only the first 250 rows\n",
    "train_sample = pd.read_csv(os.path.join(data_dir, 'train.csv'), header=None, names=None, nrows=250)\n",
    "\n",
    "# Turn the input pandas dataframe into tensors\n",
    "train_sample_y = torch.from_numpy(train_sample[[0]].values).float().squeeze()\n",
    "train_sample_X = torch.from_numpy(train_sample.drop([0], axis=1).values).long()\n",
    "\n",
    "# Build the dataset\n",
    "train_sample_ds = torch.utils.data.TensorDataset(train_sample_X, train_sample_y)\n",
    "# Build the dataloader\n",
    "train_sample_dl = torch.utils.data.DataLoader(train_sample_ds, batch_size=50)"
   ]
  },
  {
   "cell_type": "markdown",
   "metadata": {},
   "source": [
    "### (TODO) Writing the training method\n",
    "\n",
    "Next we need to write the training code itself. This should be very similar to training methods that you have written before to train PyTorch models. We will leave any difficult aspects such as model saving / loading and parameter loading until a little later."
   ]
  },
  {
   "cell_type": "code",
   "execution_count": 43,
   "metadata": {},
   "outputs": [],
   "source": [
    "def train(model, train_loader, epochs, optimizer, loss_fn, device):\n",
    "    for epoch in range(1, epochs + 1):\n",
    "        model.train()\n",
    "        total_loss = 0\n",
    "        for batch in train_loader:         \n",
    "            batch_X, batch_y = batch\n",
    "            \n",
    "            batch_X = batch_X.to(device)\n",
    "            batch_y = batch_y.to(device)\n",
    "            \n",
    "            # TODO: Complete this train method to train the model provided.\n",
    "            optimizer.zero_grad()\n",
    "            output = model.forward(batch_X)\n",
    "            loss = loss_fn(output, batch_y)\n",
    "            loss.backward()\n",
    "            optimizer.step()            \n",
    "            total_loss += loss.data.item()\n",
    "        print(\"Epoch: {}, BCELoss: {}\".format(epoch, total_loss / len(train_loader)))"
   ]
  },
  {
   "cell_type": "markdown",
   "metadata": {},
   "source": [
    "Supposing we have the training method above, we will test that it is working by writing a bit of code in the notebook that executes our training method on the small sample training set that we loaded earlier. The reason for doing this in the notebook is so that we have an opportunity to fix any errors that arise early when they are easier to diagnose."
   ]
  },
  {
   "cell_type": "code",
   "execution_count": 44,
   "metadata": {},
   "outputs": [
    {
     "name": "stdout",
     "output_type": "stream",
     "text": [
      "Epoch: 1, BCELoss: 0.693657922744751\n",
      "Epoch: 2, BCELoss: 0.6857415199279785\n",
      "Epoch: 3, BCELoss: 0.6789502501487732\n",
      "Epoch: 4, BCELoss: 0.6714679002761841\n",
      "Epoch: 5, BCELoss: 0.6623681902885437\n"
     ]
    }
   ],
   "source": [
    "import torch.optim as optim\n",
    "from train.model import LSTMClassifier\n",
    "\n",
    "device = torch.device(\"cuda\" if torch.cuda.is_available() else \"cpu\")\n",
    "model = LSTMClassifier(32, 100, 5000).to(device)\n",
    "optimizer = optim.Adam(model.parameters())\n",
    "loss_fn = torch.nn.BCELoss()\n",
    "\n",
    "train(model, train_sample_dl, 5, optimizer, loss_fn, device)"
   ]
  },
  {
   "cell_type": "markdown",
   "metadata": {},
   "source": [
    "In order to construct a PyTorch model using SageMaker we must provide SageMaker with a training script. We may optionally include a directory which will be copied to the container and from which our training code will be run. When the training container is executed it will check the uploaded directory (if there is one) for a `requirements.txt` file and install any required Python libraries, after which the training script will be run."
   ]
  },
  {
   "cell_type": "markdown",
   "metadata": {},
   "source": [
    "### (TODO) Training the model\n",
    "\n",
    "When a PyTorch model is constructed in SageMaker, an entry point must be specified. This is the Python file which will be executed when the model is trained. Inside of the `train` directory is a file called `train.py` which has been provided and which contains most of the necessary code to train our model. The only thing that is missing is the implementation of the `train()` method which you wrote earlier in this notebook.\n",
    "\n",
    "**TODO**: Copy the `train()` method written above and paste it into the `train/train.py` file where required.\n",
    "\n",
    "The way that SageMaker passes hyperparameters to the training script is by way of arguments. These arguments can then be parsed and used in the training script. To see how this is done take a look at the provided `train/train.py` file."
   ]
  },
  {
   "cell_type": "code",
   "execution_count": 45,
   "metadata": {},
   "outputs": [],
   "source": [
    "from sagemaker.pytorch import PyTorch\n",
    "\n",
    "estimator = PyTorch(entry_point=\"train.py\",\n",
    "                    source_dir=\"train\",\n",
    "                    role=role,\n",
    "                    framework_version='0.4.0',\n",
    "                    train_instance_count=1,\n",
    "                    train_instance_type='ml.p2.xlarge',\n",
    "                    hyperparameters={\n",
    "                        'epochs': 10,\n",
    "                        'hidden_dim': 200,\n",
    "                    })"
   ]
  },
  {
   "cell_type": "code",
   "execution_count": 46,
   "metadata": {},
   "outputs": [
    {
     "name": "stdout",
     "output_type": "stream",
     "text": [
      "2019-11-28 20:15:24 Starting - Starting the training job...\n",
      "2019-11-28 20:15:25 Starting - Launching requested ML instances...\n",
      "2019-11-28 20:16:23 Starting - Preparing the instances for training......\n",
      "2019-11-28 20:17:14 Downloading - Downloading input data...\n",
      "2019-11-28 20:17:40 Training - Downloading the training image.....\u001b[31mbash: cannot set terminal process group (-1): Inappropriate ioctl for device\u001b[0m\n",
      "\u001b[31mbash: no job control in this shell\u001b[0m\n",
      "\u001b[31m2019-11-28 20:18:32,967 sagemaker-containers INFO     Imported framework sagemaker_pytorch_container.training\u001b[0m\n",
      "\u001b[31m2019-11-28 20:18:32,991 sagemaker_pytorch_container.training INFO     Block until all host DNS lookups succeed.\u001b[0m\n",
      "\u001b[31m2019-11-28 20:18:32,994 sagemaker_pytorch_container.training INFO     Invoking user training script.\u001b[0m\n",
      "\u001b[31m2019-11-28 20:18:33,219 sagemaker-containers INFO     Module train does not provide a setup.py. \u001b[0m\n",
      "\u001b[31mGenerating setup.py\u001b[0m\n",
      "\u001b[31m2019-11-28 20:18:33,220 sagemaker-containers INFO     Generating setup.cfg\u001b[0m\n",
      "\u001b[31m2019-11-28 20:18:33,220 sagemaker-containers INFO     Generating MANIFEST.in\u001b[0m\n",
      "\u001b[31m2019-11-28 20:18:33,220 sagemaker-containers INFO     Installing module with the following command:\u001b[0m\n",
      "\u001b[31m/usr/bin/python -m pip install -U . -r requirements.txt\u001b[0m\n",
      "\u001b[31mProcessing /opt/ml/code\u001b[0m\n",
      "\u001b[31mCollecting pandas (from -r requirements.txt (line 1))\n",
      "  Downloading https://files.pythonhosted.org/packages/74/24/0cdbf8907e1e3bc5a8da03345c23cbed7044330bb8f73bb12e711a640a00/pandas-0.24.2-cp35-cp35m-manylinux1_x86_64.whl (10.0MB)\u001b[0m\n",
      "\u001b[31mCollecting numpy (from -r requirements.txt (line 2))\u001b[0m\n",
      "\u001b[31m  Downloading https://files.pythonhosted.org/packages/ab/e9/2561dbfbc05146bffa02167e09b9902e273decb2dc4cd5c43314ede20312/numpy-1.17.4-cp35-cp35m-manylinux1_x86_64.whl (19.8MB)\u001b[0m\n",
      "\u001b[31mCollecting nltk (from -r requirements.txt (line 3))\n",
      "  Downloading https://files.pythonhosted.org/packages/f6/1d/d925cfb4f324ede997f6d47bea4d9babba51b49e87a767c170b77005889d/nltk-3.4.5.zip (1.5MB)\u001b[0m\n",
      "\u001b[31mCollecting beautifulsoup4 (from -r requirements.txt (line 4))\n",
      "  Downloading https://files.pythonhosted.org/packages/3b/c8/a55eb6ea11cd7e5ac4bacdf92bac4693b90d3ba79268be16527555e186f0/beautifulsoup4-4.8.1-py3-none-any.whl (101kB)\u001b[0m\n",
      "\u001b[31mCollecting html5lib (from -r requirements.txt (line 5))\n",
      "  Downloading https://files.pythonhosted.org/packages/a5/62/bbd2be0e7943ec8504b517e62bab011b4946e1258842bc159e5dfde15b96/html5lib-1.0.1-py2.py3-none-any.whl (117kB)\u001b[0m\n",
      "\u001b[31mCollecting pytz>=2011k (from pandas->-r requirements.txt (line 1))\n",
      "  Downloading https://files.pythonhosted.org/packages/e7/f9/f0b53f88060247251bf481fa6ea62cd0d25bf1b11a87888e53ce5b7c8ad2/pytz-2019.3-py2.py3-none-any.whl (509kB)\u001b[0m\n",
      "\u001b[31mRequirement already satisfied, skipping upgrade: python-dateutil>=2.5.0 in /usr/local/lib/python3.5/dist-packages (from pandas->-r requirements.txt (line 1)) (2.7.5)\u001b[0m\n",
      "\u001b[31mRequirement already satisfied, skipping upgrade: six in /usr/local/lib/python3.5/dist-packages (from nltk->-r requirements.txt (line 3)) (1.11.0)\u001b[0m\n",
      "\u001b[31mCollecting soupsieve>=1.2 (from beautifulsoup4->-r requirements.txt (line 4))\n",
      "  Downloading https://files.pythonhosted.org/packages/81/94/03c0f04471fc245d08d0a99f7946ac228ca98da4fa75796c507f61e688c2/soupsieve-1.9.5-py2.py3-none-any.whl\u001b[0m\n",
      "\u001b[31mCollecting webencodings (from html5lib->-r requirements.txt (line 5))\u001b[0m\n",
      "\u001b[31m  Downloading https://files.pythonhosted.org/packages/f4/24/2a3e3df732393fed8b3ebf2ec078f05546de641fe1b667ee316ec1dcf3b7/webencodings-0.5.1-py2.py3-none-any.whl\u001b[0m\n",
      "\u001b[31mBuilding wheels for collected packages: nltk, train\n",
      "  Running setup.py bdist_wheel for nltk: started\n",
      "  Running setup.py bdist_wheel for nltk: finished with status 'done'\n",
      "  Stored in directory: /root/.cache/pip/wheels/96/86/f6/68ab24c23f207c0077381a5e3904b2815136b879538a24b483\n",
      "  Running setup.py bdist_wheel for train: started\u001b[0m\n",
      "\u001b[31m  Running setup.py bdist_wheel for train: finished with status 'done'\n",
      "  Stored in directory: /tmp/pip-ephem-wheel-cache-n6srokmp/wheels/35/24/16/37574d11bf9bde50616c67372a334f94fa8356bc7164af8ca3\u001b[0m\n",
      "\u001b[31mSuccessfully built nltk train\u001b[0m\n",
      "\u001b[31mInstalling collected packages: pytz, numpy, pandas, nltk, soupsieve, beautifulsoup4, webencodings, html5lib, train\n",
      "  Found existing installation: numpy 1.15.4\n",
      "    Uninstalling numpy-1.15.4:\u001b[0m\n",
      "\u001b[31m      Successfully uninstalled numpy-1.15.4\u001b[0m\n",
      "\n",
      "2019-11-28 20:18:32 Training - Training image download completed. Training in progress.\u001b[31mSuccessfully installed beautifulsoup4-4.8.1 html5lib-1.0.1 nltk-3.4.5 numpy-1.17.4 pandas-0.24.2 pytz-2019.3 soupsieve-1.9.5 train-1.0.0 webencodings-0.5.1\u001b[0m\n",
      "\u001b[31mYou are using pip version 18.1, however version 19.3.1 is available.\u001b[0m\n",
      "\u001b[31mYou should consider upgrading via the 'pip install --upgrade pip' command.\u001b[0m\n",
      "\u001b[31m2019-11-28 20:18:45,122 sagemaker-containers INFO     Invoking user script\n",
      "\u001b[0m\n",
      "\u001b[31mTraining Env:\n",
      "\u001b[0m\n",
      "\u001b[31m{\n",
      "    \"model_dir\": \"/opt/ml/model\",\n",
      "    \"output_dir\": \"/opt/ml/output\",\n",
      "    \"resource_config\": {\n",
      "        \"hosts\": [\n",
      "            \"algo-1\"\n",
      "        ],\n",
      "        \"current_host\": \"algo-1\",\n",
      "        \"network_interface_name\": \"eth0\"\n",
      "    },\n",
      "    \"module_name\": \"train\",\n",
      "    \"num_gpus\": 1,\n",
      "    \"job_name\": \"sagemaker-pytorch-2019-11-28-20-15-24-192\",\n",
      "    \"channel_input_dirs\": {\n",
      "        \"training\": \"/opt/ml/input/data/training\"\n",
      "    },\n",
      "    \"input_dir\": \"/opt/ml/input\",\n",
      "    \"output_data_dir\": \"/opt/ml/output/data\",\n",
      "    \"network_interface_name\": \"eth0\",\n",
      "    \"num_cpus\": 4,\n",
      "    \"log_level\": 20,\n",
      "    \"module_dir\": \"s3://sagemaker-us-east-2-128083353271/sagemaker-pytorch-2019-11-28-20-15-24-192/source/sourcedir.tar.gz\",\n",
      "    \"hyperparameters\": {\n",
      "        \"epochs\": 10,\n",
      "        \"hidden_dim\": 200\n",
      "    },\n",
      "    \"user_entry_point\": \"train.py\",\n",
      "    \"output_intermediate_dir\": \"/opt/ml/output/intermediate\",\n",
      "    \"additional_framework_parameters\": {},\n",
      "    \"input_data_config\": {\n",
      "        \"training\": {\n",
      "            \"RecordWrapperType\": \"None\",\n",
      "            \"TrainingInputMode\": \"File\",\n",
      "            \"S3DistributionType\": \"FullyReplicated\"\n",
      "        }\n",
      "    },\n",
      "    \"input_config_dir\": \"/opt/ml/input/config\",\n",
      "    \"framework_module\": \"sagemaker_pytorch_container.training:main\",\n",
      "    \"hosts\": [\n",
      "        \"algo-1\"\n",
      "    ],\n",
      "    \"current_host\": \"algo-1\"\u001b[0m\n",
      "\u001b[31m}\n",
      "\u001b[0m\n",
      "\u001b[31mEnvironment variables:\n",
      "\u001b[0m\n",
      "\u001b[31mSM_HP_HIDDEN_DIM=200\u001b[0m\n",
      "\u001b[31mSM_NUM_GPUS=1\u001b[0m\n",
      "\u001b[31mSM_OUTPUT_INTERMEDIATE_DIR=/opt/ml/output/intermediate\u001b[0m\n",
      "\u001b[31mSM_MODULE_NAME=train\u001b[0m\n",
      "\u001b[31mSM_INPUT_DIR=/opt/ml/input\u001b[0m\n",
      "\u001b[31mSM_OUTPUT_DIR=/opt/ml/output\u001b[0m\n",
      "\u001b[31mSM_INPUT_DATA_CONFIG={\"training\":{\"RecordWrapperType\":\"None\",\"S3DistributionType\":\"FullyReplicated\",\"TrainingInputMode\":\"File\"}}\u001b[0m\n",
      "\u001b[31mSM_OUTPUT_DATA_DIR=/opt/ml/output/data\u001b[0m\n",
      "\u001b[31mSM_HP_EPOCHS=10\u001b[0m\n",
      "\u001b[31mSM_NETWORK_INTERFACE_NAME=eth0\u001b[0m\n",
      "\u001b[31mPYTHONPATH=/usr/local/bin:/usr/lib/python35.zip:/usr/lib/python3.5:/usr/lib/python3.5/plat-x86_64-linux-gnu:/usr/lib/python3.5/lib-dynload:/usr/local/lib/python3.5/dist-packages:/usr/lib/python3/dist-packages\u001b[0m\n",
      "\u001b[31mSM_MODEL_DIR=/opt/ml/model\u001b[0m\n",
      "\u001b[31mSM_CURRENT_HOST=algo-1\u001b[0m\n",
      "\u001b[31mSM_USER_ENTRY_POINT=train.py\u001b[0m\n",
      "\u001b[31mSM_HPS={\"epochs\":10,\"hidden_dim\":200}\u001b[0m\n",
      "\u001b[31mSM_CHANNELS=[\"training\"]\u001b[0m\n",
      "\u001b[31mSM_INPUT_CONFIG_DIR=/opt/ml/input/config\u001b[0m\n",
      "\u001b[31mSM_FRAMEWORK_PARAMS={}\u001b[0m\n",
      "\u001b[31mSM_CHANNEL_TRAINING=/opt/ml/input/data/training\u001b[0m\n",
      "\u001b[31mSM_RESOURCE_CONFIG={\"current_host\":\"algo-1\",\"hosts\":[\"algo-1\"],\"network_interface_name\":\"eth0\"}\u001b[0m\n",
      "\u001b[31mSM_LOG_LEVEL=20\u001b[0m\n",
      "\u001b[31mSM_NUM_CPUS=4\u001b[0m\n",
      "\u001b[31mSM_USER_ARGS=[\"--epochs\",\"10\",\"--hidden_dim\",\"200\"]\u001b[0m\n",
      "\u001b[31mSM_HOSTS=[\"algo-1\"]\u001b[0m\n",
      "\u001b[31mSM_MODULE_DIR=s3://sagemaker-us-east-2-128083353271/sagemaker-pytorch-2019-11-28-20-15-24-192/source/sourcedir.tar.gz\u001b[0m\n",
      "\u001b[31mSM_FRAMEWORK_MODULE=sagemaker_pytorch_container.training:main\u001b[0m\n",
      "\u001b[31mSM_TRAINING_ENV={\"additional_framework_parameters\":{},\"channel_input_dirs\":{\"training\":\"/opt/ml/input/data/training\"},\"current_host\":\"algo-1\",\"framework_module\":\"sagemaker_pytorch_container.training:main\",\"hosts\":[\"algo-1\"],\"hyperparameters\":{\"epochs\":10,\"hidden_dim\":200},\"input_config_dir\":\"/opt/ml/input/config\",\"input_data_config\":{\"training\":{\"RecordWrapperType\":\"None\",\"S3DistributionType\":\"FullyReplicated\",\"TrainingInputMode\":\"File\"}},\"input_dir\":\"/opt/ml/input\",\"job_name\":\"sagemaker-pytorch-2019-11-28-20-15-24-192\",\"log_level\":20,\"model_dir\":\"/opt/ml/model\",\"module_dir\":\"s3://sagemaker-us-east-2-128083353271/sagemaker-pytorch-2019-11-28-20-15-24-192/source/sourcedir.tar.gz\",\"module_name\":\"train\",\"network_interface_name\":\"eth0\",\"num_cpus\":4,\"num_gpus\":1,\"output_data_dir\":\"/opt/ml/output/data\",\"output_dir\":\"/opt/ml/output\",\"output_intermediate_dir\":\"/opt/ml/output/intermediate\",\"resource_config\":{\"current_host\":\"algo-1\",\"hosts\":[\"algo-1\"],\"network_interface_name\":\"eth0\"},\"user_entry_point\":\"train.py\"}\n",
      "\u001b[0m\n",
      "\u001b[31mInvoking script with the following command:\n",
      "\u001b[0m\n",
      "\u001b[31m/usr/bin/python -m train --epochs 10 --hidden_dim 200\n",
      "\n",
      "\u001b[0m\n",
      "\u001b[31mUsing device cuda.\u001b[0m\n",
      "\u001b[31mGet train data loader.\u001b[0m\n",
      "\u001b[31mModel loaded with embedding_dim 32, hidden_dim 200, vocab_size 5000.\u001b[0m\n",
      "\u001b[31mEpoch: 1, BCELoss: 0.6693467777602526\u001b[0m\n",
      "\u001b[31mEpoch: 2, BCELoss: 0.5860420258677735\u001b[0m\n",
      "\u001b[31mEpoch: 3, BCELoss: 0.5067968550993471\u001b[0m\n",
      "\u001b[31mEpoch: 4, BCELoss: 0.43188536653713305\u001b[0m\n",
      "\u001b[31mEpoch: 5, BCELoss: 0.3833846711382574\u001b[0m\n",
      "\u001b[31mEpoch: 6, BCELoss: 0.35440556309661086\u001b[0m\n",
      "\u001b[31mEpoch: 7, BCELoss: 0.3174274168452438\u001b[0m\n",
      "\u001b[31mEpoch: 8, BCELoss: 0.3063332347237334\u001b[0m\n",
      "\u001b[31mEpoch: 9, BCELoss: 0.2792433083665614\u001b[0m\n",
      "\n",
      "2019-11-28 20:21:50 Uploading - Uploading generated training model\n",
      "2019-11-28 20:21:50 Completed - Training job completed\n",
      "\u001b[31mEpoch: 10, BCELoss: 0.2637686951428044\u001b[0m\n",
      "\u001b[31m2019-11-28 20:21:43,718 sagemaker-containers INFO     Reporting training SUCCESS\u001b[0m\n",
      "Training seconds: 276\n",
      "Billable seconds: 276\n"
     ]
    }
   ],
   "source": [
    "estimator.fit({'training': input_data})"
   ]
  },
  {
   "cell_type": "markdown",
   "metadata": {},
   "source": [
    "## Step 5: Testing the model\n",
    "\n",
    "As mentioned at the top of this notebook, we will be testing this model by first deploying it and then sending the testing data to the deployed endpoint. We will do this so that we can make sure that the deployed model is working correctly.\n",
    "\n",
    "## Step 6: Deploy the model for testing\n",
    "\n",
    "Now that we have trained our model, we would like to test it to see how it performs. Currently our model takes input of the form `review_length, review[500]` where `review[500]` is a sequence of `500` integers which describe the words present in the review, encoded using `word_dict`. Fortunately for us, SageMaker provides built-in inference code for models with simple inputs such as this.\n",
    "\n",
    "There is one thing that we need to provide, however, and that is a function which loads the saved model. This function must be called `model_fn()` and takes as its only parameter a path to the directory where the model artifacts are stored. This function must also be present in the python file which we specified as the entry point. In our case the model loading function has been provided and so no changes need to be made.\n",
    "\n",
    "**NOTE**: When the built-in inference code is run it must import the `model_fn()` method from the `train.py` file. This is why the training code is wrapped in a main guard ( ie, `if __name__ == '__main__':` )\n",
    "\n",
    "Since we don't need to change anything in the code that was uploaded during training, we can simply deploy the current model as-is.\n",
    "\n",
    "**NOTE:** When deploying a model you are asking SageMaker to launch an compute instance that will wait for data to be sent to it. As a result, this compute instance will continue to run until *you* shut it down. This is important to know since the cost of a deployed endpoint depends on how long it has been running for.\n",
    "\n",
    "In other words **If you are no longer using a deployed endpoint, shut it down!**\n",
    "\n",
    "**TODO:** Deploy the trained model."
   ]
  },
  {
   "cell_type": "code",
   "execution_count": 47,
   "metadata": {},
   "outputs": [
    {
     "name": "stdout",
     "output_type": "stream",
     "text": [
      "-------------------------------------------------------------------------------------------------!"
     ]
    }
   ],
   "source": [
    "# TODO: Deploy the trained model\n",
    "predictor = estimator.deploy(initial_instance_count=1, instance_type='ml.p2.xlarge')"
   ]
  },
  {
   "cell_type": "markdown",
   "metadata": {},
   "source": [
    "## Step 7 - Use the model for testing\n",
    "\n",
    "Once deployed, we can read in the test data and send it off to our deployed model to get some results. Once we collect all of the results we can determine how accurate our model is."
   ]
  },
  {
   "cell_type": "code",
   "execution_count": 48,
   "metadata": {},
   "outputs": [],
   "source": [
    "test_X = pd.concat([pd.DataFrame(test_X_len), pd.DataFrame(test_X)], axis=1)"
   ]
  },
  {
   "cell_type": "code",
   "execution_count": 49,
   "metadata": {},
   "outputs": [],
   "source": [
    "# We split the data into chunks and send each chunk seperately, accumulating the results.\n",
    "\n",
    "def predict(data, rows=512):\n",
    "    split_array = np.array_split(data, int(data.shape[0] / float(rows) + 1))\n",
    "    predictions = np.array([])\n",
    "    for array in split_array:\n",
    "        predictions = np.append(predictions, predictor.predict(array))\n",
    "    \n",
    "    return predictions"
   ]
  },
  {
   "cell_type": "code",
   "execution_count": 50,
   "metadata": {},
   "outputs": [],
   "source": [
    "predictions = predict(test_X.values)\n",
    "predictions = [round(num) for num in predictions]"
   ]
  },
  {
   "cell_type": "code",
   "execution_count": 51,
   "metadata": {},
   "outputs": [
    {
     "data": {
      "text/plain": [
       "0.84788"
      ]
     },
     "execution_count": 51,
     "metadata": {},
     "output_type": "execute_result"
    }
   ],
   "source": [
    "from sklearn.metrics import accuracy_score\n",
    "accuracy_score(test_y, predictions)"
   ]
  },
  {
   "cell_type": "markdown",
   "metadata": {},
   "source": [
    "**Question:** How does this model compare to the XGBoost model you created earlier? Why might these two models perform differently on this dataset? Which do *you* think is better for sentiment analysis?"
   ]
  },
  {
   "cell_type": "markdown",
   "metadata": {},
   "source": [
    "**Answer:**As accuracy is almost same with XGBoost model, so I don't think there is much difference"
   ]
  },
  {
   "cell_type": "markdown",
   "metadata": {},
   "source": [
    "### (TODO) More testing\n",
    "\n",
    "We now have a trained model which has been deployed and which we can send processed reviews to and which returns the predicted sentiment. However, ultimately we would like to be able to send our model an unprocessed review. That is, we would like to send the review itself as a string. For example, suppose we wish to send the following review to our model."
   ]
  },
  {
   "cell_type": "code",
   "execution_count": 52,
   "metadata": {},
   "outputs": [],
   "source": [
    "test_review = 'The simplest pleasures in life are the best, and this film is one of them. Combining a rather basic storyline of love and adventure this movie transcends the usual weekend fair with wit and unmitigated charm.'"
   ]
  },
  {
   "cell_type": "markdown",
   "metadata": {},
   "source": [
    "The question we now need to answer is, how do we send this review to our model?\n",
    "\n",
    "Recall in the first section of this notebook we did a bunch of data processing to the IMDb dataset. In particular, we did two specific things to the provided reviews.\n",
    " - Removed any html tags and stemmed the input\n",
    " - Encoded the review as a sequence of integers using `word_dict`\n",
    " \n",
    "In order process the review we will need to repeat these two steps.\n",
    "\n",
    "**TODO**: Using the `review_to_words` and `convert_and_pad` methods from section one, convert `test_review` into a numpy array `test_data` suitable to send to our model. Remember that our model expects input of the form `review_length, review[500]`."
   ]
  },
  {
   "cell_type": "code",
   "execution_count": 53,
   "metadata": {},
   "outputs": [],
   "source": [
    "# TODO: Convert test_review into a form usable by the model and save the results in test_data\n",
    "test_data = review_to_words(test_review)\n",
    "test_data = [np.array(convert_and_pad(word_dict, test_data)[0])]"
   ]
  },
  {
   "cell_type": "markdown",
   "metadata": {},
   "source": [
    "Now that we have processed the review, we can send the resulting array to our model to predict the sentiment of the review."
   ]
  },
  {
   "cell_type": "code",
   "execution_count": 54,
   "metadata": {},
   "outputs": [
    {
     "data": {
      "text/plain": [
       "array(0.65588677, dtype=float32)"
      ]
     },
     "execution_count": 54,
     "metadata": {},
     "output_type": "execute_result"
    }
   ],
   "source": [
    "predictor.predict(test_data)"
   ]
  },
  {
   "cell_type": "markdown",
   "metadata": {},
   "source": [
    "Since the return value of our model is close to `1`, we can be certain that the review we submitted is positive."
   ]
  },
  {
   "cell_type": "markdown",
   "metadata": {},
   "source": [
    "### Delete the endpoint\n",
    "\n",
    "Of course, just like in the XGBoost notebook, once we've deployed an endpoint it continues to run until we tell it to shut down. Since we are done using our endpoint for now, we can delete it."
   ]
  },
  {
   "cell_type": "code",
   "execution_count": null,
   "metadata": {},
   "outputs": [],
   "source": [
    "estimator.delete_endpoint()"
   ]
  },
  {
   "cell_type": "markdown",
   "metadata": {},
   "source": [
    "## Step 6 (again) - Deploy the model for the web app\n",
    "\n",
    "Now that we know that our model is working, it's time to create some custom inference code so that we can send the model a review which has not been processed and have it determine the sentiment of the review.\n",
    "\n",
    "As we saw above, by default the estimator which we created, when deployed, will use the entry script and directory which we provided when creating the model. However, since we now wish to accept a string as input and our model expects a processed review, we need to write some custom inference code.\n",
    "\n",
    "We will store the code that we write in the `serve` directory. Provided in this directory is the `model.py` file that we used to construct our model, a `utils.py` file which contains the `review_to_words` and `convert_and_pad` pre-processing functions which we used during the initial data processing, and `predict.py`, the file which will contain our custom inference code. Note also that `requirements.txt` is present which will tell SageMaker what Python libraries are required by our custom inference code.\n",
    "\n",
    "When deploying a PyTorch model in SageMaker, you are expected to provide four functions which the SageMaker inference container will use.\n",
    " - `model_fn`: This function is the same function that we used in the training script and it tells SageMaker how to load our model.\n",
    " - `input_fn`: This function receives the raw serialized input that has been sent to the model's endpoint and its job is to de-serialize and make the input available for the inference code.\n",
    " - `output_fn`: This function takes the output of the inference code and its job is to serialize this output and return it to the caller of the model's endpoint.\n",
    " - `predict_fn`: The heart of the inference script, this is where the actual prediction is done and is the function which you will need to complete.\n",
    "\n",
    "For the simple website that we are constructing during this project, the `input_fn` and `output_fn` methods are relatively straightforward. We only require being able to accept a string as input and we expect to return a single value as output. You might imagine though that in a more complex application the input or output may be image data or some other binary data which would require some effort to serialize.\n",
    "\n",
    "### (TODO) Writing inference code\n",
    "\n",
    "Before writing our custom inference code, we will begin by taking a look at the code which has been provided."
   ]
  },
  {
   "cell_type": "code",
   "execution_count": 55,
   "metadata": {},
   "outputs": [
    {
     "name": "stdout",
     "output_type": "stream",
     "text": [
      "\u001b[34mimport\u001b[39;49;00m \u001b[04m\u001b[36margparse\u001b[39;49;00m\r\n",
      "\u001b[34mimport\u001b[39;49;00m \u001b[04m\u001b[36mjson\u001b[39;49;00m\r\n",
      "\u001b[34mimport\u001b[39;49;00m \u001b[04m\u001b[36mos\u001b[39;49;00m\r\n",
      "\u001b[34mimport\u001b[39;49;00m \u001b[04m\u001b[36mpickle\u001b[39;49;00m\r\n",
      "\u001b[34mimport\u001b[39;49;00m \u001b[04m\u001b[36msys\u001b[39;49;00m\r\n",
      "\u001b[34mimport\u001b[39;49;00m \u001b[04m\u001b[36msagemaker_containers\u001b[39;49;00m\r\n",
      "\u001b[34mimport\u001b[39;49;00m \u001b[04m\u001b[36mpandas\u001b[39;49;00m \u001b[34mas\u001b[39;49;00m \u001b[04m\u001b[36mpd\u001b[39;49;00m\r\n",
      "\u001b[34mimport\u001b[39;49;00m \u001b[04m\u001b[36mnumpy\u001b[39;49;00m \u001b[34mas\u001b[39;49;00m \u001b[04m\u001b[36mnp\u001b[39;49;00m\r\n",
      "\u001b[34mimport\u001b[39;49;00m \u001b[04m\u001b[36mtorch\u001b[39;49;00m\r\n",
      "\u001b[34mimport\u001b[39;49;00m \u001b[04m\u001b[36mtorch.nn\u001b[39;49;00m \u001b[34mas\u001b[39;49;00m \u001b[04m\u001b[36mnn\u001b[39;49;00m\r\n",
      "\u001b[34mimport\u001b[39;49;00m \u001b[04m\u001b[36mtorch.optim\u001b[39;49;00m \u001b[34mas\u001b[39;49;00m \u001b[04m\u001b[36moptim\u001b[39;49;00m\r\n",
      "\u001b[34mimport\u001b[39;49;00m \u001b[04m\u001b[36mtorch.utils.data\u001b[39;49;00m\r\n",
      "\r\n",
      "\u001b[34mfrom\u001b[39;49;00m \u001b[04m\u001b[36mmodel\u001b[39;49;00m \u001b[34mimport\u001b[39;49;00m LSTMClassifier\r\n",
      "\r\n",
      "\u001b[34mfrom\u001b[39;49;00m \u001b[04m\u001b[36mutils\u001b[39;49;00m \u001b[34mimport\u001b[39;49;00m review_to_words, convert_and_pad\r\n",
      "\r\n",
      "\u001b[34mdef\u001b[39;49;00m \u001b[32mmodel_fn\u001b[39;49;00m(model_dir):\r\n",
      "    \u001b[33m\"\"\"Load the PyTorch model from the `model_dir` directory.\"\"\"\u001b[39;49;00m\r\n",
      "    \u001b[34mprint\u001b[39;49;00m(\u001b[33m\"\u001b[39;49;00m\u001b[33mLoading model.\u001b[39;49;00m\u001b[33m\"\u001b[39;49;00m)\r\n",
      "\r\n",
      "    \u001b[37m# First, load the parameters used to create the model.\u001b[39;49;00m\r\n",
      "    model_info = {}\r\n",
      "    model_info_path = os.path.join(model_dir, \u001b[33m'\u001b[39;49;00m\u001b[33mmodel_info.pth\u001b[39;49;00m\u001b[33m'\u001b[39;49;00m)\r\n",
      "    \u001b[34mwith\u001b[39;49;00m \u001b[36mopen\u001b[39;49;00m(model_info_path, \u001b[33m'\u001b[39;49;00m\u001b[33mrb\u001b[39;49;00m\u001b[33m'\u001b[39;49;00m) \u001b[34mas\u001b[39;49;00m f:\r\n",
      "        model_info = torch.load(f)\r\n",
      "\r\n",
      "    \u001b[34mprint\u001b[39;49;00m(\u001b[33m\"\u001b[39;49;00m\u001b[33mmodel_info: {}\u001b[39;49;00m\u001b[33m\"\u001b[39;49;00m.format(model_info))\r\n",
      "\r\n",
      "    \u001b[37m# Determine the device and construct the model.\u001b[39;49;00m\r\n",
      "    device = torch.device(\u001b[33m\"\u001b[39;49;00m\u001b[33mcuda\u001b[39;49;00m\u001b[33m\"\u001b[39;49;00m \u001b[34mif\u001b[39;49;00m torch.cuda.is_available() \u001b[34melse\u001b[39;49;00m \u001b[33m\"\u001b[39;49;00m\u001b[33mcpu\u001b[39;49;00m\u001b[33m\"\u001b[39;49;00m)\r\n",
      "    model = LSTMClassifier(model_info[\u001b[33m'\u001b[39;49;00m\u001b[33membedding_dim\u001b[39;49;00m\u001b[33m'\u001b[39;49;00m], model_info[\u001b[33m'\u001b[39;49;00m\u001b[33mhidden_dim\u001b[39;49;00m\u001b[33m'\u001b[39;49;00m], model_info[\u001b[33m'\u001b[39;49;00m\u001b[33mvocab_size\u001b[39;49;00m\u001b[33m'\u001b[39;49;00m])\r\n",
      "\r\n",
      "    \u001b[37m# Load the store model parameters.\u001b[39;49;00m\r\n",
      "    model_path = os.path.join(model_dir, \u001b[33m'\u001b[39;49;00m\u001b[33mmodel.pth\u001b[39;49;00m\u001b[33m'\u001b[39;49;00m)\r\n",
      "    \u001b[34mwith\u001b[39;49;00m \u001b[36mopen\u001b[39;49;00m(model_path, \u001b[33m'\u001b[39;49;00m\u001b[33mrb\u001b[39;49;00m\u001b[33m'\u001b[39;49;00m) \u001b[34mas\u001b[39;49;00m f:\r\n",
      "        model.load_state_dict(torch.load(f))\r\n",
      "\r\n",
      "    \u001b[37m# Load the saved word_dict.\u001b[39;49;00m\r\n",
      "    word_dict_path = os.path.join(model_dir, \u001b[33m'\u001b[39;49;00m\u001b[33mword_dict.pkl\u001b[39;49;00m\u001b[33m'\u001b[39;49;00m)\r\n",
      "    \u001b[34mwith\u001b[39;49;00m \u001b[36mopen\u001b[39;49;00m(word_dict_path, \u001b[33m'\u001b[39;49;00m\u001b[33mrb\u001b[39;49;00m\u001b[33m'\u001b[39;49;00m) \u001b[34mas\u001b[39;49;00m f:\r\n",
      "        model.word_dict = pickle.load(f)\r\n",
      "\r\n",
      "    model.to(device).eval()\r\n",
      "\r\n",
      "    \u001b[34mprint\u001b[39;49;00m(\u001b[33m\"\u001b[39;49;00m\u001b[33mDone loading model.\u001b[39;49;00m\u001b[33m\"\u001b[39;49;00m)\r\n",
      "    \u001b[34mreturn\u001b[39;49;00m model\r\n",
      "\r\n",
      "\u001b[34mdef\u001b[39;49;00m \u001b[32minput_fn\u001b[39;49;00m(serialized_input_data, content_type):\r\n",
      "    \u001b[34mprint\u001b[39;49;00m(\u001b[33m'\u001b[39;49;00m\u001b[33mDeserializing the input data.\u001b[39;49;00m\u001b[33m'\u001b[39;49;00m)\r\n",
      "    \u001b[34mif\u001b[39;49;00m content_type == \u001b[33m'\u001b[39;49;00m\u001b[33mtext/plain\u001b[39;49;00m\u001b[33m'\u001b[39;49;00m:\r\n",
      "        data = serialized_input_data.decode(\u001b[33m'\u001b[39;49;00m\u001b[33mutf-8\u001b[39;49;00m\u001b[33m'\u001b[39;49;00m)\r\n",
      "        \u001b[34mreturn\u001b[39;49;00m data\r\n",
      "    \u001b[34mraise\u001b[39;49;00m \u001b[36mException\u001b[39;49;00m(\u001b[33m'\u001b[39;49;00m\u001b[33mRequested unsupported ContentType in content_type: \u001b[39;49;00m\u001b[33m'\u001b[39;49;00m + content_type)\r\n",
      "\r\n",
      "\u001b[34mdef\u001b[39;49;00m \u001b[32moutput_fn\u001b[39;49;00m(prediction_output, accept):\r\n",
      "    \u001b[34mprint\u001b[39;49;00m(\u001b[33m'\u001b[39;49;00m\u001b[33mSerializing the generated output.\u001b[39;49;00m\u001b[33m'\u001b[39;49;00m)\r\n",
      "    \u001b[34mreturn\u001b[39;49;00m \u001b[36mstr\u001b[39;49;00m(prediction_output)\r\n",
      "\r\n",
      "\u001b[34mdef\u001b[39;49;00m \u001b[32mpredict_fn\u001b[39;49;00m(input_data, model):\r\n",
      "    \u001b[34mprint\u001b[39;49;00m(\u001b[33m'\u001b[39;49;00m\u001b[33mInferring sentiment of input data.\u001b[39;49;00m\u001b[33m'\u001b[39;49;00m)\r\n",
      "\r\n",
      "    device = torch.device(\u001b[33m\"\u001b[39;49;00m\u001b[33mcuda\u001b[39;49;00m\u001b[33m\"\u001b[39;49;00m \u001b[34mif\u001b[39;49;00m torch.cuda.is_available() \u001b[34melse\u001b[39;49;00m \u001b[33m\"\u001b[39;49;00m\u001b[33mcpu\u001b[39;49;00m\u001b[33m\"\u001b[39;49;00m)\r\n",
      "    \r\n",
      "    \u001b[34mif\u001b[39;49;00m model.word_dict \u001b[35mis\u001b[39;49;00m \u001b[36mNone\u001b[39;49;00m:\r\n",
      "        \u001b[34mraise\u001b[39;49;00m \u001b[36mException\u001b[39;49;00m(\u001b[33m'\u001b[39;49;00m\u001b[33mModel has not been loaded properly, no word_dict.\u001b[39;49;00m\u001b[33m'\u001b[39;49;00m)\r\n",
      "    \r\n",
      "    \u001b[37m# TODO: Process input_data so that it is ready to be sent to our model.\u001b[39;49;00m\r\n",
      "    \u001b[37m#       You should produce two variables:\u001b[39;49;00m\r\n",
      "    \u001b[37m#         data_X   - A sequence of length 500 which represents the converted review\u001b[39;49;00m\r\n",
      "    \u001b[37m#         data_len - The length of the review\u001b[39;49;00m\r\n",
      "\r\n",
      "    words = review_to_words(input_data)\r\n",
      "    data_X, data_len = convert_and_pad(model.word_dict, words)\r\n",
      "\r\n",
      "    \u001b[37m# Using data_X and data_len we construct an appropriate input tensor. Remember\u001b[39;49;00m\r\n",
      "    \u001b[37m# that our model expects input data of the form 'len, review[500]'.\u001b[39;49;00m\r\n",
      "    data_pack = np.hstack((data_len, data_X))\r\n",
      "    data_pack = data_pack.reshape(\u001b[34m1\u001b[39;49;00m, -\u001b[34m1\u001b[39;49;00m)\r\n",
      "    \r\n",
      "    data = torch.from_numpy(data_pack)\r\n",
      "    data = data.to(device)\r\n",
      "\r\n",
      "    \u001b[37m# Make sure to put the model into evaluation mode\u001b[39;49;00m\r\n",
      "    model.eval()\r\n",
      "\r\n",
      "    \u001b[37m# TODO: Compute the result of applying the model to the input data. The variable `result` should\u001b[39;49;00m\r\n",
      "    \u001b[37m#       be a numpy array which contains a single integer which is either 1 or 0\u001b[39;49;00m\r\n",
      "\r\n",
      "    \u001b[34mwith\u001b[39;49;00m torch.no_grad():\r\n",
      "        output = model.forward(data)\r\n",
      "\r\n",
      "    output = output.cpu()\r\n",
      "    result = np.round(output.numpy())\r\n",
      "    \u001b[34mreturn\u001b[39;49;00m result\r\n"
     ]
    }
   ],
   "source": [
    "!pygmentize serve/predict.py"
   ]
  },
  {
   "cell_type": "markdown",
   "metadata": {},
   "source": [
    "As mentioned earlier, the `model_fn` method is the same as the one provided in the training code and the `input_fn` and `output_fn` methods are very simple and your task will be to complete the `predict_fn` method. Make sure that you save the completed file as `predict.py` in the `serve` directory.\n",
    "\n",
    "**TODO**: Complete the `predict_fn()` method in the `serve/predict.py` file."
   ]
  },
  {
   "cell_type": "markdown",
   "metadata": {},
   "source": [
    "### Deploying the model\n",
    "\n",
    "Now that the custom inference code has been written, we will create and deploy our model. To begin with, we need to construct a new PyTorchModel object which points to the model artifacts created during training and also points to the inference code that we wish to use. Then we can call the deploy method to launch the deployment container.\n",
    "\n",
    "**NOTE**: The default behaviour for a deployed PyTorch model is to assume that any input passed to the predictor is a `numpy` array. In our case we want to send a string so we need to construct a simple wrapper around the `RealTimePredictor` class to accomodate simple strings. In a more complicated situation you may want to provide a serialization object, for example if you wanted to sent image data."
   ]
  },
  {
   "cell_type": "code",
   "execution_count": 73,
   "metadata": {},
   "outputs": [
    {
     "name": "stdout",
     "output_type": "stream",
     "text": [
      "-------------------------------------------------------------------------------------!"
     ]
    }
   ],
   "source": [
    "from sagemaker.predictor import RealTimePredictor\n",
    "from sagemaker.pytorch import PyTorchModel\n",
    "\n",
    "class StringPredictor(RealTimePredictor):\n",
    "    def __init__(self, endpoint_name, sagemaker_session):\n",
    "        super(StringPredictor, self).__init__(endpoint_name, sagemaker_session, content_type='text/plain')\n",
    "\n",
    "model = PyTorchModel(model_data=estimator.model_data,\n",
    "                     role = role,\n",
    "                     framework_version='0.4.0',\n",
    "                     entry_point='predict.py',\n",
    "                     source_dir='serve',\n",
    "                     predictor_cls=StringPredictor)\n",
    "predictor = model.deploy(initial_instance_count=1, instance_type='ml.m4.xlarge')"
   ]
  },
  {
   "cell_type": "markdown",
   "metadata": {},
   "source": [
    "### Testing the model\n",
    "\n",
    "Now that we have deployed our model with the custom inference code, we should test to see if everything is working. Here we test our model by loading the first `250` positive and negative reviews and send them to the endpoint, then collect the results. The reason for only sending some of the data is that the amount of time it takes for our model to process the input and then perform inference is quite long and so testing the entire data set would be prohibitive."
   ]
  },
  {
   "cell_type": "code",
   "execution_count": 74,
   "metadata": {},
   "outputs": [],
   "source": [
    "import glob\n",
    "\n",
    "def test_reviews(data_dir='../data/aclImdb', stop=250):\n",
    "    \n",
    "    results = []\n",
    "    ground = []\n",
    "    \n",
    "    # We make sure to test both positive and negative reviews    \n",
    "    for sentiment in ['pos', 'neg']:\n",
    "        \n",
    "        path = os.path.join(data_dir, 'test', sentiment, '*.txt')\n",
    "        files = glob.glob(path)\n",
    "        \n",
    "        files_read = 0\n",
    "        \n",
    "        print('Starting ', sentiment, ' files')\n",
    "        \n",
    "        # Iterate through the files and send them to the predictor\n",
    "        for f in files:\n",
    "            with open(f) as review:\n",
    "                # First, we store the ground truth (was the review positive or negative)\n",
    "                if sentiment == 'pos':\n",
    "                    ground.append(1)\n",
    "                else:\n",
    "                    ground.append(0)\n",
    "                # Read in the review and convert to 'utf-8' for transmission via HTTP\n",
    "                review_input = review.read().encode('utf-8')\n",
    "                # Send the review to the predictor and store the results\n",
    "                rlt = predictor.predict(review_input)\n",
    "                rtn = 1 if(b'1.0' == rlt) else 0\n",
    "                results.append(rtn)\n",
    "                \n",
    "            # Sending reviews to our endpoint one at a time takes a while so we\n",
    "            # only send a small number of reviews\n",
    "            files_read += 1\n",
    "            if files_read == stop:\n",
    "                break\n",
    "            \n",
    "    return ground, results"
   ]
  },
  {
   "cell_type": "code",
   "execution_count": 75,
   "metadata": {},
   "outputs": [
    {
     "name": "stdout",
     "output_type": "stream",
     "text": [
      "Starting  pos  files\n",
      "Starting  neg  files\n"
     ]
    }
   ],
   "source": [
    "ground, results = test_reviews()"
   ]
  },
  {
   "cell_type": "code",
   "execution_count": 76,
   "metadata": {},
   "outputs": [
    {
     "data": {
      "text/plain": [
       "0.85"
      ]
     },
     "execution_count": 76,
     "metadata": {},
     "output_type": "execute_result"
    }
   ],
   "source": [
    "from sklearn.metrics import accuracy_score\n",
    "accuracy_score(ground, results)"
   ]
  },
  {
   "cell_type": "markdown",
   "metadata": {},
   "source": [
    "As an additional test, we can try sending the `test_review` that we looked at earlier."
   ]
  },
  {
   "cell_type": "code",
   "execution_count": 77,
   "metadata": {},
   "outputs": [
    {
     "data": {
      "text/plain": [
       "b'1.0'"
      ]
     },
     "execution_count": 77,
     "metadata": {},
     "output_type": "execute_result"
    }
   ],
   "source": [
    "predictor.predict(test_review)"
   ]
  },
  {
   "cell_type": "markdown",
   "metadata": {},
   "source": [
    "Now that we know our endpoint is working as expected, we can set up the web page that will interact with it. If you don't have time to finish the project now, make sure to skip down to the end of this notebook and shut down your endpoint. You can deploy it again when you come back."
   ]
  },
  {
   "cell_type": "markdown",
   "metadata": {},
   "source": [
    "## Step 7 (again): Use the model for the web app\n",
    "\n",
    "> **TODO:** This entire section and the next contain tasks for you to complete, mostly using the AWS console.\n",
    "\n",
    "So far we have been accessing our model endpoint by constructing a predictor object which uses the endpoint and then just using the predictor object to perform inference. What if we wanted to create a web app which accessed our model? The way things are set up currently makes that not possible since in order to access a SageMaker endpoint the app would first have to authenticate with AWS using an IAM role which included access to SageMaker endpoints. However, there is an easier way! We just need to use some additional AWS services.\n",
    "\n",
    "<img src=\"Web App Diagram.svg\">\n",
    "\n",
    "The diagram above gives an overview of how the various services will work together. On the far right is the model which we trained above and which is deployed using SageMaker. On the far left is our web app that collects a user's movie review, sends it off and expects a positive or negative sentiment in return.\n",
    "\n",
    "In the middle is where some of the magic happens. We will construct a Lambda function, which you can think of as a straightforward Python function that can be executed whenever a specified event occurs. We will give this function permission to send and recieve data from a SageMaker endpoint.\n",
    "\n",
    "Lastly, the method we will use to execute the Lambda function is a new endpoint that we will create using API Gateway. This endpoint will be a url that listens for data to be sent to it. Once it gets some data it will pass that data on to the Lambda function and then return whatever the Lambda function returns. Essentially it will act as an interface that lets our web app communicate with the Lambda function.\n",
    "\n",
    "### Setting up a Lambda function\n",
    "\n",
    "The first thing we are going to do is set up a Lambda function. This Lambda function will be executed whenever our public API has data sent to it. When it is executed it will receive the data, perform any sort of processing that is required, send the data (the review) to the SageMaker endpoint we've created and then return the result.\n",
    "\n",
    "#### Part A: Create an IAM Role for the Lambda function\n",
    "\n",
    "Since we want the Lambda function to call a SageMaker endpoint, we need to make sure that it has permission to do so. To do this, we will construct a role that we can later give the Lambda function.\n",
    "\n",
    "Using the AWS Console, navigate to the **IAM** page and click on **Roles**. Then, click on **Create role**. Make sure that the **AWS service** is the type of trusted entity selected and choose **Lambda** as the service that will use this role, then click **Next: Permissions**.\n",
    "\n",
    "In the search box type `sagemaker` and select the check box next to the **AmazonSageMakerFullAccess** policy. Then, click on **Next: Review**.\n",
    "\n",
    "Lastly, give this role a name. Make sure you use a name that you will remember later on, for example `LambdaSageMakerRole`. Then, click on **Create role**.\n",
    "\n",
    "#### Part B: Create a Lambda function\n",
    "\n",
    "Now it is time to actually create the Lambda function.\n",
    "\n",
    "Using the AWS Console, navigate to the AWS Lambda page and click on **Create a function**. When you get to the next page, make sure that **Author from scratch** is selected. Now, name your Lambda function, using a name that you will remember later on, for example `sentiment_analysis_func`. Make sure that the **Python 3.6** runtime is selected and then choose the role that you created in the previous part. Then, click on **Create Function**.\n",
    "\n",
    "On the next page you will see some information about the Lambda function you've just created. If you scroll down you should see an editor in which you can write the code that will be executed when your Lambda function is triggered. In our example, we will use the code below. \n",
    "\n",
    "```python\n",
    "# We need to use the low-level library to interact with SageMaker since the SageMaker API\n",
    "# is not available natively through Lambda.\n",
    "import boto3\n",
    "\n",
    "def lambda_handler(event, context):\n",
    "\n",
    "    # The SageMaker runtime is what allows us to invoke the endpoint that we've created.\n",
    "    runtime = boto3.Session().client('sagemaker-runtime')\n",
    "\n",
    "    # Now we use the SageMaker runtime to invoke our endpoint, sending the review we were given\n",
    "    response = runtime.invoke_endpoint(EndpointName = '**ENDPOINT NAME HERE**',    # The name of the endpoint we created\n",
    "                                       ContentType = 'text/plain',                 # The data format that is expected\n",
    "                                       Body = event['body'])                       # The actual review\n",
    "\n",
    "    # The response is an HTTP response whose body contains the result of our inference\n",
    "    result = response['Body'].read().decode('utf-8')\n",
    "\n",
    "    return {\n",
    "        'statusCode' : 200,\n",
    "        'headers' : { 'Content-Type' : 'text/plain', 'Access-Control-Allow-Origin' : '*' },\n",
    "        'body' : result\n",
    "    }\n",
    "```\n",
    "\n",
    "Once you have copy and pasted the code above into the Lambda code editor, replace the `**ENDPOINT NAME HERE**` portion with the name of the endpoint that we deployed earlier. You can determine the name of the endpoint using the code cell below."
   ]
  },
  {
   "cell_type": "code",
   "execution_count": 79,
   "metadata": {},
   "outputs": [
    {
     "data": {
      "text/plain": [
       "'sagemaker-pytorch-2019-11-29-00-43-56-161'"
      ]
     },
     "execution_count": 79,
     "metadata": {},
     "output_type": "execute_result"
    }
   ],
   "source": [
    "predictor.endpoint"
   ]
  },
  {
   "cell_type": "markdown",
   "metadata": {},
   "source": [
    "Once you have added the endpoint name to the Lambda function, click on **Save**. Your Lambda function is now up and running. Next we need to create a way for our web app to execute the Lambda function.\n",
    "\n",
    "### Setting up API Gateway\n",
    "\n",
    "Now that our Lambda function is set up, it is time to create a new API using API Gateway that will trigger the Lambda function we have just created.\n",
    "\n",
    "Using AWS Console, navigate to **Amazon API Gateway** and then click on **Get started**.\n",
    "\n",
    "On the next page, make sure that **New API** is selected and give the new api a name, for example, `sentiment_analysis_api`. Then, click on **Create API**.\n",
    "\n",
    "Now we have created an API, however it doesn't currently do anything. What we want it to do is to trigger the Lambda function that we created earlier.\n",
    "\n",
    "Select the **Actions** dropdown menu and click **Create Method**. A new blank method will be created, select its dropdown menu and select **POST**, then click on the check mark beside it.\n",
    "\n",
    "For the integration point, make sure that **Lambda Function** is selected and click on the **Use Lambda Proxy integration**. This option makes sure that the data that is sent to the API is then sent directly to the Lambda function with no processing. It also means that the return value must be a proper response object as it will also not be processed by API Gateway.\n",
    "\n",
    "Type the name of the Lambda function you created earlier into the **Lambda Function** text entry box and then click on **Save**. Click on **OK** in the pop-up box that then appears, giving permission to API Gateway to invoke the Lambda function you created.\n",
    "\n",
    "The last step in creating the API Gateway is to select the **Actions** dropdown and click on **Deploy API**. You will need to create a new Deployment stage and name it anything you like, for example `prod`.\n",
    "\n",
    "You have now successfully set up a public API to access your SageMaker model. Make sure to copy or write down the URL provided to invoke your newly created public API as this will be needed in the next step. This URL can be found at the top of the page, highlighted in blue next to the text **Invoke URL**."
   ]
  },
  {
   "cell_type": "markdown",
   "metadata": {},
   "source": [
    "## Step 4: Deploying our web app\n",
    "\n",
    "Now that we have a publicly available API, we can start using it in a web app. For our purposes, we have provided a simple static html file which can make use of the public api you created earlier.\n",
    "\n",
    "In the `website` folder there should be a file called `index.html`. Download the file to your computer and open that file up in a text editor of your choice. There should be a line which contains **\\*\\*REPLACE WITH PUBLIC API URL\\*\\***. Replace this string with the url that you wrote down in the last step and then save the file.\n",
    "\n",
    "Now, if you open `index.html` on your local computer, your browser will behave as a local web server and you can use the provided site to interact with your SageMaker model.\n",
    "\n",
    "If you'd like to go further, you can host this html file anywhere you'd like, for example using github or hosting a static site on Amazon's S3. Once you have done this you can share the link with anyone you'd like and have them play with it too!\n",
    "\n",
    "> **Important Note** In order for the web app to communicate with the SageMaker endpoint, the endpoint has to actually be deployed and running. This means that you are paying for it. Make sure that the endpoint is running when you want to use the web app but that you shut it down when you don't need it, otherwise you will end up with a surprisingly large AWS bill.\n",
    "\n",
    "**TODO:** Make sure that you include the edited `index.html` file in your project submission."
   ]
  },
  {
   "cell_type": "markdown",
   "metadata": {},
   "source": [
    "Now that your web app is working, trying playing around with it and see how well it works.\n",
    "\n",
    "**Question**: Give an example of a review that you entered into your web app. What was the predicted sentiment of your example review?"
   ]
  },
  {
   "cell_type": "markdown",
   "metadata": {},
   "source": [
    "**Answer:**I entered \"real amazing movie\" and review was \"Your review was POSITIVE!\"\n"
   ]
  },
  {
   "cell_type": "markdown",
   "metadata": {},
   "source": [
    "### Delete the endpoint\n",
    "\n",
    "Remember to always shut down your endpoint if you are no longer using it. You are charged for the length of time that the endpoint is running so if you forget and leave it on you could end up with an unexpectedly large bill."
   ]
  },
  {
   "cell_type": "code",
   "execution_count": 80,
   "metadata": {},
   "outputs": [],
   "source": [
    "predictor.delete_endpoint()"
   ]
  },
  {
   "cell_type": "code",
   "execution_count": null,
   "metadata": {},
   "outputs": [],
   "source": []
  }
 ],
 "metadata": {
  "kernelspec": {
   "display_name": "conda_pytorch_p36",
   "language": "python",
   "name": "conda_pytorch_p36"
  },
  "language_info": {
   "codemirror_mode": {
    "name": "ipython",
    "version": 3
   },
   "file_extension": ".py",
   "mimetype": "text/x-python",
   "name": "python",
   "nbconvert_exporter": "python",
   "pygments_lexer": "ipython3",
   "version": "3.6.5"
  }
 },
 "nbformat": 4,
 "nbformat_minor": 2
}
